{
 "cells": [
  {
   "cell_type": "markdown",
   "metadata": {},
   "source": [
    "# Advanced programming for data science 2612\n",
    "\n",
    "## 2122 Exam, practical component\n",
    "\n",
    "## RENAME THIS FILE AS #####\\_Exam2612.ipynb where ##### is your student number!!!\n",
    "\n",
    "* The exam is accompanied by a quiz in Moodle.\n",
    "* The practical component is 80% of the total grade of the exam. The Quiz is thus 20% of the total grade of the exam.\n",
    "* The quiz will test the more theoretical elements of the course.\n",
    "* The quiz has a similar structure to previous quizes. You should spend 20 minutes on the quiz and the remaining here.\n",
    "* The total duration of the exam, 2 hours, is shared between quiz and this practical component."
   ]
  },
  {
   "cell_type": "markdown",
   "metadata": {},
   "source": [
    "---\n",
    "<div class=\"alert alert-danger\">\n",
    "    <b>Make sure you have the following packages: numpy, matplotlib, pandas. python>=3.8, jupyter-lab=3.0.<b>\n",
    "</div>"
   ]
  },
  {
   "cell_type": "markdown",
   "metadata": {},
   "source": [
    "<div class=\"alert alert-danger\">\n",
    "    <b>When instructed about a method of a class having \"no inputs\", remember we are not including \"self\". The \"self\" parameter should always be the first input of methods inside classes.<b>\n",
    "</div>"
   ]
  },
  {
   "cell_type": "markdown",
   "metadata": {},
   "source": [
    "<div class=\"alert alert-warning\">\n",
    "    <b>You may do things in a manner where you get a pandas warning for setting values in a dataframe. It is fine, just make sure the values are correct.<b>\n",
    "</div>"
   ]
  },
  {
   "cell_type": "markdown",
   "metadata": {},
   "source": [
    "---\n",
    "## Welcome to micro project CryptoCraze!\n",
    "\n",
    "After buying a monkey NFT, you're feeling like investing in crypto currency. You start to analyze the bitcoin (BTC) trading dataset, to better understand how this currency is traded.\n",
    "\n",
    "During a trading day, there is an opening and a close of the trading sessions. During the trading session the price of the traded object fluctuates. The fluctuations are due to a lot of factors like breaking news, popularity of BTC, social media influencers discussing the topic, etc..\n",
    "\n",
    "The data dictionary for the data set is as follows:\n",
    "\n",
    "* date: The day of the trade\n",
    "* Open: Price of the BTC at opening time for trading operations.\n",
    "* High: Highest price of the BTC during the trading period.\n",
    "* Low: Lowest price of the BTC during the trading period.\n",
    "* Close: Price of the BTC at closing time for trading operations.\n",
    "* Adj Close: Adjusted price of the BTC, after taking into account corporate actions (not relevant). \n",
    "* Volume: the total ammount of trading, in USD$.\n",
    "\n",
    "You are a Data Scientist and you want to make some money.\n",
    "\n",
    "Although you are not an expert on cryptocurrencies, you know your way around data, and you love programming.\n",
    "\n",
    "The dataset for the trades is in the __BTC-USD.csv__ file. With it, you are going to try and discover some aspects of BTC trading."
   ]
  },
  {
   "cell_type": "markdown",
   "metadata": {},
   "source": [
    "---\n",
    "# 1-Importing the data (10%)\n",
    "1. Import pandas, numpy, and matpotlib. You may also import seaborn if it helps you with plots.\n",
    "1. Read the dataset into a pandas dataframe. Does the data format look correct? Make sure you read the dataframe with the correct __delimiter__. Print the head() of the dataframe to be sure.\n",
    "1. You know the dataset contains data from 17 November 2014 to 28 January 2022. Use datetime to get a correct time interval. Set the date columns as the index of the dataframe."
   ]
  },
  {
   "cell_type": "code",
   "execution_count": null,
   "metadata": {},
   "outputs": [],
   "source": []
  },
  {
   "cell_type": "markdown",
   "metadata": {},
   "source": [
    "---"
   ]
  },
  {
   "cell_type": "markdown",
   "metadata": {},
   "source": [
    "# 2-Class for Data exploration\n",
    "\n",
    "You decide to create a class for the analysis process. This way you're going to be ready to make a showcase notebook.\n",
    "\n",
    "## 2.1 - The \\_\\_init\\_\\_ (40%)\n",
    "\n",
    "1. Write a class called Crypto1. In the \\_\\_init\\_\\_ method import the dataframe like you did before. The init() method should have four parameters, \"file_name\", \"delimiter\", \"date_format\", and \"date_column\". The first argument, \"file_name\", does not have a default value. The same for date_column. The other arguments have a default value of ```None```. The dataframe should now be a parameter of the class (i.e. self.df = ... or self.data = ..., be consistent with the name).\n",
    "1. If the file is not found, the __init__ method should raise a FileNotFoundError stating which file it could not find.\n",
    "1. Convert the \"date_column\" into datetime and set it as the index of the dataframe.\n",
    "1. Use an appropriate docstring where you list the parameters and their types (no time to write a description!). Example ```file_name: str```\n",
    "1. Create an instance of Crypto1 called btc1 where you open the dataset.\n",
    "1. Print the head() of the dataframe from your instance."
   ]
  },
  {
   "cell_type": "code",
   "execution_count": null,
   "metadata": {},
   "outputs": [],
   "source": []
  },
  {
   "cell_type": "markdown",
   "metadata": {},
   "source": [
    "---"
   ]
  },
  {
   "cell_type": "markdown",
   "metadata": {},
   "source": [
    "## 2.2 - The candlestick method. (20%)\n",
    "\n",
    "1. Copy paste Crypto1 into a following cell and rename it Crypto2. This is meant to symbolize git commits and to make sure you can quickly recover from bad copy pastes.\n",
    "1. After some investigation, you discover python has a tool that will help you better analyse financial data. You decide to install it:\n",
    "```\n",
    "conda install -c conda forge mplfinance\n",
    "```\n",
    "1. Import the new module\n",
    "```\n",
    "import mplfinance as mpf\n",
    "```\n",
    "1. Add a method to Crypto2 called \"candlestick\". It must have an argument called \"npts\" with a default value of 50.\n",
    "1. If the type of value \"npts\" receives is not an int, it must return a value error.\n",
    "1. After reading the documentation you decide \"candlestick_tail\" must return the tail() of the dataframe it reads. The \"npts\" variable is the number of points from the dataframe. Use the following function, where * represents the correct way to plot the npts from the tail of the dataframe. \n",
    "```\n",
    "mpf.plot(*, type='candle', style='charles')\n",
    "```\n",
    "1. Make a simple docstring for this method\n",
    "1. Run the \"candlestick\" method so you can plot the latest transactions. Choose the latest 100 days.\n",
    "1. Candlesticks in red represent daily decreases in price, candlesticks in green represent increases in price.\n",
    "\n",
    "<div class=\"alert alert-warning\">\n",
    "    <b>Is the overall price trend of BTC upwards or downwards?<b>\n",
    "</div>"
   ]
  },
  {
   "cell_type": "code",
   "execution_count": null,
   "metadata": {},
   "outputs": [],
   "source": []
  },
  {
   "cell_type": "markdown",
   "metadata": {},
   "source": [
    "---"
   ]
  },
  {
   "cell_type": "markdown",
   "metadata": {},
   "source": [
    "## 2.3 - The trend_analysis method (10%)\n",
    "\n",
    "1. Copy paste Crypto2 into a following cell and rename it Crypto3. This is meant to symbolize git commits and to make sure you can quickly recover from bad copy pastes.\n",
    "1. Add a trend_analysis() method for your class. The trend analysis must have 3 arguments: a \"lower_bound\" and an \"upper_bound\" without default values and the same \"npts=50\" argument as the candlestick() method.\n",
    "1. After browsing in mplfinance documentation, you must now add the following snippet to this new method, where * is the same as the candlestick method:\n",
    "```\n",
    "fig, ax = mpf.plot(*,\n",
    "                   type='line',\n",
    "                   mav=(7, 14),\n",
    "                   returnfig=True)\n",
    "```\n",
    "1. Add a red and a green horizontal line to the plot. The red line should be placed at \"lower_bound\" and the green should be placed at \"upper_bound\"\n",
    "```\n",
    "ax[0].axhline(...)\n",
    "```\n",
    "1. The __mav__ parameter holds a parameter for moving averages: (7, 14) means a 7 day moving average and 14 represents a 14 day moving average.\n",
    "1. After some research, you find that the lower bound should be 15000 and the uppwer bound should be 50000.\n",
    "1. Look at the moving averages for the last 700 days of the dataset. When was the last good moment to buy BTC and when was the first good moment to sell BTC, according to your research? This is the moment when the trends goes above the lower bound and the moment when the trends reach the upper bound (just use the closest plot tick)"
   ]
  },
  {
   "cell_type": "code",
   "execution_count": null,
   "metadata": {},
   "outputs": [],
   "source": []
  },
  {
   "cell_type": "markdown",
   "metadata": {},
   "source": [
    "---"
   ]
  },
  {
   "cell_type": "markdown",
   "metadata": {},
   "source": [
    "## 2.4 - The report method (20%)\n",
    "\n",
    "1. Copy paste Crypto3 into a following cell and rename it Crypto4. This is meant to symbolize git commits and to make sure you can quickly recover from bad copy pastes.\n",
    "1. You decide to make a report() method, as you may use this class for other types of cryptocurrency or stock trading types.\n",
    "1. The report method should __display__ 3 things:\n",
    "    * A __description__ of the dataframe.\n",
    "    * The index of the dataframe corresponding to the __maximum__ values of the columns.\n",
    "    * The index of the dataframe corresponding to the __mminimum__ values of the columns.\n",
    "\n",
    "<div class=\"alert alert-warning\" role=\"alert\">\n",
    "    <b>Answer the following questions after running the report() method.<b>\n",
    "</div>\n",
    "\n",
    "1. What is the mean of the values of BTC at opening time for trade sessions, rounded to unities?\n",
    "1. When did Volume reached its highest value?\n",
    "1. When was the minimum value for Low reached?\n"
   ]
  },
  {
   "cell_type": "code",
   "execution_count": null,
   "metadata": {},
   "outputs": [],
   "source": []
  }
 ],
 "metadata": {
  "kernelspec": {
   "display_name": "Python 3 (ipykernel)",
   "language": "python",
   "name": "python3"
  },
  "language_info": {
   "codemirror_mode": {
    "name": "ipython",
    "version": 3
   },
   "file_extension": ".py",
   "mimetype": "text/x-python",
   "name": "python",
   "nbconvert_exporter": "python",
   "pygments_lexer": "ipython3",
   "version": "3.10.2"
  }
 },
 "nbformat": 4,
 "nbformat_minor": 4
}
