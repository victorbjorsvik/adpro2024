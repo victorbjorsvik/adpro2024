{
 "cells": [
  {
   "cell_type": "markdown",
   "metadata": {},
   "source": [
    "# 01.3 Style guides: Pep8"
   ]
  },
  {
   "cell_type": "markdown",
   "metadata": {},
   "source": [
    "---"
   ]
  },
  {
   "cell_type": "markdown",
   "metadata": {},
   "source": [
    "_\"Code if read much more often than it is written.\"_ - Guido van Rossum, creator of python"
   ]
  },
  {
   "cell_type": "code",
   "execution_count": null,
   "metadata": {},
   "outputs": [],
   "source": [
    "import this"
   ]
  },
  {
   "cell_type": "markdown",
   "metadata": {},
   "source": [
    "---"
   ]
  },
  {
   "cell_type": "markdown",
   "metadata": {},
   "source": [
    "Why is it so important to make the code easy to read?\n",
    "\n",
    "We want our code to be used. We want to use the code of others. There are several conventions on how to write legible code. One of such best practices we introduce today is __PEP8__. You can read about it [here](https://www.python.org/dev/peps/pep-0008/).\n",
    "\n",
    "There are several conventions for writing code, depending on the language of your choice.\n",
    "\n",
    "When it comes to naming variables, functions, etc., we must first declare three different styles:\n",
    "\n",
    "| Style name | Description | Example |\n",
    "|---|---|---|\n",
    "| snake_case | All small caps, words separated by underscore | my_function |\n",
    "| PascalCase | First letter of each word capitalised, no separation | MyClass |\n",
    "| camelCase | First letter of each word capitalised, except first letter of first word | groupBy |\n",
    "\n",
    "The style __camelCase__ is the *de facto* case for pyspark, which we will use in the [Scalable computing class](06-Scale.ipynb).\n",
    "\n",
    "First we have __naming conventions__:\n",
    "\n",
    "| Type | Convention | Example |\n",
    "|---|---|---|\n",
    "| Function | Lowercase word or words in snake_case | function, my_function | \n",
    "| Variable | Lowercase single letter, word, or words in snake_case |x, var, my_variable |\n",
    "| Class | Pascal case | Model, MyClass |\n",
    "| Method | Lowercase word or words in snake_case | class_method, method |\n",
    "| Constant | Uppercase single letter, word, or words. Separate words with underscores | CONSTANT, MY_CONSTANT, LIGHT_SPEED |\n",
    "| Module | Snake case | module.py, my_module.py |\n",
    "| Package | Sort, lowercase word or words, not separated with underscores| package, mypackage |\n",
    "\n",
    "And now, we have __some guidelines__:\n",
    "\n",
    "1. Use 4 spaces per indentation level.\n",
    "1. Limit all lines to a maximum of 79 characters.\n",
    "1. Surround top-level function and class definitions with two blank lines.\n",
    "1. Imports should usually be on separate lines.\n",
    "1. Imports are always put at the top of the file, just after any module comments and docstrings, and before module globals and constants.\n",
    "1. Avoid extraneous whitespace in the following situations:\n",
    "    1. Immediately inside parentheses, brackets or braces.\n",
    "    1. Between a trailing comma and a following close parenthesis.\n",
    "    1. Immediately before the open parenthesis that starts the argument list of a function call.\n",
    "1. Always end files on a new line.\n",
    "    \n",
    "The most important thing you need to remember is that it is possible in some corner cases where the convention makes no sense to be applied."
   ]
  },
  {
   "cell_type": "markdown",
   "metadata": {},
   "source": [
    "---"
   ]
  },
  {
   "cell_type": "markdown",
   "metadata": {},
   "source": [
    "## Code formatters"
   ]
  },
  {
   "cell_type": "markdown",
   "metadata": {},
   "source": [
    "Enforcing styles is hard. To assure our code is legible we use __Black__ or __pylint__ or both.\n",
    "\n",
    "__Black__ is an automated code formatter that enforces your code is compliant with PEP8. It alters the code of your function to be PEP8 compliant. \n",
    "\n",
    "__pylint__ is more radical code checker. It performs analysis and reports on what you should change. It does not perform any changes for you. It also rates your code, where a 10 means a completly compliant PEP8 code."
   ]
  },
  {
   "cell_type": "markdown",
   "metadata": {},
   "source": [
    "We will now run a small demo in the Linting directory."
   ]
  },
  {
   "cell_type": "markdown",
   "metadata": {},
   "source": [
    "<div class=\"alert alert-info\"> \n",
    "    <br>\n",
    "    <b>Make a module with a simple function and verify what Black and pylint do.</b>   \n",
    "    <br>\n",
    "    <br>\n",
    "</div>"
   ]
  }
 ],
 "metadata": {
  "kernelspec": {
   "display_name": "Python 3 (ipykernel)",
   "language": "python",
   "name": "python3"
  },
  "language_info": {
   "codemirror_mode": {
    "name": "ipython",
    "version": 3
   },
   "file_extension": ".py",
   "mimetype": "text/x-python",
   "name": "python",
   "nbconvert_exporter": "python",
   "pygments_lexer": "ipython3",
   "version": "3.11.7"
  }
 },
 "nbformat": 4,
 "nbformat_minor": 4
}
