{
 "cells": [
  {
   "cell_type": "markdown",
   "metadata": {},
   "source": [
    "# 01 Object Oriented Programming"
   ]
  },
  {
   "cell_type": "markdown",
   "metadata": {},
   "source": [
    "---"
   ]
  },
  {
   "cell_type": "markdown",
   "metadata": {},
   "source": [
    "## Introduction"
   ]
  },
  {
   "cell_type": "markdown",
   "metadata": {},
   "source": [
    "### The early days"
   ]
  },
  {
   "cell_type": "markdown",
   "metadata": {},
   "source": [
    "Early programming languages access and manipulate memory registries directly. You would write code that would directly instruct what operations would be performed in-memory. This is an example of an early programme, written in fortran. It is a punched card that would instruct how computations would be addressed register by register."
   ]
  },
  {
   "cell_type": "markdown",
   "metadata": {},
   "source": [
    "<img src=\"../Figures/punchedcard.jpg\">\n",
    "By Arnold Reinhold - I took this picture of an artifact in my possession. The card was created in the late 1960s or early 1970s and has no copyright notice., <a href=\"https://creativecommons.org/licenses/by-sa/2.5\" title=\"Creative Commons Attribution-Share Alike 2.5\">CC BY-SA 2.5</a>, <a href=\"https://commons.wikimedia.org/w/index.php?curid=775153\">Link</a>"
   ]
  },
  {
   "cell_type": "markdown",
   "metadata": {},
   "source": [
    "### Levelling up"
   ]
  },
  {
   "cell_type": "markdown",
   "metadata": {},
   "source": [
    "To enable more complex operations and make programming accessible to everyone other than someone with an intimate knowledge of how machine memory works, compiled languages were developed. In a compiled language, the code is closer to human sentences, and a translator, known as __compiler__ converts it into machine language:\n",
    "\n",
    "```c\n",
    "#include <stdio.h>\n",
    "\n",
    "void main():\n",
    "{    \n",
    "    printf(\"Hello world!\\n\");\n",
    "}\n",
    "```\n",
    "\n",
    "This is the famous \"Hello World\" function written in C. This simple code would print the famous message into the screen.\n",
    "\n",
    "We are now at a __higher level of programming__. We can easily develop code that would tremendously hard to \"punch through\" in a card. As we drift away from machine language, or very low level, we can easily think immediatly of simple functions such as additions, quadratures, interpolations, etc.. We can develop more complex code. "
   ]
  },
  {
   "cell_type": "markdown",
   "metadata": {},
   "source": [
    "### Compiled vs Interpreted"
   ]
  },
  {
   "cell_type": "markdown",
   "metadata": {},
   "source": [
    "Let's go further up in \"level\". Sometimes there may be a blurred line between __compiled__ and __interpreted__ languages. A purely compiled language is only ever capable of producing executables after compilation. You have your code, you translate it into machine language, you link it with libraries, and you finally produce an executable. If you alter some feature in your code, you have to compile it again to reflect it in the executable."
   ]
  },
  {
   "cell_type": "markdown",
   "metadata": {},
   "source": [
    "<img src=\"../Figures/compvsinter.png\">"
   ]
  },
  {
   "cell_type": "markdown",
   "metadata": {},
   "source": [
    "Taken from [quora](www.quora.com)"
   ]
  },
  {
   "cell_type": "markdown",
   "metadata": {},
   "source": [
    "In an interpreted language, such as __python__, you are contantly interacting with a programme that immediately converts it into machine code and executes it. While developing simple code becomes much easier, code performance is much worse than compiled languages. Python also has compilations to increase performance, via __.pyc__ files. There are other downsides to interpreted languages, as you must keep track of what your __variables__ and __functions__ are storing and doing, respectively.\n",
    "\n",
    "The choice of language usually depends on finality: what you are aiming to do. Want to programme some acquisition boards on how to store memory and react to triggers? You probably need the performance for the low-level instructions you will need to execute. Want to develop a data analysis pipeline where you can easily inspect what your code is doing every step of the way? Then you will probably choose python and that is why you enrolled in this class."
   ]
  },
  {
   "cell_type": "code",
   "execution_count": 1,
   "metadata": {},
   "outputs": [],
   "source": [
    "a = 1"
   ]
  },
  {
   "cell_type": "code",
   "execution_count": 2,
   "metadata": {},
   "outputs": [
    {
     "name": "stdout",
     "output_type": "stream",
     "text": [
      "1\n"
     ]
    }
   ],
   "source": [
    "print(a)"
   ]
  },
  {
   "cell_type": "code",
   "execution_count": 3,
   "metadata": {},
   "outputs": [],
   "source": [
    "a = 2"
   ]
  },
  {
   "cell_type": "markdown",
   "metadata": {},
   "source": [
    "### Objects"
   ]
  },
  {
   "cell_type": "markdown",
   "metadata": {},
   "source": [
    "In some software projects of medium to large scale, keeping track of __variables and functions__ can be cumbersome. You may even repeat several parts of your code, which will make it much harder to maintain and debug.\n",
    "\n",
    "Instead of having variables and functions, when contained of referring to an object, we usually call them:  \n",
    "variables &rarr; attributes  \n",
    "functions &rarr; methods"
   ]
  },
  {
   "cell_type": "markdown",
   "metadata": {},
   "source": [
    "[We are now going to take a demo to make the latter concepts clearer.](01.1-ObjectOrientedProgramming.ipynb)"
   ]
  }
 ],
 "metadata": {
  "kernelspec": {
   "display_name": "Python 3 (ipykernel)",
   "language": "python",
   "name": "python3"
  },
  "language_info": {
   "codemirror_mode": {
    "name": "ipython",
    "version": 3
   },
   "file_extension": ".py",
   "mimetype": "text/x-python",
   "name": "python",
   "nbconvert_exporter": "python",
   "pygments_lexer": "ipython3",
   "version": "3.11.7"
  }
 },
 "nbformat": 4,
 "nbformat_minor": 4
}
