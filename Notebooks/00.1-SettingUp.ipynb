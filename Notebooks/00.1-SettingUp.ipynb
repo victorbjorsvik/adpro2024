{
 "cells": [
  {
   "cell_type": "markdown",
   "metadata": {},
   "source": [
    "# Setting Up for the classes\n",
    "\n",
    "---"
   ]
  },
  {
   "cell_type": "markdown",
   "metadata": {},
   "source": [
    "As we will understand further ahead, it is important everyone has the same configurations. Regardless of Operating System, library versions previously installed, or installation method.\n",
    "\n",
    "The recommended setup for the classes is as follows:\n",
    "\n",
    "1. [Download Conda for your operating system.](https://www.anaconda.com/products/individual)\n",
    "1. [Install, following the instructions.](https://docs.anaconda.com/anaconda/user-guide/getting-started/)\n",
    "1. Use either the [anaconda navigator](https://docs.anaconda.com/anaconda/navigator/) or the [command line prompt](https://docs.conda.io/projects/conda/en/latest/user-guide/tasks/manage-environments.html) to create an environment called `adpro`.\n",
    "1. Make sure you install some basic tools we will use. The list follows:\n",
    "    * jupyterlab\n",
    "    * pandas\n",
    "    * pytest\n",
    "    * flake8\n",
    "    * pep8\n",
    "    * mypy\n",
    "    * matplotlib\n",
    "    * numpy\n",
    "    * sphinx\n",
    "\n",
    "A command line example is:\n",
    "```bash\n",
    "conda create --name adpro jupyterlab pandas pytest flake8 pep8 mypy matplotlib numpy sphinx\n",
    "conda activate adpro\n",
    "```\n",
    "---\n",
    "We will also need to install git later on. If you are running Windows, please install [this package](https://git-scm.com/download/win) which also contains an instance of Bash (we'll get to this soon). If you have Linux ir Mac OS, please install git via your usual package management tool."
   ]
  }
 ],
 "metadata": {
  "kernelspec": {
   "display_name": "Python 3 (ipykernel)",
   "language": "python",
   "name": "python3"
  },
  "language_info": {
   "codemirror_mode": {
    "name": "ipython",
    "version": 3
   },
   "file_extension": ".py",
   "mimetype": "text/x-python",
   "name": "python",
   "nbconvert_exporter": "python",
   "pygments_lexer": "ipython3",
   "version": "3.10.1"
  }
 },
 "nbformat": 4,
 "nbformat_minor": 4
}
