{
 "cells": [
  {
   "cell_type": "markdown",
   "metadata": {},
   "source": [
    "# Setting Up for the classes\n",
    "\n",
    "---"
   ]
  },
  {
   "cell_type": "markdown",
   "metadata": {},
   "source": [
    "As we will understand further ahead, it is important everyone has the same configurations. Regardless of Operating System, library versions previously installed, or installation method.\n",
    "\n",
    "The recommended setup for the classes is as follows:\n",
    "\n",
    "1. [Download Conda for your operating system.](https://www.anaconda.com/products/individual)\n",
    "1. [Install, following the instructions.](https://docs.anaconda.com/anaconda/user-guide/getting-started/)\n",
    "1. Use either the [anaconda navigator](https://docs.anaconda.com/anaconda/navigator/) or the [command line prompt](https://docs.conda.io/projects/conda/en/latest/user-guide/tasks/manage-environments.html) to create an environment called `adpro`. If you opt for the terminal way be sure that on Windows you use the `anaconda power shell`. On Linux and MAC, use the regular terminal: **There can be several issues with your MAC/Linux shell. If you are unsure of what to do, we can arrange a quick VC to set it up.**\n",
    "2. Also, if you opt for the terminal route **which is encouraged**, follow the \"Simple step by step\" guide just after this list.\n",
    "1. Make sure you install some basic tools we will use. The list follows:\n",
    "    * jupyterlab\n",
    "    * pandas\n",
    "    * pytest\n",
    "    * flake8\n",
    "    * pep8\n",
    "    * mypy\n",
    "    * matplotlib\n",
    "    * numpy\n",
    "    * sphinx\n",
    "\n",
    "These are pretty mature tools. If you install them in the wrong environment, don't worry, the chance for them to break anything is very small.\n",
    "\n",
    "## Simple step by step command line guide to set up after you install anaconda\n",
    "\n",
    "An example for a command line inside the Anaconda Power Shell/Terminal is:  \n",
    "```\n",
    "conda create --name adpro jupyterlab pandas pytest flake8 pep8 mypy matplotlib numpy sphinx\n",
    "```\n",
    "\n",
    "Afterwards, activate the environment on the command line:  \n",
    "```\n",
    "conda activate adpro\n",
    "```\n",
    "\n",
    "If the anaconda installation was successful, you should be able to see an `(adpro)` string in the command line, before your username.  \n",
    "Then, just run the following:\n",
    "```\n",
    "python -m ipykernel install --user --name adpro --display-name \"adpro\"\n",
    "```\n",
    "\n",
    "From now on, every time you run jupyter lab you should be able to start the kernel for this class. To remove this from jupyter lab, just rum\n",
    "```\n",
    "jupyter kernelspec uninstall adpro\n",
    "```\n",
    "\n",
    "\n",
    "\n",
    "---\n",
    "We will also need to install git later on. If you are running Windows, please install [this package](https://git-scm.com/download/win) which also contains an instance of Bash (we'll get to this soon). If you have Linux or Mac OS, please install git via your usual package management tool."
   ]
  }
 ],
 "metadata": {
  "kernelspec": {
   "display_name": "Python 3 (ipykernel)",
   "language": "python",
   "name": "python3"
  },
  "language_info": {
   "codemirror_mode": {
    "name": "ipython",
    "version": 3
   },
   "file_extension": ".py",
   "mimetype": "text/x-python",
   "name": "python",
   "nbconvert_exporter": "python",
   "pygments_lexer": "ipython3",
   "version": "3.11.7"
  }
 },
 "nbformat": 4,
 "nbformat_minor": 4
}
