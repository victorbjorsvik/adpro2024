{
 "cells": [
  {
   "cell_type": "markdown",
   "metadata": {},
   "source": [
    "# 02.3 Enforcing correct variable types, part 2\n",
    "## Introduction to error handling: Exceptions\n",
    "\n",
    "We now segue into an important topic of programming: Exceptions. \n",
    "\n",
    "__Handling errors is much more than just enforcing correct variable types.__ It is about enforcing proper code usage, the way you designed it.\n",
    "\n",
    "You probably must have noticed the red area that pops up when one codes something the interperter cannot handle. Let us do a couple of examples with famous errors."
   ]
  },
  {
   "cell_type": "code",
   "execution_count": null,
   "metadata": {},
   "outputs": [],
   "source": [
    "1+1\n",
    "1/0\n",
    "2-1"
   ]
  },
  {
   "cell_type": "code",
   "execution_count": null,
   "metadata": {},
   "outputs": [],
   "source": [
    "for i in range(5)\n",
    "    print(i)"
   ]
  },
  {
   "cell_type": "markdown",
   "metadata": {},
   "source": [
    "The first case is a division by zero, which is not defined mathematically. The second case is a syntax error. The syntax of the first error is correct, which means the code is correctly written, the interpreter recognizes it, and has a special was of handling that particular situation. In the second case, the interpreter is not able to understand what you have written. The __Traceback__ points to the place in your code where the first exception the interpreter finds occurs."
   ]
  },
  {
   "cell_type": "markdown",
   "metadata": {},
   "source": [
    "### Types of exceptions\n",
    "\n",
    "The types of exceptions are vast in number. The process of coding can meet many obstacles."
   ]
  },
  {
   "cell_type": "code",
   "execution_count": null,
   "metadata": {},
   "outputs": [],
   "source": [
    "def classtree(cls, indent=0):\n",
    "    print('.' * indent, cls.__name__)\n",
    "    for subcls in cls.__subclasses__():\n",
    "        classtree(subcls, indent + 3)\n",
    "\n",
    "classtree(BaseException)"
   ]
  },
  {
   "cell_type": "markdown",
   "metadata": {},
   "source": [
    "Let's get back on track. We are trying to make the following function do as advertised, and nothing else."
   ]
  },
  {
   "cell_type": "code",
   "execution_count": null,
   "metadata": {},
   "outputs": [],
   "source": [
    "def my_func(my_var: int = 2, my_text: str = 'Blah!') -> str:\n",
    "    \"\"\"\n",
    "    Replicates a string assigned in 'my_text' a number of times in 'my_var'\n",
    "    \n",
    "    Parameters\n",
    "    ---------------\n",
    "    my_var: int\n",
    "        The number of times to replicate the input string\n",
    "    my_text: string\n",
    "        The string to be replicated\n",
    "        \n",
    "    Returns\n",
    "    ---------------\n",
    "    my_output: string\n",
    "        The 'my_text' string replicated 'my_var' times\n",
    "    \n",
    "    \"\"\"\n",
    "    \n",
    "    my_output = my_var * my_text\n",
    "    \n",
    "    return my_output"
   ]
  },
  {
   "cell_type": "markdown",
   "metadata": {},
   "source": [
    "Remember, at this point, this is still possible, with all the hard work you placed in it so far."
   ]
  },
  {
   "cell_type": "code",
   "execution_count": null,
   "metadata": {},
   "outputs": [],
   "source": [
    "my_func(2, 3)"
   ]
  },
  {
   "cell_type": "markdown",
   "metadata": {},
   "source": [
    "Should you wish the function to not display this behaviour, then you must __raise an exception__. Look at the existing types of exceptions and try to figure out what kind of error this is."
   ]
  },
  {
   "cell_type": "code",
   "execution_count": null,
   "metadata": {},
   "outputs": [],
   "source": [
    "a = 3\n",
    "b = 'String'\n",
    "\n",
    "if type(a) not in [int, float]:\n",
    "    raise TypeError(\"Variable 'a' is not int or float.\")\n",
    "    \n",
    "print(a * b)"
   ]
  },
  {
   "cell_type": "code",
   "execution_count": null,
   "metadata": {},
   "outputs": [],
   "source": [
    "a = 'Duck'\n",
    "b = 'String'\n",
    "\n",
    "if type(a) not in [int, float]:\n",
    "    raise TypeError(\"Variable 'a' is not int or float.\")\n",
    "    \n",
    "print(a * b)"
   ]
  },
  {
   "cell_type": "markdown",
   "metadata": {},
   "source": [
    "<div class=\"alert alert-info\"> \n",
    "    <br>\n",
    "    <b>Exercise: include the TypeError handling code into my_func</b>      \n",
    "    <br>\n",
    "    <br>\n",
    "</div>"
   ]
  },
  {
   "cell_type": "code",
   "execution_count": null,
   "metadata": {},
   "outputs": [],
   "source": [
    "# %load ../Functions/my_function_handled.py"
   ]
  },
  {
   "cell_type": "markdown",
   "metadata": {},
   "source": [
    "---"
   ]
  },
  {
   "cell_type": "markdown",
   "metadata": {},
   "source": [
    "## try - except - else - finally\n",
    "\n",
    "Sometimes your programme outputs an error due to an unforeseen circumstance. Sometimes you are planning in advance, expecting a multitude of scenarios to happen. You can't read the future, but you can anticipate some scenarios. And you can plan for those scenarios. With the try/except block, you can already catch many situations where you can design your code to be more robust.\n",
    "\n",
    "We will now see how we can handle most situations where you are already expecting for some extraneous situations to happen.\n",
    "\n",
    "If you are expecting a part of your code to fail because some conditions are not met, like if a file exists, you can make a ```try``` attempt."
   ]
  },
  {
   "cell_type": "code",
   "execution_count": null,
   "metadata": {},
   "outputs": [],
   "source": [
    "with open('duck.csv') as f:\n",
    "    read_data = f.read()"
   ]
  },
  {
   "cell_type": "markdown",
   "metadata": {},
   "source": [
    "As expected, no such file exists in our hard drive.\n",
    "\n",
    "But let's say that we have a default value for the ```read_data``` variable we want to use, so we can continue our programme:"
   ]
  },
  {
   "cell_type": "code",
   "execution_count": null,
   "metadata": {},
   "outputs": [],
   "source": [
    "try:\n",
    "    with open('duck.csv') as f:\n",
    "        read_data = f.read()\n",
    "except:\n",
    "    read_data = 'duck'\n",
    "    \n",
    "print(read_data)"
   ]
  },
  {
   "cell_type": "markdown",
   "metadata": {},
   "source": [
    "What is inside the ```try``` block is always executed. If an error is raised inside the ```try``` block, whatever is inside the ```except``` block will be executed.\n",
    "\n",
    "__However__, let's say there really is a duck.csv file. We left the file stream open, which is a terrible practice. If we open it, we need to close it! So we need to add an ```else``` block!"
   ]
  },
  {
   "cell_type": "markdown",
   "metadata": {},
   "source": [
    "<div class=\"alert alert-success\"> \n",
    "    <br>\n",
    "    <b>Create a file called duck.csv with some text. Run the next block of code.</b>      \n",
    "    <br>\n",
    "    <br>\n",
    "</div>"
   ]
  },
  {
   "cell_type": "code",
   "execution_count": null,
   "metadata": {},
   "outputs": [],
   "source": [
    "try:\n",
    "    with open('duck.csv') as f:\n",
    "        read_data = f.read()\n",
    "except:\n",
    "    read_data = 'duck'\n",
    "    \n",
    "print(read_data)"
   ]
  },
  {
   "cell_type": "markdown",
   "metadata": {},
   "source": [
    "Now we introduce the ```else``` block. It runs if the ```try``` block has ran successfully.\n",
    "\n",
    "As a good practice, we should close down the connection to the file if we actually managed to open it."
   ]
  },
  {
   "cell_type": "code",
   "execution_count": null,
   "metadata": {},
   "outputs": [],
   "source": [
    "try:\n",
    "    with open('duck.csv') as f:\n",
    "        read_data = f.read()\n",
    "except:\n",
    "    read_data = 'duck'\n",
    "else:\n",
    "    f.close()\n",
    "    \n",
    "print(read_data)"
   ]
  },
  {
   "cell_type": "markdown",
   "metadata": {},
   "source": [
    "There is a final block called ```finally```. That always runs, no mater what."
   ]
  },
  {
   "cell_type": "markdown",
   "metadata": {},
   "source": [
    "<div class=\"alert alert-info\"> \n",
    "    <b>Create a function that receives a float and returns that according to the following instructions. Make a try/except/else/finally that:</b><br>\n",
    "    1. try to see if the number larger or equal than 5<br>\n",
    "    2. If it is, subtract 3<br>\n",
    "    3. If it is not add 2<br>\n",
    "    4. finally, always add 1<br>\n",
    "    5. Returns the input variable with those alterations.\n",
    "    <br>\n",
    "</div>"
   ]
  },
  {
   "cell_type": "code",
   "execution_count": null,
   "metadata": {},
   "outputs": [],
   "source": [
    "# %load ../Functions/tryexceptelsefinally.py"
   ]
  },
  {
   "cell_type": "code",
   "execution_count": null,
   "metadata": {},
   "outputs": [],
   "source": [
    "#tryexceptelsefinally(2)"
   ]
  },
  {
   "cell_type": "markdown",
   "metadata": {},
   "source": [
    "---"
   ]
  },
  {
   "cell_type": "markdown",
   "metadata": {},
   "source": [
    "Error handling is hard. Debugging is harder. But we can have [help with pytest](02.4-TestingWithPytest.ipynb)."
   ]
  }
 ],
 "metadata": {
  "kernelspec": {
   "display_name": "Python 3 (ipykernel)",
   "language": "python",
   "name": "python3"
  },
  "language_info": {
   "codemirror_mode": {
    "name": "ipython",
    "version": 3
   },
   "file_extension": ".py",
   "mimetype": "text/x-python",
   "name": "python",
   "nbconvert_exporter": "python",
   "pygments_lexer": "ipython3",
   "version": "3.10.1"
  }
 },
 "nbformat": 4,
 "nbformat_minor": 4
}
