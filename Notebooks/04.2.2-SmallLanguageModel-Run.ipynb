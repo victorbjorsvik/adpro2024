{
 "cells": [
  {
   "cell_type": "markdown",
   "id": "03a75ab8-9317-42e5-bd0b-93e03985f5fa",
   "metadata": {},
   "source": [
    "# 04.2.2 - Virtual Environment Exercise part 2: Run your own Small Language Model\n"
   ]
  },
  {
   "cell_type": "code",
   "execution_count": null,
   "id": "ab5cf6d4-9e86-4f1d-ad69-7127d81d709e",
   "metadata": {},
   "outputs": [],
   "source": [
    "import tensorflow as tf"
   ]
  },
  {
   "cell_type": "code",
   "execution_count": null,
   "id": "b2d65129-279d-4462-b2b0-d39eebc383d1",
   "metadata": {},
   "outputs": [],
   "source": [
    "one_step_reloaded = tf.saved_model.load('../tf/one_step/')"
   ]
  },
  {
   "cell_type": "code",
   "execution_count": null,
   "id": "d9398899-232d-4277-a13f-9b844338d2a7",
   "metadata": {},
   "outputs": [],
   "source": [
    "states = None\n",
    "next_char = tf.constant(['THE GUARDS:'])\n",
    "result = [next_char]\n",
    "\n",
    "for n in range(2000):\n",
    "  next_char, states = one_step_reloaded.generate_one_step(next_char, states=states)\n",
    "  result.append(next_char)\n",
    "\n",
    "print(tf.strings.join(result)[0].numpy().decode(\"utf-8\"))"
   ]
  }
 ],
 "metadata": {
  "kernelspec": {
   "display_name": "Python 3 (ipykernel)",
   "language": "python",
   "name": "python3"
  },
  "language_info": {
   "codemirror_mode": {
    "name": "ipython",
    "version": 3
   },
   "file_extension": ".py",
   "mimetype": "text/x-python",
   "name": "python",
   "nbconvert_exporter": "python",
   "pygments_lexer": "ipython3",
   "version": "3.11.7"
  }
 },
 "nbformat": 4,
 "nbformat_minor": 5
}
