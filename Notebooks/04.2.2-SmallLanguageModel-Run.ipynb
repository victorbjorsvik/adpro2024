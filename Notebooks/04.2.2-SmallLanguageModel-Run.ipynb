{
 "cells": [
  {
   "cell_type": "markdown",
   "id": "03a75ab8-9317-42e5-bd0b-93e03985f5fa",
   "metadata": {},
   "source": [
    "# 04.2.2 - Virtual Environment Exercise part 2: Run your own Small Language Model\n"
   ]
  },
  {
   "cell_type": "code",
   "execution_count": 1,
   "id": "ab5cf6d4-9e86-4f1d-ad69-7127d81d709e",
   "metadata": {},
   "outputs": [
    {
     "name": "stderr",
     "output_type": "stream",
     "text": [
      "2024-01-28 10:51:10.073326: I external/local_tsl/tsl/cuda/cudart_stub.cc:31] Could not find cuda drivers on your machine, GPU will not be used.\n",
      "2024-01-28 10:51:10.199388: E external/local_xla/xla/stream_executor/cuda/cuda_dnn.cc:9261] Unable to register cuDNN factory: Attempting to register factory for plugin cuDNN when one has already been registered\n",
      "2024-01-28 10:51:10.199442: E external/local_xla/xla/stream_executor/cuda/cuda_fft.cc:607] Unable to register cuFFT factory: Attempting to register factory for plugin cuFFT when one has already been registered\n",
      "2024-01-28 10:51:10.224451: E external/local_xla/xla/stream_executor/cuda/cuda_blas.cc:1515] Unable to register cuBLAS factory: Attempting to register factory for plugin cuBLAS when one has already been registered\n",
      "2024-01-28 10:51:10.279356: I external/local_tsl/tsl/cuda/cudart_stub.cc:31] Could not find cuda drivers on your machine, GPU will not be used.\n",
      "2024-01-28 10:51:10.279813: I tensorflow/core/platform/cpu_feature_guard.cc:182] This TensorFlow binary is optimized to use available CPU instructions in performance-critical operations.\n",
      "To enable the following instructions: AVX2 FMA, in other operations, rebuild TensorFlow with the appropriate compiler flags.\n",
      "2024-01-28 10:51:11.286114: W tensorflow/compiler/tf2tensorrt/utils/py_utils.cc:38] TF-TRT Warning: Could not find TensorRT\n"
     ]
    }
   ],
   "source": [
    "import tensorflow as tf\n",
    "\n",
    "import numpy as np\n",
    "import os\n",
    "import time"
   ]
  },
  {
   "cell_type": "code",
   "execution_count": 2,
   "id": "b2d65129-279d-4462-b2b0-d39eebc383d1",
   "metadata": {},
   "outputs": [
    {
     "name": "stderr",
     "output_type": "stream",
     "text": [
      "2024-01-28 10:51:13.233566: I external/local_xla/xla/stream_executor/cuda/cuda_executor.cc:901] successful NUMA node read from SysFS had negative value (-1), but there must be at least one NUMA node, so returning NUMA node zero. See more at https://github.com/torvalds/linux/blob/v6.0/Documentation/ABI/testing/sysfs-bus-pci#L344-L355\n",
      "2024-01-28 10:51:13.252961: W tensorflow/core/common_runtime/gpu/gpu_device.cc:2256] Cannot dlopen some GPU libraries. Please make sure the missing libraries mentioned above are installed properly if you would like to use GPU. Follow the guide at https://www.tensorflow.org/install/gpu for how to download and setup the required libraries for your platform.\n",
      "Skipping registering GPU devices...\n"
     ]
    }
   ],
   "source": [
    "one_step_reloaded = tf.saved_model.load('../tf/one_step')"
   ]
  },
  {
   "cell_type": "code",
   "execution_count": 3,
   "id": "d9398899-232d-4277-a13f-9b844338d2a7",
   "metadata": {},
   "outputs": [
    {
     "name": "stdout",
     "output_type": "stream",
     "text": [
      "THE GUARDS:\n",
      "Is like legs, your good sword, good friends;\n",
      "But he had seized the general house to creature letters.\n",
      "Cords thou unposs'd, that else,\n",
      "pray with extremes are here with me to meet you?\n",
      "\n",
      "Both Citizen:\n",
      "You are never mudded by no care with me?\n",
      "\n",
      "KATHARINA:\n",
      "You are sent for to remember myself: farewell.\n",
      "But, corsention comes!\n",
      "\n",
      "BRAKENBURY:\n",
      "I am content, in wound the news:\n",
      "Or Etward and Lord Garious Marcius,\n",
      "Repeal him to his foe being slain in less,\n",
      "The other make I will accompany up:\n",
      "And yet, my letters, being, trusting men aline;\n",
      "Preserve it, right forsook hie speek;\n",
      "Best death, or lesser nobly of your had beg,\n",
      "Or both still Richard my wife is sick-looked by\n",
      "A place of praises and miseries o' the younger.\n",
      "Now arrive me from such gain as I can be\n",
      "The fish levies a widow: and then you'll swear\n",
      "Shall safe blows into a royal house\n",
      "In the despised master and the neckless of the town;\n",
      "And every tongue be mute with you, and be are\n",
      "government.\n",
      "\n",
      "PROSPERO:\n",
      "Sir, I have done thee with my father breasts\n",
      "His disparagemned coberal lover usuburance,\n",
      "But, as it were, in an voice must be\n",
      "To be revolting we are envoyion wing, mold remitation;\n",
      "You must so vile that to my reign,\n",
      "In precious tarn be arrived intixed\n",
      "By heaven, do thou a vulgar scent:\n",
      "Tranio, for the whole dung of bears,\n",
      "And by the father that her mother's parent?\n",
      "\n",
      "EDWARD:\n",
      "Now Bonappears doth with twenty goodly issue.\n",
      "Let them well and I know eside his own: for my misfortune\n",
      "Must have a power to thrust tongue with her council:\n",
      "But when great Romans-bel, pale! all ignorant,\n",
      "According to this favour attending over.\n",
      "\n",
      "First Gentleman:\n",
      "I shall tell you; sir, I thought it with the deed.\n",
      "\n",
      "BUCKINGHAM:\n",
      "Well, then, even of Behen and these with med\n",
      "lives a husband, and with such chalter's breath.\n",
      "\n",
      "YORK:\n",
      "I wonder, sir, and Bupity;\n",
      "You cannot compett in commission that\n",
      "I cloud my follain stuff a battle where I met, thou\n",
      "lead men from the Duke of Hereford, Romeo, villain,\n",
      "Most worter of the pukes: 'tis sixted nor at him.\n",
      "\n",
      "RICHARD:\n",
      "Let us aff\n"
     ]
    }
   ],
   "source": [
    "states = None\n",
    "next_char = tf.constant(['THE GUARDS:'])\n",
    "result = [next_char]\n",
    "\n",
    "for n in range(2000):\n",
    "  next_char, states = one_step_reloaded.generate_one_step(next_char, states=states)\n",
    "  result.append(next_char)\n",
    "\n",
    "print(tf.strings.join(result)[0].numpy().decode(\"utf-8\"))"
   ]
  },
  {
   "cell_type": "code",
   "execution_count": null,
   "id": "2e6ede3f-3eea-4a58-b547-454f437d7849",
   "metadata": {},
   "outputs": [],
   "source": []
  }
 ],
 "metadata": {
  "kernelspec": {
   "display_name": "Python 3 (ipykernel)",
   "language": "python",
   "name": "python3"
  },
  "language_info": {
   "codemirror_mode": {
    "name": "ipython",
    "version": 3
   },
   "file_extension": ".py",
   "mimetype": "text/x-python",
   "name": "python",
   "nbconvert_exporter": "python",
   "pygments_lexer": "ipython3",
   "version": "3.11.7"
  }
 },
 "nbformat": 4,
 "nbformat_minor": 5
}
