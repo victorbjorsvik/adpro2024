{
 "cells": [
  {
   "cell_type": "markdown",
   "metadata": {},
   "source": [
    "# 02.4 Testing with `pytest`"
   ]
  },
  {
   "cell_type": "markdown",
   "metadata": {},
   "source": [
    "Building a large software project involves many steps. You may find yourself adding extra functionality to your code that may break everything you developed thus far. You may even find yourself adding functionalities that have to interplay with one another. With increasing complexity, comes a harder to maintain project."
   ]
  },
  {
   "cell_type": "markdown",
   "metadata": {},
   "source": [
    "---"
   ]
  },
  {
   "cell_type": "markdown",
   "metadata": {},
   "source": [
    "## Why testing?"
   ]
  },
  {
   "cell_type": "markdown",
   "metadata": {},
   "source": [
    "Tests ensure your code does what you want. Even if you are confident in your coding skills, always double check what your code is doing. [Trust, but verify](https://en.wikipedia.org/wiki/Trust,_but_verify).\n",
    "\n",
    "As a project progresses, the number of moving parts increases. You want to make sure every function still behaves as expected. In the end, you will see your time developping tests will actually save you time in the debugging process. Lazyness might make you skip the test building part of a project, but it is always a good investment, as it might save your time, and the time of other users."
   ]
  },
  {
   "cell_type": "markdown",
   "metadata": {},
   "source": [
    "## Why `pytest`?"
   ]
  },
  {
   "cell_type": "markdown",
   "metadata": {},
   "source": [
    "Although `unittest` is the default python testing facility, the increased functionalities of `pytest` have attracted many users. For starters, you can run some functionalities of `unittest` with `pytest`, but the opposite is not true. You can see some [comparisons](https://github.com/renzon/pytest-vs-unittest) about both of the functionalities the frameworks possess. Being the most versatile tool, `pytest` is the testing framework you will encounter more often when searching for documentation. "
   ]
  },
  {
   "cell_type": "markdown",
   "metadata": {},
   "source": [
    "---"
   ]
  },
  {
   "cell_type": "markdown",
   "metadata": {},
   "source": [
    "## Example of a test"
   ]
  },
  {
   "cell_type": "markdown",
   "metadata": {},
   "source": [
    "We will now do a live demo."
   ]
  },
  {
   "cell_type": "code",
   "execution_count": null,
   "metadata": {},
   "outputs": [],
   "source": [
    "import sys\n",
    "import numpy as np\n",
    "import pytest\n",
    "sys.path.append(\"../Functions\")\n",
    "from my_first_function import my_func_1\n",
    "%load_ext autoreload\n",
    "%autoreload 2"
   ]
  },
  {
   "cell_type": "code",
   "execution_count": null,
   "metadata": {},
   "outputs": [],
   "source": [
    "my_func_1(1)"
   ]
  },
  {
   "cell_type": "code",
   "execution_count": null,
   "metadata": {},
   "outputs": [],
   "source": [
    "my_func_1(['qua'])"
   ]
  },
  {
   "cell_type": "code",
   "execution_count": null,
   "metadata": {},
   "outputs": [],
   "source": [
    "type(10.1)"
   ]
  },
  {
   "cell_type": "markdown",
   "metadata": {},
   "source": [
    "<div class=\"alert alert-warning\"> \n",
    "    <br>\n",
    "    <b>Question: What is the difference between the = and the == operators?</b>   \n",
    "    <br>\n",
    "    <br>\n",
    "</div>"
   ]
  },
  {
   "cell_type": "code",
   "execution_count": null,
   "metadata": {},
   "outputs": [],
   "source": [
    "0.2 * 2 == 0.4"
   ]
  },
  {
   "cell_type": "code",
   "execution_count": null,
   "metadata": {},
   "outputs": [],
   "source": [
    "0.1 + 0.2 == 0.3 # Is this True?"
   ]
  },
  {
   "cell_type": "code",
   "execution_count": null,
   "metadata": {},
   "outputs": [],
   "source": [
    "#assert \n",
    "0.1 + 0.2 == pytest.approx(0.3)"
   ]
  },
  {
   "cell_type": "markdown",
   "metadata": {},
   "source": [
    "<div class=\"alert alert-warning\"> \n",
    "    <br>\n",
    "    <b>Why this behaviour?</b>\n",
    "    <br>\n",
    "    <br>\n",
    "</div>"
   ]
  },
  {
   "cell_type": "markdown",
   "metadata": {},
   "source": [
    "---\n",
    "\n",
    "## How to run tests\n",
    "\n",
    "Pytest accepts several directory structures that you can see [here](https://docs.pytest.org/en/reorganize-docs/new-docs/user/directory_structure.html).\n",
    "\n",
    "For simplicity's sake, we will create a ```Tests``` directory where pytest knows to find for files named \"test_\\*\\*\\*\"."
   ]
  },
  {
   "cell_type": "markdown",
   "metadata": {},
   "source": [
    "<div class=\"alert alert-info\"> \n",
    "    <br>\n",
    "    <b>Demo: let's develop a suite of tests with pytest</b>      \n",
    "    <br>\n",
    "    <br>\n",
    "</div>"
   ]
  },
  {
   "cell_type": "code",
   "execution_count": null,
   "metadata": {},
   "outputs": [],
   "source": [
    "%load ../Tests/test_my_first_function.py"
   ]
  },
  {
   "cell_type": "markdown",
   "metadata": {},
   "source": [
    "We now arrive at the final definitions: \n",
    "\n",
    "* A __unit test__ is a test done to a single unit or functionality of your code.\n",
    "* A __functional test__ is a test done to a slice of your project to ensure that pipeline is doing the correct thing.\n",
    "* An __integration test__ is a test done to check if the different modules are able to do what they are supposed to do when working together."
   ]
  },
  {
   "cell_type": "markdown",
   "metadata": {},
   "source": [
    "<div class=\"alert alert-info\"> \n",
    "    <br>\n",
    "    <b>Exercise:\n",
    "        Create a class called \"calculator\" with 4 functions, one for each of the basic operations.<br>\n",
    "        Create a unit test that ensures each function is doing what it is supposed.<br>\n",
    "        Create a functional test to ensure addition and subtraction are working. Create an integration test that makes sure you can use all functions in succession.</b>\n",
    "    <br>\n",
    "    <br>\n",
    "</div>"
   ]
  },
  {
   "cell_type": "markdown",
   "metadata": {},
   "source": [
    "---"
   ]
  },
  {
   "cell_type": "markdown",
   "metadata": {},
   "source": [
    "## Automatic documentation with sphinx"
   ]
  },
  {
   "cell_type": "markdown",
   "metadata": {},
   "source": [
    "<div class=\"alert alert-warning\"> \n",
    "    <br>\n",
    "    <b>DEMO: We have docstrings and tests. What if we could build an entire webpage to help those who use our code?</b>\n",
    "    <br>\n",
    "    <br>\n",
    "</div>"
   ]
  }
 ],
 "metadata": {
  "kernelspec": {
   "display_name": "Python 3 (ipykernel)",
   "language": "python",
   "name": "python3"
  },
  "language_info": {
   "codemirror_mode": {
    "name": "ipython",
    "version": 3
   },
   "file_extension": ".py",
   "mimetype": "text/x-python",
   "name": "python",
   "nbconvert_exporter": "python",
   "pygments_lexer": "ipython3",
   "version": "3.10.1"
  }
 },
 "nbformat": 4,
 "nbformat_minor": 4
}
