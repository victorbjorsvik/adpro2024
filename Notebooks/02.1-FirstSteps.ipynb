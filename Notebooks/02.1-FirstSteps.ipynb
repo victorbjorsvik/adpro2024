{
 "cells": [
  {
   "cell_type": "markdown",
   "metadata": {},
   "source": [
    "## First steps in Building your own Documentation: Docstrings\n",
    "\n",
    "As we have previously seen, code follows a style guide. Docstrings also follow a convention, namely, __PEP257__, which you can see [here](https://www.python.org/dev/peps/pep-0257/).\n",
    "\n",
    "In this demo and over this course, we will use the [numpy docstring style](https://numpydoc.readthedocs.io/en/latest/format.html).\n",
    "\n",
    "Let's build a function step by step, to show the importance of documentation. A little documentation can guide you a long way."
   ]
  },
  {
   "cell_type": "code",
   "execution_count": null,
   "metadata": {},
   "outputs": [],
   "source": [
    "def my_func(my_var=1, my_text='Blah!'):\n",
    "    return my_var * my_text"
   ]
  },
  {
   "cell_type": "code",
   "execution_count": null,
   "metadata": {},
   "outputs": [],
   "source": [
    "my_func(10, 'a')"
   ]
  },
  {
   "cell_type": "markdown",
   "metadata": {},
   "source": [
    "<div class=\"alert alert-info\"> \n",
    "    <br>\n",
    "    <b>Discuss: What is `my_func` supopsed to do? Replicate a text? Perform the product between two numbers?</b>   \n",
    "    <br>\n",
    "    <br>\n",
    "</div>"
   ]
  },
  {
   "cell_type": "markdown",
   "metadata": {},
   "source": [
    "We never specified what the function should do. There is no defined usage for the function."
   ]
  },
  {
   "cell_type": "code",
   "execution_count": null,
   "metadata": {},
   "outputs": [],
   "source": [
    "my_func(2, 3)"
   ]
  },
  {
   "cell_type": "code",
   "execution_count": null,
   "metadata": {},
   "outputs": [],
   "source": [
    "my_func(my_var=4, my_text=5)"
   ]
  },
  {
   "cell_type": "code",
   "execution_count": null,
   "metadata": {},
   "outputs": [],
   "source": [
    "def my_func(my_var=1, my_text='Blah!'):\n",
    "    \"\"\"Replicates a string assigned in 'my_text' a number of\n",
    "    times assigned in 'my_var'.\n",
    "    \"\"\"\n",
    "    return my_var * my_text"
   ]
  },
  {
   "cell_type": "code",
   "execution_count": null,
   "metadata": {},
   "outputs": [],
   "source": [
    "my_func(2, 3)"
   ]
  },
  {
   "cell_type": "code",
   "execution_count": null,
   "metadata": {},
   "outputs": [],
   "source": [
    "my_func(2.34, 'Oops')"
   ]
  },
  {
   "cell_type": "code",
   "execution_count": null,
   "metadata": {},
   "outputs": [],
   "source": [
    "def my_func(my_var=1, my_text='Blah!'):\n",
    "    \"\"\"\n",
    "    Replicates a string assigned in 'my_text' a number of times in 'my_var'\n",
    "    \n",
    "    Parameters\n",
    "    ---------------\n",
    "    my_var: int\n",
    "        The number of times to replicate the input string\n",
    "    my_text: string\n",
    "        The string to be replicated\n",
    "        \n",
    "    Returns\n",
    "    ---------------\n",
    "    my_output: string\n",
    "        The 'my_text' string replicated 'my_var' times\n",
    "    \n",
    "    \"\"\"\n",
    "    \n",
    "    my_output = my_var * my_text\n",
    "    \n",
    "    return my_output"
   ]
  },
  {
   "cell_type": "code",
   "execution_count": null,
   "metadata": {},
   "outputs": [],
   "source": [
    "my_func(2, 'Oops') #press shift tab"
   ]
  },
  {
   "cell_type": "code",
   "execution_count": null,
   "metadata": {},
   "outputs": [],
   "source": [
    "my_func('Oops', 2)"
   ]
  },
  {
   "cell_type": "code",
   "execution_count": null,
   "metadata": {},
   "outputs": [],
   "source": [
    "my_func(my_var='Oops', my_text=10)"
   ]
  },
  {
   "cell_type": "markdown",
   "metadata": {},
   "source": [
    "Even with our best documentational efforts, we have not managed to enforce a correct usage of the function. The function can still be used in an unexpected way. When the code does not account for some eventualities, it becomes a matter of **when** it breaks rather than **if** it will break."
   ]
  },
  {
   "cell_type": "code",
   "execution_count": null,
   "metadata": {},
   "outputs": [],
   "source": [
    "my_func(my_var='qua', my_text='Duck!')"
   ]
  },
  {
   "cell_type": "markdown",
   "metadata": {},
   "source": [
    "We tried our best at docummenting a function. How do we document a class?\n",
    "\n",
    "You also add the attributes and methods at the beginning.\n",
    "\n",
    "The \\_\\_init\\_\\_ method is an exception: it should be documented in the class docstring."
   ]
  },
  {
   "cell_type": "markdown",
   "metadata": {},
   "source": [
    "<div class=\"alert alert-info\"> \n",
    "    <br>\n",
    "    <b>Mini-demo: let's build a class \"Animal\" and show you how to docstring it</b>   \n",
    "    <br>\n",
    "    <br>\n",
    "</div>"
   ]
  },
  {
   "cell_type": "code",
   "execution_count": null,
   "metadata": {},
   "outputs": [],
   "source": [
    "#duck = Animal()\n",
    "dog = Animal(\"dog\", True, False)"
   ]
  },
  {
   "cell_type": "code",
   "execution_count": null,
   "metadata": {},
   "outputs": [],
   "source": [
    "duck.whoami()"
   ]
  },
  {
   "cell_type": "markdown",
   "metadata": {},
   "source": [
    "---"
   ]
  },
  {
   "cell_type": "markdown",
   "metadata": {},
   "source": [
    "<div class=\"alert alert-info\"> \n",
    "    <br>\n",
    "    <b>Exercise: Create a simple function with a docstring in a .py file. Run pylint on it. What is the message about docstrings?</b>   \n",
    "    <br>\n",
    "    <br>\n",
    "</div>"
   ]
  },
  {
   "cell_type": "markdown",
   "metadata": {},
   "source": [
    "---"
   ]
  },
  {
   "cell_type": "markdown",
   "metadata": {},
   "source": [
    "[Let's continue on the next notebook.](02.2-EnforcingVariableTypes.ipynb)"
   ]
  }
 ],
 "metadata": {
  "kernelspec": {
   "display_name": "Python 3 (ipykernel)",
   "language": "python",
   "name": "python3"
  },
  "language_info": {
   "codemirror_mode": {
    "name": "ipython",
    "version": 3
   },
   "file_extension": ".py",
   "mimetype": "text/x-python",
   "name": "python",
   "nbconvert_exporter": "python",
   "pygments_lexer": "ipython3",
   "version": "3.11.7"
  }
 },
 "nbformat": 4,
 "nbformat_minor": 4
}
