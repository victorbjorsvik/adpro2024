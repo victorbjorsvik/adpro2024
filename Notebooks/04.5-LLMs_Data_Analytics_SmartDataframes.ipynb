{
 "cells": [
  {
   "cell_type": "markdown",
   "id": "ecb71496-65bf-465e-bc02-163ddd8c442d",
   "metadata": {},
   "source": [
    "# 04.5 - LLMs in data analytics and data visualization: Smart Dataframes\n",
    "\n",
    "Adapted from: https://colab.research.google.com/drive/18JKRdPCnsUIm9d4sThvsySSPAfbc4ybk\n",
    "\n",
    "## Using Large Language Models (LLMs) in data visualization\n",
    "\n",
    "LLM can help data visualization tasks in different ways:  \n",
    "* They can read tables and help us understand the data by creating written summaries  \n",
    "* They can translate our ideas of visualizations from english to code, accelerating the development process  \n",
    "\n",
    "Drawbacks:\n",
    "* They are still not very good. But their potential is increasing.\n",
    "  \n",
    "Contents  \n",
    "* How to instantiate a smart dataframe: pandas + agent.\n",
    "* How to get simple information from the csv table\n",
    "* How to create simple plots from english instructions.\n",
    "\n",
    "Keep in mind OpenAI recomended best practices to get the most out of uyour queries    \n",
    "https://platform.openai.com/docs/guides/gpt-best-practices/six-strategies-for-getting-better-results\n",
    "\n",
    "Official example:  \n",
    "https://colab.research.google.com/drive/1ZnO-njhL7TBOYPZaqvMvGtsjckZKrv2E?usp=sharing"
   ]
  },
  {
   "cell_type": "code",
   "execution_count": null,
   "id": "82dad237-5ca2-4b05-abd8-e53724ad169f",
   "metadata": {},
   "outputs": [],
   "source": [
    "# Required libs\n",
    "!pip install pandasai\n",
    "!pip install seaborn"
   ]
  },
  {
   "cell_type": "code",
   "execution_count": null,
   "id": "81a8b8bc-24d9-442d-b16a-879f133adff2",
   "metadata": {},
   "outputs": [],
   "source": [
    "# Importing libraries\n",
    "import os\n",
    "import pandas as pd\n",
    "import matplotlib.pyplot as plt\n",
    "import seaborn as sns\n",
    "from pandasai import SmartDataframe\n",
    "from langchain_openai import ChatOpenAI"
   ]
  },
  {
   "cell_type": "code",
   "execution_count": null,
   "id": "9289a32d-4d88-4123-8f09-1f9a406744c9",
   "metadata": {},
   "outputs": [],
   "source": [
    "# Importing the data\n",
    "df = pd.read_csv('../Files/SAheart.data')\n",
    "df.head()"
   ]
  },
  {
   "cell_type": "markdown",
   "id": "5b0a79c1-08ab-4625-a8e4-9d0bae4b4f95",
   "metadata": {},
   "source": [
    "### Basic EDA\n",
    "The data we are analysing comes from https://rdrr.io/cran/ElemStatLearn/man/SAheart.html and concerns coronary heart disease (chd).   \n",
    "\n",
    "\n",
    "Columns | description\n",
    "--------|------------     \n",
    "sbp |       systolic blood pressure |   \n",
    "tobacco|   cumulative tobacco (kg)  \n",
    "ldl|       low density lipoprotein cholesterol  \n",
    "adiposity| a numeric vector  \n",
    "famhist|   family history of heart disease, a factor with levels Absent Present  \n",
    "typea|     type-A behavior  \n",
    "obesity|   a numeric vector  \n",
    "alcohol|   current alcohol consumption  \n",
    "age|       age at onset  \n",
    "chd|       response, coronary heart disease  "
   ]
  },
  {
   "cell_type": "markdown",
   "id": "4c5d7d0e-9c56-4eec-8146-0c846f315453",
   "metadata": {},
   "source": [
    "### Creating a Smart Dataframe\n",
    "\n",
    "We need an LLM and a pandas dataframe (which we already have)."
   ]
  },
  {
   "cell_type": "code",
   "execution_count": null,
   "id": "2db110f4-ce54-44ed-83eb-173e7104de77",
   "metadata": {},
   "outputs": [],
   "source": [
    "llm = ChatOpenAI(temperature=0.5) #let's allow for some randomness"
   ]
  },
  {
   "cell_type": "code",
   "execution_count": null,
   "id": "2e1853e8-3945-4af5-88f7-a67046400f3c",
   "metadata": {},
   "outputs": [],
   "source": [
    "llm.model_name"
   ]
  },
  {
   "cell_type": "code",
   "execution_count": null,
   "id": "c4c69019-c311-4b4a-87f9-dafe650080b0",
   "metadata": {},
   "outputs": [],
   "source": [
    "sdf = SmartDataframe(df, config={'llm':llm})"
   ]
  },
  {
   "cell_type": "code",
   "execution_count": null,
   "id": "11345c82-e1e7-4741-b44e-c7b1f802c7bf",
   "metadata": {},
   "outputs": [],
   "source": [
    "# Let's check the shape of data.'\n",
    "sdf.chat(\"What is the shape of the dataset?\")"
   ]
  },
  {
   "cell_type": "code",
   "execution_count": null,
   "id": "3d8db0b5-e42f-4dcb-b25f-1c56b9ff8901",
   "metadata": {},
   "outputs": [],
   "source": [
    "#identifying missing values\n",
    "sdf.chat(\"How many missing values are there in each column?\")"
   ]
  },
  {
   "cell_type": "code",
   "execution_count": null,
   "id": "08b164f6-2c3d-45c3-a14c-1280d7b27242",
   "metadata": {},
   "outputs": [],
   "source": [
    "# Let us see how the data looks like\n",
    "sdf.chat(\"Display 5 records in form of a table.\")"
   ]
  },
  {
   "cell_type": "code",
   "execution_count": null,
   "id": "b14e28a4-9292-4d87-86ed-1a918cdfa821",
   "metadata": {},
   "outputs": [],
   "source": [
    "# Let us try to write a simple summary of the data:\n",
    "sdf.chat(\"A good data summary must have: the number of elements, a qualitative discription of the population in the data by describing the basic statistics for age and family history (famhist).  \\\n",
    "     You first must find the relevant columns in the dataset, age and famhist, then compute the basic statistics and then write the summary.\\\n",
    "     The summary should look like: We have a simple dataset with 222 elements. The population in the set has ages averaging 56, but there are a few elements as young as 10 years and as old as 100. Half of the population has family history, and those that have are much younger - averaging the 40 years.\")"
   ]
  },
  {
   "cell_type": "code",
   "execution_count": null,
   "id": "66550da8-a6d6-455e-9439-31a7b48e8bd7",
   "metadata": {},
   "outputs": [],
   "source": [
    "sdf.chat(\"Show the distribution of people suffering with chd using bar graph.\")"
   ]
  },
  {
   "cell_type": "code",
   "execution_count": null,
   "id": "7ca52432-0e00-4249-9a6c-14dc27f344fb",
   "metadata": {},
   "outputs": [],
   "source": [
    "sdf.chat(\"\"\"Show the distribution of age where the person is\n",
    "suffering with chd using histogram with\n",
    "0 to 10, 10 to 20, 20 to 30 years and so on. Do not show grid. Add title.\"\"\")"
   ]
  },
  {
   "cell_type": "code",
   "execution_count": null,
   "id": "e6d1ef97-d5d6-4c8c-b724-859184a16e58",
   "metadata": {},
   "outputs": [],
   "source": [
    "sdf.chat(\"\"\"Draw boxplot to find out if there are any outliers\n",
    "in terms of age of who are suffering from chd.\"\"\")"
   ]
  },
  {
   "cell_type": "code",
   "execution_count": null,
   "id": "cc232280-5f1e-4cfd-a00b-aedd51bb2c58",
   "metadata": {},
   "outputs": [],
   "source": [
    "# Does Tobacco Cause CHD?\n",
    "sdf.chat(\"\"\"validate the following hypothesis with t-test.\n",
    "Null Hypothesis: Consumption of Tobacco does not cause chd.\n",
    "Alternate Hypothesis: Consumption of Tobacco causes chd.\"\"\")"
   ]
  },
  {
   "cell_type": "code",
   "execution_count": null,
   "id": "2b1cf176-7db2-4daf-a365-a0589feef13e",
   "metadata": {},
   "outputs": [],
   "source": [
    "# How is the distribution of CHD across various age groups\n",
    "sdf.chat(\"\"\"Plot the distribution of age for both chd positive and negative using kde plot. Also provide a legend and label the x and y axises.\"\"\")"
   ]
  },
  {
   "cell_type": "code",
   "execution_count": null,
   "id": "27915078-2769-4f19-90be-a8a6bc440849",
   "metadata": {},
   "outputs": [],
   "source": [
    "sdf.chat(\"\"\"Plot the distribution of age for both chd positive and negative using kde plot. Also provide a legend and label the x and y axises. Use shaded areas.\"\"\")"
   ]
  },
  {
   "cell_type": "code",
   "execution_count": null,
   "id": "1e4b43b5-d1a4-4ab9-918b-9642e7429c2a",
   "metadata": {},
   "outputs": [],
   "source": [
    "sdf.chat(\"\"\"Plot the distribution of age for both chd positive and negative using kde plot. Also provide a legend and label the x and y axises. Use shaded areas and absolute values.\"\"\")"
   ]
  },
  {
   "cell_type": "code",
   "execution_count": null,
   "id": "9f376d71-8dcc-47f5-b752-5e7a809f61e7",
   "metadata": {},
   "outputs": [],
   "source": [
    "sns.kdeplot(data=df, x='age', hue='chd')"
   ]
  },
  {
   "cell_type": "markdown",
   "id": "4afcd93c-c0a0-4464-afc1-3b8dc21c7c19",
   "metadata": {},
   "source": [
    "Comments?"
   ]
  }
 ],
 "metadata": {
  "kernelspec": {
   "display_name": "Python 3 (ipykernel)",
   "language": "python",
   "name": "python3"
  },
  "language_info": {
   "codemirror_mode": {
    "name": "ipython",
    "version": 3
   },
   "file_extension": ".py",
   "mimetype": "text/x-python",
   "name": "python",
   "nbconvert_exporter": "python",
   "pygments_lexer": "ipython3",
   "version": "3.11.7"
  }
 },
 "nbformat": 4,
 "nbformat_minor": 5
}
