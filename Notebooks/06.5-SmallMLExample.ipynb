{
 "cells": [
  {
   "cell_type": "markdown",
   "id": "b673fbbc-62ef-4657-9706-7572d1c2aa23",
   "metadata": {
    "tags": []
   },
   "source": [
    "# 06.5 - Small ML example\n",
    "\n",
    "<div class=\"alert alert-danger\">\n",
    "    <b> Create a specific virtual environment for this notebook! <b>\n",
    "</div>\n",
    "        \n",
    "Make sure you are running this notebook in the virtual environment from the dask.yml file."
   ]
  },
  {
   "cell_type": "markdown",
   "id": "14e9dd69-458c-4a68-a766-906bbe50c7a5",
   "metadata": {},
   "source": [
    "---"
   ]
  },
  {
   "cell_type": "markdown",
   "id": "043d4e2e-03d5-4b8a-ae02-88cee87ee9ca",
   "metadata": {},
   "source": [
    "In this notebook we are going to launch a local client and execute a simple ML project.\n",
    "\n",
    "Everytime you run a dask instance, you launch a local __Server__. A Server is a manager for your distributed operations.\n",
    "\n",
    "You can launch a __Client__, which is a programme that connects to your Server. It is a similar way of how a web browser (client) connects to a website (server).\n",
    "\n",
    "In this course we are only going to look at running large processes in your laptop. You might encounter situations where you have to handle very large datasets in the future and pandas will not be able to handle them. Dask is an option for handling very large datasets.\n",
    "\n",
    "__Dask__ is a __out of core__ dataframe handler. Instead of doing everything in memory in one go, Dask has a rule set to handle the required processes using your hard drive together with your RAM memory.\n",
    "\n",
    "The jupyter-lab extension is just a helper. It is not mandatory."
   ]
  },
  {
   "cell_type": "markdown",
   "id": "8317d872-964a-4423-9de9-5fb7ff7f5b86",
   "metadata": {},
   "source": [
    "---"
   ]
  },
  {
   "cell_type": "code",
   "execution_count": null,
   "id": "f16347d4-a635-47bc-be4e-406c7d272f6a",
   "metadata": {},
   "outputs": [],
   "source": [
    "from dask.distributed import Client\n",
    "\n",
    "# Scale up: connect to your own cluster with more resources\n",
    "# see http://dask.pydata.org/en/latest/setup.html\n",
    "client = Client(processes=False, threads_per_worker=4,\n",
    "                n_workers=1, memory_limit='2GB')\n",
    "client"
   ]
  },
  {
   "cell_type": "code",
   "execution_count": null,
   "id": "34529cda-0ab4-4f1b-9524-8f24d03b7338",
   "metadata": {},
   "outputs": [],
   "source": [
    "import dask_ml.datasets\n",
    "import dask_ml.cluster\n",
    "import matplotlib.pyplot as plt"
   ]
  },
  {
   "cell_type": "code",
   "execution_count": null,
   "id": "ee58655d-0631-43c3-98a8-2768ab4e0151",
   "metadata": {},
   "outputs": [],
   "source": [
    "# Scale up: increase n_samples or n_features\n",
    "X, y = dask_ml.datasets.make_blobs(n_samples=10000000,\n",
    "                  chunks=1000000, #a way of grouping the generated points\n",
    "                  random_state=0,\n",
    "                  centers=3)\n",
    "X = X.persist()\n",
    "X"
   ]
  },
  {
   "cell_type": "code",
   "execution_count": null,
   "id": "33cc15f2-5f15-404c-b24b-fc7bc91f5954",
   "metadata": {},
   "outputs": [],
   "source": [
    "km = dask_ml.cluster.KMeans(n_clusters=3, init_max_iter=2, oversampling_factor=10)\n",
    "km.fit(X)"
   ]
  },
  {
   "cell_type": "code",
   "execution_count": null,
   "id": "2d64b4f8-ce8b-41d3-b2d1-7c27977a8fca",
   "metadata": {},
   "outputs": [],
   "source": [
    "fig, ax = plt.subplots()\n",
    "ax.scatter(X[::1000, 0], X[::1000, 1], marker='.', c=km.labels_[::1000],\n",
    "           cmap='viridis', alpha=0.25);"
   ]
  }
 ],
 "metadata": {
  "kernelspec": {
   "display_name": "Python 3 (ipykernel)",
   "language": "python",
   "name": "python3"
  },
  "language_info": {
   "codemirror_mode": {
    "name": "ipython",
    "version": 3
   },
   "file_extension": ".py",
   "mimetype": "text/x-python",
   "name": "python",
   "nbconvert_exporter": "python",
   "pygments_lexer": "ipython3",
   "version": "3.10.2"
  }
 },
 "nbformat": 4,
 "nbformat_minor": 5
}
