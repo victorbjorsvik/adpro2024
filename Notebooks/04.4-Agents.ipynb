{
 "cells": [
  {
   "cell_type": "markdown",
   "id": "1c8c20eb-6eb2-4671-81cd-7f79b2626336",
   "metadata": {},
   "source": [
    "# 04.4- Agents\n",
    "\n"
   ]
  },
  {
   "cell_type": "markdown",
   "id": "4ec61215-ed31-4b9c-995e-9de92724b5f6",
   "metadata": {},
   "source": [
    "Let's take a look at agents, and expand the capabilities of LLMs.\n",
    "\n",
    "### AgentType\n",
    "\n",
    "There are several types of agents, each optimized for what we need. An agent can store past chat information or can enforce each call to the LLM as an independent one.  \n",
    "It is up to you to decide what you need in your future projects, but here we will focus on agents capable of maintaining a chat.\n",
    "\n",
    "### Tools\n",
    "\n",
    "The `tools` are a set of options one uses to give further capabilities to the agent: parsing wikipedia, using google for searches, etc..  \n",
    "Several models are trained with a 1-2 year delay in data, like chatgpt-3.5. It was only trained with data up to 2022."
   ]
  },
  {
   "cell_type": "code",
   "execution_count": null,
   "id": "b4309966-964c-40f9-a053-ced7e1da69c4",
   "metadata": {},
   "outputs": [],
   "source": [
    "#!pip install numexpr\n",
    "#!pip install langchainhub\n",
    "#!pip install langchain_openai"
   ]
  },
  {
   "cell_type": "code",
   "execution_count": 1,
   "id": "f094e5d1-6fd6-44b3-940d-f1918e88039b",
   "metadata": {},
   "outputs": [],
   "source": [
    "from langchain.agents import Tool\n",
    "from langchain.agents import AgentType\n",
    "from langchain.memory import ConversationBufferMemory\n",
    "from langchain.chat_models import ChatOpenAI\n",
    "from langchain.agents import initialize_agent\n",
    "from langchain.agents import load_tools\n",
    "from IPython.display import Markdown"
   ]
  },
  {
   "cell_type": "code",
   "execution_count": 2,
   "id": "94c834e8-8817-4798-95db-8792d71824bd",
   "metadata": {},
   "outputs": [],
   "source": [
    "# Let's create a memory instance for our agent\n",
    "memory = ConversationBufferMemory(memory_key=\"chat_history\")"
   ]
  },
  {
   "cell_type": "code",
   "execution_count": 3,
   "id": "bce465fb-ad2d-41ae-9471-d7c4c2a89439",
   "metadata": {},
   "outputs": [
    {
     "name": "stderr",
     "output_type": "stream",
     "text": [
      "/home/guimarais/miniconda3/envs/adpro/lib/python3.11/site-packages/langchain_core/_api/deprecation.py:117: LangChainDeprecationWarning: The class `langchain_community.chat_models.openai.ChatOpenAI` was deprecated in langchain-community 0.0.10 and will be removed in 0.2.0. An updated version of the class exists in the langchain-openai package and should be used instead. To use it run `pip install -U langchain-openai` and import as `from langchain_openai import ChatOpenAI`.\n",
      "  warn_deprecated(\n",
      "/home/guimarais/miniconda3/envs/adpro/lib/python3.11/site-packages/langchain_core/_api/deprecation.py:117: LangChainDeprecationWarning: The function `initialize_agent` was deprecated in LangChain 0.1.0 and will be removed in 0.2.0. Use Use new agent constructor methods like create_react_agent, create_json_agent, create_structured_chat_agent, etc. instead.\n",
      "  warn_deprecated(\n"
     ]
    }
   ],
   "source": [
    "llm=ChatOpenAI(temperature=0)\n",
    "tools = load_tools([\"llm-math\"], llm=llm) \n",
    "agent_chain = initialize_agent(tools, \n",
    "                               llm,\n",
    "                               agent=AgentType.CONVERSATIONAL_REACT_DESCRIPTION, \n",
    "                               verbose=True, \n",
    "                               memory=memory)"
   ]
  },
  {
   "cell_type": "code",
   "execution_count": 4,
   "id": "3791ea70-c744-48bd-8a23-55156a0d16f6",
   "metadata": {},
   "outputs": [
    {
     "name": "stdout",
     "output_type": "stream",
     "text": [
      "\n",
      "\n",
      "\u001b[1m> Entering new AgentExecutor chain...\u001b[0m\n",
      "\u001b[32;1m\u001b[1;3mThought: Do I need to use a tool? No\n",
      "AI: Portuguese cuisine is known for its delicious flavors and diverse dishes. Here are a few popular Portuguese food recipes:\n",
      "\n",
      "1. Bacalhau à Brás: This is a traditional Portuguese dish made with salted codfish, eggs, onions, and thinly sliced potatoes. It's a flavorful and hearty dish that is often served as a main course.\n",
      "\n",
      "2. Pastéis de Nata: These are delicious Portuguese custard tarts with a crispy pastry shell and a creamy custard filling. They are a popular dessert in Portugal and can be found in many bakeries.\n",
      "\n",
      "3. Caldo Verde: This is a traditional Portuguese soup made with potatoes, kale, onions, and garlic. It's a simple and comforting soup that is often served as a starter.\n",
      "\n",
      "4. Francesinha: This is a hearty sandwich that originated in Porto, Portugal. It typically consists of layers of bread, ham, sausage, and steak, topped with melted cheese and a rich tomato and beer sauce.\n",
      "\n",
      "5. Arroz de Marisco: This is a flavorful seafood rice dish that is popular in coastal regions of Portugal. It typically includes a variety of seafood such as shrimp, clams, and mussels, cooked with rice and flavored with garlic, onions, and tomatoes.\n",
      "\n",
      "These are just a few examples of the delicious Portuguese food you can try. I hope you enjoy exploring the flavors of Portugal! Let me know if there's anything else I can help with.\u001b[0m\n",
      "\n",
      "\u001b[1m> Finished chain.\u001b[0m\n"
     ]
    }
   ],
   "source": [
    "answer = agent_chain.invoke(input=\"What are some good Portuguese food recipes?\", handle_parsing_errors=True)"
   ]
  },
  {
   "cell_type": "code",
   "execution_count": 5,
   "id": "e6dd2d7b-4c2e-4a8a-9488-27298d88813a",
   "metadata": {},
   "outputs": [
    {
     "data": {
      "text/markdown": [
       "Portuguese cuisine is known for its delicious flavors and diverse dishes. Here are a few popular Portuguese food recipes:\n",
       "\n",
       "1. Bacalhau à Brás: This is a traditional Portuguese dish made with salted codfish, eggs, onions, and thinly sliced potatoes. It's a flavorful and hearty dish that is often served as a main course.\n",
       "\n",
       "2. Pastéis de Nata: These are delicious Portuguese custard tarts with a crispy pastry shell and a creamy custard filling. They are a popular dessert in Portugal and can be found in many bakeries.\n",
       "\n",
       "3. Caldo Verde: This is a traditional Portuguese soup made with potatoes, kale, onions, and garlic. It's a simple and comforting soup that is often served as a starter.\n",
       "\n",
       "4. Francesinha: This is a hearty sandwich that originated in Porto, Portugal. It typically consists of layers of bread, ham, sausage, and steak, topped with melted cheese and a rich tomato and beer sauce.\n",
       "\n",
       "5. Arroz de Marisco: This is a flavorful seafood rice dish that is popular in coastal regions of Portugal. It typically includes a variety of seafood such as shrimp, clams, and mussels, cooked with rice and flavored with garlic, onions, and tomatoes.\n",
       "\n",
       "These are just a few examples of the delicious Portuguese food you can try. I hope you enjoy exploring the flavors of Portugal! Let me know if there's anything else I can help with."
      ],
      "text/plain": [
       "<IPython.core.display.Markdown object>"
      ]
     },
     "execution_count": 5,
     "metadata": {},
     "output_type": "execute_result"
    }
   ],
   "source": [
    "Markdown(answer['output'])"
   ]
  },
  {
   "cell_type": "code",
   "execution_count": 6,
   "id": "b533f508-d8f6-4f85-99f6-cecdd790d0e3",
   "metadata": {},
   "outputs": [
    {
     "name": "stderr",
     "output_type": "stream",
     "text": [
      "/home/guimarais/miniconda3/envs/adpro/lib/python3.11/site-packages/langchain_core/_api/deprecation.py:117: LangChainDeprecationWarning: The function `run` was deprecated in LangChain 0.1.0 and will be removed in 0.2.0. Use invoke instead.\n",
      "  warn_deprecated(\n"
     ]
    },
    {
     "name": "stdout",
     "output_type": "stream",
     "text": [
      "\n",
      "\n",
      "\u001b[1m> Entering new AgentExecutor chain...\u001b[0m\n",
      "\u001b[32;1m\u001b[1;3mThought: Do I need to use a tool? No\n",
      "AI: Among the dishes mentioned, Caldo Verde is likely to have the least fat. Caldo Verde is a traditional Portuguese soup made with potatoes, kale, onions, and garlic. It is typically a simple and comforting soup that does not contain high-fat ingredients like meat or cheese. However, it's worth noting that the fat content can vary depending on the specific recipe and cooking methods used. If you're looking for a low-fat option, Caldo Verde is a good choice.\u001b[0m\n",
      "\n",
      "\u001b[1m> Finished chain.\u001b[0m\n"
     ]
    }
   ],
   "source": [
    "answer = agent_chain.run(\"Which one of those dishes has the least fat?\")"
   ]
  },
  {
   "cell_type": "markdown",
   "id": "db6c1edb-1251-47a1-a70b-912b587cfbb0",
   "metadata": {},
   "source": [
    "Now the history of our conversation is stored and you can build upon what you have chatted."
   ]
  },
  {
   "cell_type": "code",
   "execution_count": 7,
   "id": "f97ccc92-c806-4fda-860a-01a357cfb32e",
   "metadata": {},
   "outputs": [
    {
     "name": "stdout",
     "output_type": "stream",
     "text": [
      "\n",
      "\n",
      "\u001b[1m> Entering new AgentExecutor chain...\u001b[0m\n",
      "\u001b[32;1m\u001b[1;3mThought: Do I need to use a tool? No\n",
      "AI: Sure! Here's a grocery shopping list to make Caldo Verde:\n",
      "\n",
      "- Potatoes\n",
      "- Kale\n",
      "- Onions\n",
      "- Garlic\n",
      "- Olive oil\n",
      "- Salt and pepper\n",
      "\n",
      "These are the basic ingredients needed to make Caldo Verde. You may also want to consider adding some optional ingredients such as chorizo or linguica sausage for added flavor. Enjoy cooking! Let me know if there's anything else I can assist you with.\u001b[0m\n",
      "\n",
      "\u001b[1m> Finished chain.\u001b[0m\n"
     ]
    },
    {
     "data": {
      "text/plain": [
       "\"Sure! Here's a grocery shopping list to make Caldo Verde:\\n\\n- Potatoes\\n- Kale\\n- Onions\\n- Garlic\\n- Olive oil\\n- Salt and pepper\\n\\nThese are the basic ingredients needed to make Caldo Verde. You may also want to consider adding some optional ingredients such as chorizo or linguica sausage for added flavor. Enjoy cooking! Let me know if there's anything else I can assist you with.\""
      ]
     },
     "execution_count": 7,
     "metadata": {},
     "output_type": "execute_result"
    }
   ],
   "source": [
    "agent_chain.run(\"Give me a grocery shopping list to make that dish\")"
   ]
  },
  {
   "cell_type": "markdown",
   "id": "ae3d9e24-e04e-4b81-8e35-75292bf7249b",
   "metadata": {},
   "source": [
    "---\n",
    "### Other applications: Analyzing documents\n",
    "\n",
    "The Langchain framework has a lot of code already specialized in tasks meant to be done over and over.  \n",
    "In this example we go over a text file that we have seen before, the play from William Shakespeare."
   ]
  },
  {
   "cell_type": "code",
   "execution_count": 8,
   "id": "4faef37c-450c-4248-9d42-277002840159",
   "metadata": {},
   "outputs": [],
   "source": [
    "import requests\n",
    "\n",
    "# Let's get our Shakespeare back\n",
    "response = requests.get(\"https://storage.googleapis.com/download.tensorflow.org/data/shakespeare.txt\")\n",
    "\n",
    "# There is a size limit for inputs\n",
    "shakespeare = response.text[0:10000]"
   ]
  },
  {
   "cell_type": "code",
   "execution_count": 9,
   "id": "50685233-e7b9-4c15-a9f3-3b50506b2d1a",
   "metadata": {},
   "outputs": [],
   "source": [
    "from langchain.chains import AnalyzeDocumentChain"
   ]
  },
  {
   "cell_type": "code",
   "execution_count": 10,
   "id": "1ebe9777-1727-447b-b584-61c2820237da",
   "metadata": {},
   "outputs": [],
   "source": [
    "from langchain.chains.question_answering import load_qa_chain\n",
    "\n",
    "qa_chain = load_qa_chain(llm)\n",
    "qa_document_chain = AnalyzeDocumentChain(combine_docs_chain=qa_chain)"
   ]
  },
  {
   "cell_type": "code",
   "execution_count": 11,
   "id": "e7bd9723-a583-4246-8f82-2d379a5b5b8d",
   "metadata": {},
   "outputs": [
    {
     "data": {
      "text/plain": [
       "'This work is a play called \"Coriolanus\" by William Shakespeare.'"
      ]
     },
     "execution_count": 11,
     "metadata": {},
     "output_type": "execute_result"
    }
   ],
   "source": [
    "qa_document_chain.run(\n",
    "    input_document=shakespeare,\n",
    "    question=\"What is this work?\",\n",
    ")"
   ]
  },
  {
   "cell_type": "code",
   "execution_count": 12,
   "id": "92712444-da25-4b58-9984-8b943e3b594b",
   "metadata": {},
   "outputs": [
    {
     "data": {
      "text/plain": [
       "'The main protagonist of this work is Caius Marcius, also known as Coriolanus. He is portrayed as a proud and fierce Roman general who is highly skilled in battle. He is known for his loyalty to Rome and his disdain for the common people, whom he sees as unworthy and beneath him. Marcius is a complex character, driven by his ambition and desire for honor and recognition. However, his arrogance and inability to connect with the common people ultimately lead to his downfall.'"
      ]
     },
     "execution_count": 12,
     "metadata": {},
     "output_type": "execute_result"
    }
   ],
   "source": [
    "qa_document_chain.run(\n",
    "    input_document=shakespeare,\n",
    "    question=\"Describe the main protagonist of this work.\",\n",
    ")"
   ]
  },
  {
   "cell_type": "markdown",
   "id": "403505a8-6af4-4486-879e-27487d769477",
   "metadata": {},
   "source": [
    "---\n",
    "### PDF documents"
   ]
  },
  {
   "cell_type": "code",
   "execution_count": 13,
   "id": "25992325-fb0a-4118-958d-1f3ac21514b5",
   "metadata": {},
   "outputs": [],
   "source": [
    "#!pip install pypdf\n",
    "from langchain_community.document_loaders import PyPDFLoader"
   ]
  },
  {
   "cell_type": "code",
   "execution_count": 14,
   "id": "9b30d39e-1f22-4d03-bbcb-44689fada261",
   "metadata": {},
   "outputs": [],
   "source": [
    "#!wget https://media.wizards.com/images/magic/resources/rules/EN_MTGM14_PrintedRulebook_LR.pdf"
   ]
  },
  {
   "cell_type": "code",
   "execution_count": 15,
   "id": "05d6cc19-956f-4de0-ac88-d498f5fc6a2e",
   "metadata": {},
   "outputs": [],
   "source": [
    "loader = PyPDFLoader(\"EN_MTGM14_PrintedRulebook_LR.pdf\")\n",
    "pages = loader.load_and_split()"
   ]
  },
  {
   "cell_type": "code",
   "execution_count": 16,
   "id": "0248b97f-fe61-41fc-8420-f5b3b2978a25",
   "metadata": {},
   "outputs": [
    {
     "data": {
      "text/plain": [
       "Document(page_content='Destroy target creature with flying.\\n“Let nothing own the skies but the wind. ”\\n —Dejara, Giltwood druid\\n™ & © 2013 Wizards of the Coast 188/249 Pete VentersInstantOOo1oGPlummet\\n129149\\nCG16_M14Plummet\\n0188_MTGM14S-Spell\\n10\\nTarget\\nWhen you see the word “target” \\non a spell or ability, you have to choose one or more things for the spell or ability to affect. You’ll be able to choose only certain kinds of things, such as “target enchantment” or “target creature or player.”\\nYou choose the targets for a \\nspell when you cast it, and you choose targets for an activated ability when you activate it. If you can’t meet the targeting requirements, you can’t cast the spell or activate the activated ability. Once you choose targets, you can’t change your mind later.\\nWhen the spell or ability resolves, it checks the \\ntargets to make sure they’re still legal (they’re still there, and they match the requirements stated by the spell or ability). If a target isn’t legal, the spell or ability can’t affect it. If none of the targets are legal, the spell or ability is countered and does nothing at all.Casting a Spell\\nTo cast a spell, take the card you want to cast from your hand, show it to your opponent, and put it on the stack. (The stack is the game zone where spells live. It’s usually in the middle of the table.)\\nThere are a few choices that you need to make right now. If the \\nspell is an instant or sorcery and says “Choose one —,” you choose which of the options you’re using. If the spell is an instant or sorcery and it has a target, you choose what (or who) that target is. Aura spells also target the permanents they’ll enchant. If the spell has o X in \\nits cost, you choose what number X stands for. Other choices will be made later, when the spell resolves.Now check what the spell’s cost is. Tap your lands to produce \\nthe mana necessary to pay that cost, and pay it. Once you do that, the spell has been cast.\\nResponding to a Spell\\nThe spell doesn’t resolve (have its effect) right away—it has to wait on the stack. Each player, including you, now gets a chance to cast an instant or activate an activated ability in response. If a player \\ndoes, that instant or ability goes on the stack on top of what was already waiting there. When all players decline to do anything, the top spell or ability on the stack will resolve.\\nResolving a Spell\\nWhen a spell resolves, one of two things happens. If the spell is an instant or sorcery, it has its effect (in other words, you follow the instructions on the card), then you put the card into your graveyard. If the spell is a creature, artifact, enchantment, or planeswalker, you put the card on the table in front of you, near your lands. The card is now on the battlefield. Any of your cards on the battlefield is called a permanent because it sticks around permanently (well, until something happens to it). Many permanents have abilities, which is text on them that affects the game.\\nAfter a spell or ability resolves, both players get the chance to \\nplay something new. If no one does, the next thing waiting on the stack will resolve (or if the stack is empty, the current part of the turn will end and the game will proceed to the next part). If either player plays something new, it goes on top of the stack and the process repeats.\\nT urn the page to see examples of spells on the stack.Now that you can make mana, you’ll want to use it to cast spells. All cards except lands are cast as spells. You can cast sorceries, \\ncreatures, artifacts, enchantments, and planeswalkers only during one of your main phases when there’s nothing else on the stack. Instants can be cast at any time.\\nSection 2: The Building BlocksSpells', metadata={'source': 'EN_MTGM14_PrintedRulebook_LR.pdf', 'page': 9})"
      ]
     },
     "execution_count": 16,
     "metadata": {},
     "output_type": "execute_result"
    }
   ],
   "source": [
    "pages[10]"
   ]
  },
  {
   "cell_type": "markdown",
   "id": "e9002086-56af-4967-a6fb-1d6b05cc68ae",
   "metadata": {},
   "source": [
    "A PDF is usually text+images. Ideally, you send both the images and the the text to the model for analysis.  \n",
    "But you need a multi-modal model for that, which we will not cover due to time constraints.  \n",
    "Here, we are just going to get the text and run some simple queries."
   ]
  },
  {
   "cell_type": "code",
   "execution_count": 17,
   "id": "44738e90-800a-4552-bfa1-789d359f532f",
   "metadata": {},
   "outputs": [
    {
     "data": {
      "text/plain": [
       "'Destroy target creature with flying.\\n“Let nothing own the skies but the wind. ”\\n —Dejara, Giltwood druid\\n™ & © 2013 Wizards of the Coast 188/249 Pete VentersInstantOOo1oGPlummet\\n129149\\nCG16_M14Plummet\\n0188_MTGM14S-Spell\\n10\\nTarget\\nWhen you see the word “target” \\non a spell or ability, you have to choose one or more things for the spell or ability to affect. You’ll be able to choose only certain kinds of things, such as “target enchantment” or “target creature or player.”\\nYou choose the targets for a \\nspell when you cast it, and you choose targets for an activated ability when you activate it. If you can’t meet the targeting requirements, you can’t cast the spell or activate the activated ability. Once you choose targets, you can’t change your mind later.\\nWhen the spell or ability resolves, it checks the \\ntargets to make sure they’re still legal (they’re still there, and they match the requirements stated by the spell or ability). If a target isn’t legal, the spell or ability can’t affect it. If none of the targets are legal, the spell or ability is countered and does nothing at all.Casting a Spell\\nTo cast a spell, take the card you want to cast from your hand, show it to your opponent, and put it on the stack. (The stack is the game zone where spells live. It’s usually in the middle of the table.)\\nThere are a few choices that you need to make right now. If the \\nspell is an instant or sorcery and says “Choose one —,” you choose which of the options you’re using. If the spell is an instant or sorcery and it has a target, you choose what (or who) that target is. Aura spells also target the permanents they’ll enchant. If the spell has o X in \\nits cost, you choose what number X stands for. Other choices will be made later, when the spell resolves.Now check what the spell’s cost is. Tap your lands to produce \\nthe mana necessary to pay that cost, and pay it. Once you do that, the spell has been cast.\\nResponding to a Spell\\nThe spell doesn’t resolve (have its effect) right away—it has to wait on the stack. Each player, including you, now gets a chance to cast an instant or activate an activated ability in response. If a player \\ndoes, that instant or ability goes on the stack on top of what was already waiting there. When all players decline to do anything, the top spell or ability on the stack will resolve.\\nResolving a Spell\\nWhen a spell resolves, one of two things happens. If the spell is an instant or sorcery, it has its effect (in other words, you follow the instructions on the card), then you put the card into your graveyard. If the spell is a creature, artifact, enchantment, or planeswalker, you put the card on the table in front of you, near your lands. The card is now on the battlefield. Any of your cards on the battlefield is called a permanent because it sticks around permanently (well, until something happens to it). Many permanents have abilities, which is text on them that affects the game.\\nAfter a spell or ability resolves, both players get the chance to \\nplay something new. If no one does, the next thing waiting on the stack will resolve (or if the stack is empty, the current part of the turn will end and the game will proceed to the next part). If either player plays something new, it goes on top of the stack and the process repeats.\\nT urn the page to see examples of spells on the stack.Now that you can make mana, you’ll want to use it to cast spells. All cards except lands are cast as spells. You can cast sorceries, \\ncreatures, artifacts, enchantments, and planeswalkers only during one of your main phases when there’s nothing else on the stack. Instants can be cast at any time.\\nSection 2: The Building BlocksSpells'"
      ]
     },
     "execution_count": 17,
     "metadata": {},
     "output_type": "execute_result"
    }
   ],
   "source": [
    "pages[10].to_json()['kwargs']['page_content']"
   ]
  },
  {
   "cell_type": "code",
   "execution_count": 18,
   "id": "a264b13a-53c8-43f4-9a7e-a5dabfc55e6b",
   "metadata": {},
   "outputs": [],
   "source": [
    "text = []\n",
    "\n",
    "# Append all pages on a list and then join all list elements\n",
    "for page in pages:\n",
    "    text.append(page.to_json()['kwargs']['page_content'])\n",
    "\n",
    "all_text = '\\n'.join(text)"
   ]
  },
  {
   "cell_type": "code",
   "execution_count": 19,
   "id": "921dcad4-899c-4e7b-b0f3-fc640d2da8fe",
   "metadata": {},
   "outputs": [
    {
     "data": {
      "text/plain": [
       "(45, 111147)"
      ]
     },
     "execution_count": 19,
     "metadata": {},
     "output_type": "execute_result"
    }
   ],
   "source": [
    "# Number of pages, number of characters\n",
    "len(text), len(all_text)"
   ]
  },
  {
   "cell_type": "markdown",
   "id": "8dc71d87-5552-4ce6-ad22-143c13f79760",
   "metadata": {},
   "source": [
    "The document is too big for our model, we need to focus on some pages only."
   ]
  },
  {
   "cell_type": "code",
   "execution_count": 20,
   "id": "11cc95bf-8d47-4376-9b5d-d03530899e99",
   "metadata": {},
   "outputs": [],
   "source": [
    "text = []\n",
    "\n",
    "# Append all pages on a list and then join all list elements\n",
    "for pagenumber in range(2,6):\n",
    "    text.append(pages[pagenumber].to_json()['kwargs']['page_content'])\n",
    "\n",
    "all_text = '\\n'.join(text)"
   ]
  },
  {
   "cell_type": "code",
   "execution_count": 21,
   "id": "3f30f391-5863-4a58-a145-ea761bdf7156",
   "metadata": {},
   "outputs": [
    {
     "data": {
      "text/plain": [
       "(4, 10093)"
      ]
     },
     "execution_count": 21,
     "metadata": {},
     "output_type": "execute_result"
    }
   ],
   "source": [
    "# Number of pages, number of characters\n",
    "len(text), len(all_text)"
   ]
  },
  {
   "cell_type": "code",
   "execution_count": 22,
   "id": "4dcad0fc-0091-4483-b43a-856e5bfc2e16",
   "metadata": {},
   "outputs": [
    {
     "data": {
      "text/plain": [
       "['3\\nContents\\nSection 1: The Basics\\nFive Colors of Mana .......................................... 4\\nParts of a Card .............................................. 5\\nCard Types ................................................. 5\\nGame Zones ................................................ 8\\nSection 2: The Building Blocks\\nMaking Mana . . . . . . . . . . . . . . . . . . . . . . . . . . . . . . . . . . . . . . . . . . . . . . . 9\\nSpells .................................................... 10\\nAbilities .................................................. 12\\nAttacking and Blocking  ...................................... 13\\nBuilding Your Own Deck ..................................... 15\\nThe Golden Rule  ........................................... 15\\nSection 3: Playing a Game\\nGet a Deck ................................................ 16\\nGet a Friend ............................................... 16\\nStart the Game ............................................. 16\\nParts of the T urn  ........................................... 17\\nThe Next T urn  ............................................. 18\\nThe Ever-Changing Game  .................................... 18\\nSection 4: Different Ways to Play\\nLimited Formats  ........................................... 19\\nMultiplayer Variants  ........................................ 20\\nSection 5: Glossary   . . . . . . . . . . . . . . . . . . . . . . . . . . . . . . . . . . . . . . . . . . 21\\nQuestions?   . . . . . . . . . . . . . . . . . . . . . . . . . . . . . . . . . . . . . . . . . . . . . . . . . 34\\nIntroduction',\n",
       " '4\\nSection 1:  \\nThe Basics\\nOnly one thing unites the infinite planes of the Multiverse: mana, the energy that fuels all magic. The five colors of mana are imbued \\nin the land itself, and a Planeswalker with a connection to a place can call upon its mana from across the sea of Æther between worlds.\\nEach color of mana fuels a different kind of powerful magic for you to command. For example, red spells have oR in their costs, \\nand tapping (turning) a Mountain gives you oR that you can spend to cast spells. It’s up to you whether to master one color or all five.\\nWhite\\nWhite is the color of law, order, and structure. The sprawling Plains, \\npopulated by soldiers, clerics, and angels, provide white mana. You send coordinated armies of smaller creatures \\ninto battle to teach the enemy a lesson.\\nBlue\\nBlue magic relies on trickery and manipulation. Islands provide blue \\nmana, the color of the deep sea and the endless sky. You work behind the scenes, controlling your environment \\ncompletely before making a move.\\nBlack\\nBlack magic is about death, disease, and power at any cost. Black mana comes from dank Swamps, where things fester and rot. You are as selfish and twisted as the undead creatures and unspeakable \\nhorrors you command.Red\\nRed magic erupts with fire, frenzy, and \\nstorms of rock and lava. Red mana comes from Mountains and volcanoes. You \\nact quickly and recklessly, channeling your wild emotions to summon mighty dragons or crush the ground your \\nenemies walk on.Green\\nGreen magic is about growth, life, and brute force. The Forests overflow with \\ngreen mana, which represents the pulse of nature. You empower your creatures with the predatory might of nature and \\ndominate through sheer size.Five Colors of ManaThe Magic: The Gathering game is a strategy game played by two or more players, each of whom has a customized deck of Magic cards. Over the course of the game, each player will take turns playing cards such as lands (which enable you to play your other cards), creatures, sorceries, and other spells. Each player starts at 20 life. When you reduce your opponent to 0 life by attacking with creatures and playing spells, you win!\\nSection 1: The Basics',\n",
       " 'Draw two cards.\\n“The key to unlocking this puzzle is \\nwithin you. ”  \\n—Doriel, mentor of Mistral Isle\\n™ & © 2013 Wizards of the Coast 52/249 Howard LyonSorceryOOo2oU Divination\\n121599 CU18_M14Divination\\n0052_MTGM14 S-Spell\\nFlying\\noR: Shivan Dragon gets +1/+0 until \\nend of turn.\\nThe undisputed master of the mountains \\nof Shiv.\\n5/5\\n™ & © 2013 Wizards of the Coast 154/249 Donato GiancolaCreature — DragonOOOo4oRoR Shivan Dragon28101RR06_M14\\nShivan Dragon\\n0154_MTGM14 S-Spell\\n5\\nParts of a Card\\nMana Cost\\nMana is the main resource in the game. \\nIt’s produced by lands, and you spend it to cast spells. The symbols in a card’s upper right corner tell you the cost to cast that spell. If the mana cost reads o4oRoR, you pay four mana of any kinds plus two red mana (from two Mountains) to cast it.\\nExpansion Symbol\\nThis symbol tells you which Magic set the card is from. This version of Shivan Dragon is from the Magic 2014 core set. \\nThe color of the symbol tells you the card’s rarity: black for common cards, silver for uncommons, gold for rares, and red-orange for mythic rares.\\nCollector Number\\nThe collector number makes it easier to organize your cards. For example, “154/249” means that the card is the 154th of 249 cards in its set.Power and Toughness\\nEach creature card has a special box with its power  and toughness. \\nA creature’s power (the first number) is how much damage it deals in combat. Its toughness (the second number) is how much damage must be dealt to it in a single turn to destroy it. (A planeswalker card has a different special box with its loyalty here.)Type Line\\nThis tells you the card’s card type: artifact, creature, enchantment, instant, land, planeswalker, or sorcery. If the card has a subtype or supertype, that’s also listed \\nhere. For example, Shivan Dragon is a creature, and its subtype is the creature type Dragon.Card Name\\nEvery Magic card has one or more types. A card’s type tells you when you can play the card and what \\nhappens to the card after you do.\\nSorcery\\nA sorcery represents a magical incantation. You can cast a sorcery only during a main phase of one of your \\nown turns. You can’t cast it when another spell is on the stack. (You’ll learn about phases and the stack in a bit.) A sorcery has its effect—in other words, you follow the instructions on the card—then you put it into your graveyard, which is the game term for your discard pile.Text Box\\nThis is where a card’s abilities appear. You may also find flavor text printed in italics (like this) that tells you something about \\nthe Magic world. Flavor text has no effect \\non game play. Some abilities have italic reminder text to help explain what they do.\\nSection 1: The BasicsCard Types',\n",
       " 'Destroy target nonblack creature.\\n™ & © 2013 Wizards of the Coast 96/249 ChippyInstantOOo1oB Doom Blade\\n121618 UB07_M14Doom Blade\\n0096_MTGM14 S-Spell\\nEnchant Mountain\\nEnchanted Mountain is a 7/7 red Giant \\ncreature with haste. It’s still a land.\\nSome days you stand to greet the horizon. \\nOther days the horizon stands to greet you.\\n™ & © 2013 Wizards of the Coast 126/249 Jaime JonesEnchantment — AuraOOOOo1oRoRoR Awaken the Ancient\\n147427 RR09_M14Awaken the Ancient\\n0126_MTGM14 S-Spell\\nRing of Three Wishes enters the battlefield \\nwith three wish counters on it.\\no5, oT, Remove a wish counter from Ring \\nof Three Wishes: Search your library for a card and put that card into your hand. Then shuffle your library.\\n™ & © 2013 Wizards of the Coast 216/249 Mark WintersArtifactOo5 Ring of Three Wishes\\n147462 MA01_M14Ring of Three Wishes\\n0216_MTGM14 S-Spell\\nFlying\\nVigilance (Attacking doesn’t cause this \\ncreature to tap.)\\nFollow the light. In its absence, follow her.\\n4/4\\n™ & © 2013 Wizards of the Coast 32/249 Greg StaplesCreature — AngelOOOo3oWoW Serra Angel\\n86905 UW04_M14Serra Angel\\n0032_MTGM14 S-Spell6\\nInstant\\nAn instant is just like a sorcery, except you can cast it just about any time you want, even during your \\nopponent’s turn or in response to another spell. Like a sorcery, an instant has its effect, then you put it into your graveyard.\\nEnchantment\\nAn enchantment represents a stable magical manifestation. An enchantment is a permanent. This means two things: you can cast one only at the time you could cast a sorcery, and after you cast one, you’ll put it on the table in front of you, near your lands. (Most players keep their lands closer to them, then put their other cards closer to the middle of the table.) The card is now on the battlefield. A card on the battlefield is called a permanent because it sticks around permanently (well, unless something destroys it).\\nSome enchantments are Auras. An Aura enters the battlefield attached to a permanent and affects that \\npermanent while it’s on the battlefield. If the enchanted permanent leaves the battlefield, the Aura is put into its owner’s graveyard.\\nArtifact\\nAn artifact represents a magical relic. Like an enchantment, an artifact is a permanent, so it’ll stay on the battlefield affecting the game. Most artifacts are colorless, so you can cast one no matter what kinds of lands you have.\\nSome artifacts are Equipment. You can pay to attach an Equipment to a creature you control to make that \\ncreature more powerful. If an equipped creature leaves the battlefield, the Equipment doesn’t—the creature drops it and it remains on the battlefield.\\nCreature\\nCreatures fight for you. They’re permanents, but unlike any other kind of permanent, creatures can attack and block. Each creature has power  and toughness. Its power (the first number) is how much damage it deals \\nin combat. Its toughness (the second number) is how much damage must be dealt to it in a single turn to destroy it. Creatures attack and block during the combat phase.\\nUnlike other types of permanents, creatures enter the battlefield with “summoning sickness”: a creature \\ncan’t attack, or use an ability that has oT in its cost, until it has started your turn on the battlefield under your control. You can block with a creature or activate its other abilities no matter how long it’s been on the battlefield.\\nArtifact creatures are both artifacts and creatures. They’re usually colorless like other artifacts, and they \\ncan attack and block like other creatures. An artifact creature can be affected by anything that affects artifacts, as well as anything that affects creatures.\\nSection 1: The Basics']"
      ]
     },
     "execution_count": 22,
     "metadata": {},
     "output_type": "execute_result"
    }
   ],
   "source": [
    "text"
   ]
  },
  {
   "cell_type": "code",
   "execution_count": 23,
   "id": "492a60ec-09ea-4068-96c8-4b288ec51035",
   "metadata": {},
   "outputs": [
    {
     "data": {
      "text/plain": [
       "\"The parts of a card include the mana cost, expansion symbol, collector number, power and toughness (for creature cards), type line, card name, text box (which includes abilities and flavor text), and the artist's name.\""
      ]
     },
     "execution_count": 23,
     "metadata": {},
     "output_type": "execute_result"
    }
   ],
   "source": [
    "qa_document_chain.run(\n",
    "    input_document=all_text,\n",
    "    question=\"What are the parts of a card?\",\n",
    ")"
   ]
  },
  {
   "cell_type": "markdown",
   "id": "e088e0c8-f505-4ffa-9471-9ce0cea659c4",
   "metadata": {},
   "source": [
    "To analyse more content, one must use models capable of handling more tokens."
   ]
  }
 ],
 "metadata": {
  "kernelspec": {
   "display_name": "Python 3 (ipykernel)",
   "language": "python",
   "name": "python3"
  },
  "language_info": {
   "codemirror_mode": {
    "name": "ipython",
    "version": 3
   },
   "file_extension": ".py",
   "mimetype": "text/x-python",
   "name": "python",
   "nbconvert_exporter": "python",
   "pygments_lexer": "ipython3",
   "version": "3.11.7"
  }
 },
 "nbformat": 4,
 "nbformat_minor": 5
}
