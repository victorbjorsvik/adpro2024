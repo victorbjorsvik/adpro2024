{
 "cells": [
  {
   "cell_type": "markdown",
   "id": "c22ead81-7e87-4448-8d71-9d006312d3cb",
   "metadata": {},
   "source": [
    "# 02.4 - pydantic\n",
    "\n",
    "Pydantic is a fairly recent tool that has been gaining a lot of popularity.  \n",
    "It is not uncommon to see the the documentation for new python packages using pydantic instead of numpy docstrings.  \n",
    "Pydantic is a data validation library already being used by many big projects. It uses similar syntax to static type checking.  \n",
    "To create a pydantic model, i.e., a class with data validation, you must create a BaseModel from the pydantic library:"
   ]
  },
  {
   "cell_type": "markdown",
   "id": "23d79a89-c0aa-4079-bdc5-10a4fa0cabd7",
   "metadata": {},
   "source": [
    "<div class=\"alert alert-warning\"> \n",
    "    <b>Pydantic integr\u0000ation on Notebooks is still lacking. Make sure you have version 2.0.3 or above.</b>   \n",
    "    <br>\n",
    "</div>"
   ]
  },
  {
   "cell_type": "code",
   "execution_count": null,
   "id": "03ed81fb-e647-431c-9cf0-917fa95b5c3f",
   "metadata": {},
   "outputs": [],
   "source": [
    "from pydantic import BaseModel"
   ]
  },
  {
   "cell_type": "code",
   "execution_count": null,
   "id": "63dd7512-be03-427f-a512-fd1ff7d680dc",
   "metadata": {},
   "outputs": [],
   "source": [
    "class Person(BaseModel):\n",
    "    name: str\n",
    "    course: str\n",
    "    age: int"
   ]
  },
  {
   "cell_type": "markdown",
   "id": "8a5dd4a8-057e-4269-9448-6c75100daeef",
   "metadata": {},
   "source": [
    "To create an instance of the model you can do it the classical way:"
   ]
  },
  {
   "cell_type": "code",
   "execution_count": null,
   "id": "2bbd99c2-b15e-4f73-8d26-ec6860296c89",
   "metadata": {},
   "outputs": [],
   "source": [
    "person = Person(name='Alex', course='Business', age=21)"
   ]
  },
  {
   "cell_type": "markdown",
   "id": "18daf3af-4e46-4a83-93d8-1c82b6cac285",
   "metadata": {},
   "source": [
    "Or you can create an instance from a dictionary:"
   ]
  },
  {
   "cell_type": "code",
   "execution_count": null,
   "id": "597c3223-931b-458f-9f82-3fd1f0a0e586",
   "metadata": {},
   "outputs": [],
   "source": [
    "person_data = {'name': 'Alex', 'course': 'Business', 'age': 21}\n",
    "\n",
    "person = Person(**person_data)"
   ]
  },
  {
   "cell_type": "code",
   "execution_count": null,
   "id": "025b436d-6481-438d-b7b2-d9888af8432d",
   "metadata": {},
   "outputs": [],
   "source": [
    "print(person.age)"
   ]
  },
  {
   "cell_type": "code",
   "execution_count": null,
   "id": "f2a9d2f2-4231-42af-8fb6-e02137e0bc45",
   "metadata": {},
   "outputs": [],
   "source": [
    "person = Person(name=5, course='Business', age=21)"
   ]
  },
  {
   "cell_type": "markdown",
   "id": "021776c2-1408-4145-898b-2feb427c4f6e",
   "metadata": {},
   "source": [
    "<div class=\"alert alert-info\"> \n",
    "    <b>Run ../Functions/pydantic_example1.py on a terminal</b>\n",
    "</div>"
   ]
  },
  {
   "cell_type": "markdown",
   "id": "47085094-73f2-47d7-9e0a-3814c3811324",
   "metadata": {},
   "source": [
    "Pydantic comes with pre defined custom validation methods, like the Email Validator.  \n",
    "It is also possible to use **decorators** to add functionalities to your validations.  \n",
    "A decorator is, grossly speaking, a function that accepts a function as a parameter and adds it extra functionalities.  \n",
    "Let's say you need the `age` field to be positive, as there are no negative ages."
   ]
  },
  {
   "cell_type": "markdown",
   "id": "7f3516bf-2afa-47e4-9b80-38d6fb478a02",
   "metadata": {},
   "source": [
    "<div class=\"alert alert-info\"> \n",
    "    <b>Analyse ../Functions/pydantic_example2.py and verify how we build upon the standard class definition for extra capabilities</b>\n",
    "</div>"
   ]
  },
  {
   "cell_type": "code",
   "execution_count": null,
   "id": "d4162800-5c86-4430-b1e6-1864ec661c85",
   "metadata": {},
   "outputs": [],
   "source": [
    "import sys\n",
    "sys.path.append('../Functions')\n",
    "from pydantic_example2 import Person"
   ]
  },
  {
   "cell_type": "code",
   "execution_count": null,
   "id": "825adc96-0eb3-4466-83e3-1b69626c88ef",
   "metadata": {},
   "outputs": [],
   "source": [
    "# let's build a valid example!\n",
    "#person = Person()"
   ]
  }
 ],
 "metadata": {
  "kernelspec": {
   "display_name": "Python 3 (ipykernel)",
   "language": "python",
   "name": "python3"
  },
  "language_info": {
   "codemirror_mode": {
    "name": "ipython",
    "version": 3
   },
   "file_extension": ".py",
   "mimetype": "text/x-python",
   "name": "python",
   "nbconvert_exporter": "python",
   "pygments_lexer": "ipython3",
   "version": "3.11.7"
  }
 },
 "nbformat": 4,
 "nbformat_minor": 5
}
