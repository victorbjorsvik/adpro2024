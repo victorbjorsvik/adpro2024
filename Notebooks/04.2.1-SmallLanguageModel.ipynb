{
 "cells": [
  {
   "cell_type": "markdown",
   "id": "9e3fd037-5ed2-4985-a73c-3d2d258f70ab",
   "metadata": {
    "tags": []
   },
   "source": [
    "# 04.2.1 - Virtual Environment Exercise part 1: Build your own Small Language Model\n",
    "\n",
    "## Tensorflow\n",
    "\n",
    "[Tensorflow](https://www.tensorflow.org/) is one of the most popular open-source machine learning libraries, on par with [PyTorch](https://pytorch.org/).\n",
    "\n",
    "We want to start to learn how to use Tensorflow, but the installation process is complicated. Whilst installing Tensorflow we might also \"break\" something from our base installation."
   ]
  },
  {
   "cell_type": "markdown",
   "id": "fbd77be5-9eee-4d4b-8cd7-676f85d6ca6f",
   "metadata": {},
   "source": [
    "<div class=\"alert alert-info\">\n",
    "    <b>Exercise: Create a new virtual environment with Tensorflow. Also install numpy and matplotlib (don't specificy a version). You can do this together with your group.<b>\n",
    "</div>"
   ]
  },
  {
   "cell_type": "markdown",
   "id": "6a3a4b67-c761-44a8-ba09-f20e5d954325",
   "metadata": {},
   "source": [
    "The following example is taken from [notebook](https://www.tensorflow.org/text/tutorials/text_generation). As soon as you are operating inside that environment, you can keep running this notebook."
   ]
  },
  {
   "cell_type": "markdown",
   "id": "5e937592-080b-4b97-b440-b082b8bdcc9b",
   "metadata": {},
   "source": [
    "<div class=\"alert alert-info\">\n",
    "    <b>You can just run the model in the next notebook.<b>\n",
    "</div>"
   ]
  },
  {
   "cell_type": "markdown",
   "id": "a94c9d57-caa7-4e55-96f0-c6eb6981c0ec",
   "metadata": {},
   "source": [
    "---\n",
    "## Setup\n",
    "### Import TensorFlow and other libraries"
   ]
  },
  {
   "cell_type": "code",
   "execution_count": 1,
   "id": "c9d2e047-a752-4e34-ac8c-4963250a833c",
   "metadata": {
    "tags": []
   },
   "outputs": [
    {
     "name": "stderr",
     "output_type": "stream",
     "text": [
      "2024-01-25 22:52:59.432048: I external/local_tsl/tsl/cuda/cudart_stub.cc:31] Could not find cuda drivers on your machine, GPU will not be used.\n",
      "2024-01-25 22:52:59.474066: E external/local_xla/xla/stream_executor/cuda/cuda_dnn.cc:9261] Unable to register cuDNN factory: Attempting to register factory for plugin cuDNN when one has already been registered\n",
      "2024-01-25 22:52:59.474094: E external/local_xla/xla/stream_executor/cuda/cuda_fft.cc:607] Unable to register cuFFT factory: Attempting to register factory for plugin cuFFT when one has already been registered\n",
      "2024-01-25 22:52:59.474959: E external/local_xla/xla/stream_executor/cuda/cuda_blas.cc:1515] Unable to register cuBLAS factory: Attempting to register factory for plugin cuBLAS when one has already been registered\n",
      "2024-01-25 22:52:59.479970: I external/local_tsl/tsl/cuda/cudart_stub.cc:31] Could not find cuda drivers on your machine, GPU will not be used.\n",
      "2024-01-25 22:52:59.480327: I tensorflow/core/platform/cpu_feature_guard.cc:182] This TensorFlow binary is optimized to use available CPU instructions in performance-critical operations.\n",
      "To enable the following instructions: AVX2 FMA, in other operations, rebuild TensorFlow with the appropriate compiler flags.\n",
      "2024-01-25 22:53:00.230037: W tensorflow/compiler/tf2tensorrt/utils/py_utils.cc:38] TF-TRT Warning: Could not find TensorRT\n"
     ]
    }
   ],
   "source": [
    "import tensorflow as tf\n",
    "\n",
    "import numpy as np\n",
    "import os\n",
    "import time"
   ]
  },
  {
   "cell_type": "markdown",
   "id": "c676d329-4a4d-494c-89f0-2304bb702294",
   "metadata": {
    "tags": []
   },
   "source": [
    "### Download the Shakespeare dataset\n",
    "\n",
    "Change the following line to run this code on your own data."
   ]
  },
  {
   "cell_type": "code",
   "execution_count": 2,
   "id": "1fe8e991-6898-4df5-a851-39326691e230",
   "metadata": {
    "tags": []
   },
   "outputs": [],
   "source": [
    "path_to_file = tf.keras.utils.get_file('shakespeare.txt', 'https://storage.googleapis.com/download.tensorflow.org/data/shakespeare.txt')"
   ]
  },
  {
   "cell_type": "markdown",
   "id": "046008aa-3155-4385-b141-02b53c50309a",
   "metadata": {},
   "source": [
    "### Read the data\n",
    "\n",
    "First, look in the text:"
   ]
  },
  {
   "cell_type": "code",
   "execution_count": 3,
   "id": "5e2dc384-69d8-4470-ab03-45a1aa4cccf3",
   "metadata": {
    "id": "aavnuByVymwK",
    "tags": []
   },
   "outputs": [
    {
     "name": "stdout",
     "output_type": "stream",
     "text": [
      "Length of text: 1115394 characters\n"
     ]
    }
   ],
   "source": [
    "# Read, then decode for py2 compat.\n",
    "text = open(path_to_file, 'rb').read().decode(encoding='utf-8')\n",
    "# length of text is the number of characters in it\n",
    "print(f'Length of text: {len(text)} characters')"
   ]
  },
  {
   "cell_type": "code",
   "execution_count": 4,
   "id": "6a91af51-b694-42f1-be95-51cb077276fb",
   "metadata": {
    "tags": []
   },
   "outputs": [
    {
     "name": "stdout",
     "output_type": "stream",
     "text": [
      "First Citizen:\n",
      "Before we proceed any further, hear me speak.\n",
      "\n",
      "All:\n",
      "Speak, speak.\n",
      "\n",
      "First Citizen:\n",
      "You are all resolved rather to die than to famish?\n",
      "\n",
      "All:\n",
      "Resolved. resolved.\n",
      "\n",
      "First Citizen:\n",
      "First, you know Caius Marcius is chief enemy to the people.\n",
      "\n"
     ]
    }
   ],
   "source": [
    "# Take a look at the first 250 characters in text\n",
    "print(text[:250])"
   ]
  },
  {
   "cell_type": "code",
   "execution_count": 5,
   "id": "5e896293-182a-43b4-849f-54af9124d82c",
   "metadata": {
    "tags": []
   },
   "outputs": [
    {
     "name": "stdout",
     "output_type": "stream",
     "text": [
      "65 unique characters\n"
     ]
    }
   ],
   "source": [
    "# The unique characters in the file\n",
    "vocab = sorted(set(text))\n",
    "print(f'{len(vocab)} unique characters')"
   ]
  },
  {
   "cell_type": "markdown",
   "id": "119f90f4-4e49-4eb4-9f52-c05cc8c491dc",
   "metadata": {},
   "source": [
    "## Process the text\n",
    "\n",
    "### Vectorize the text\n",
    "\n",
    "Before training, you need to convert the strings to a numerical representation. \n",
    "\n",
    "The `tf.keras.layers.StringLookup` layer can convert each character into a numeric ID. It just needs the text to be split into tokens first."
   ]
  },
  {
   "cell_type": "code",
   "execution_count": 6,
   "id": "5400ca3f-594d-44f6-a191-5fa2c43583fc",
   "metadata": {
    "tags": []
   },
   "outputs": [
    {
     "name": "stderr",
     "output_type": "stream",
     "text": [
      "2024-01-25 22:53:06.308105: I external/local_xla/xla/stream_executor/cuda/cuda_executor.cc:901] successful NUMA node read from SysFS had negative value (-1), but there must be at least one NUMA node, so returning NUMA node zero. See more at https://github.com/torvalds/linux/blob/v6.0/Documentation/ABI/testing/sysfs-bus-pci#L344-L355\n",
      "2024-01-25 22:53:06.338226: W tensorflow/core/common_runtime/gpu/gpu_device.cc:2256] Cannot dlopen some GPU libraries. Please make sure the missing libraries mentioned above are installed properly if you would like to use GPU. Follow the guide at https://www.tensorflow.org/install/gpu for how to download and setup the required libraries for your platform.\n",
      "Skipping registering GPU devices...\n"
     ]
    },
    {
     "data": {
      "text/plain": [
       "<tf.RaggedTensor [[b'a', b'b', b'c', b'd', b'e', b'f', b'g'], [b'x', b'y', b'z']]>"
      ]
     },
     "execution_count": 6,
     "metadata": {},
     "output_type": "execute_result"
    }
   ],
   "source": [
    "example_texts = ['abcdefg', 'xyz']\n",
    "\n",
    "chars = tf.strings.unicode_split(example_texts, input_encoding='UTF-8')\n",
    "chars"
   ]
  },
  {
   "cell_type": "markdown",
   "id": "a18dcde8-67a7-4830-a95d-f8e01022772c",
   "metadata": {},
   "source": [
    "Now create the `tf.keras.layers.StringLookup` layer:"
   ]
  },
  {
   "cell_type": "code",
   "execution_count": 7,
   "id": "0b8d1c78-b944-4ad4-aed3-214f44b5b6fe",
   "metadata": {
    "tags": []
   },
   "outputs": [],
   "source": [
    "ids_from_chars = tf.keras.layers.StringLookup(\n",
    "    vocabulary=list(vocab), mask_token=None)"
   ]
  },
  {
   "cell_type": "code",
   "execution_count": 8,
   "id": "de4c3328-631b-45fe-b4b2-05060cc9c72b",
   "metadata": {
    "tags": []
   },
   "outputs": [
    {
     "data": {
      "text/plain": [
       "<tf.RaggedTensor [[40, 41, 42, 43, 44, 45, 46], [63, 64, 65]]>"
      ]
     },
     "execution_count": 8,
     "metadata": {},
     "output_type": "execute_result"
    }
   ],
   "source": [
    "ids = ids_from_chars(chars)\n",
    "ids"
   ]
  },
  {
   "cell_type": "markdown",
   "id": "5bce74f0-a495-4a5a-96ab-012da887a6ff",
   "metadata": {},
   "source": [
    "Since the goal of this tutorial is to generate text, it will also be important to invert this representation and recover human-readable strings from it. For this you can use `tf.keras.layers.StringLookup(..., invert=True)`.  \n",
    "\n",
    "Note: Here instead of passing the original vocabulary generated with `sorted(set(text))` use the `get_vocabulary()` method of the `tf.keras.layers.StringLookup` layer so that the `[UNK]` tokens is set the same way."
   ]
  },
  {
   "cell_type": "code",
   "execution_count": 9,
   "id": "f0caf47d-9038-456c-9f48-888ea36dd224",
   "metadata": {
    "tags": []
   },
   "outputs": [],
   "source": [
    "chars_from_ids = tf.keras.layers.StringLookup(\n",
    "    vocabulary=ids_from_chars.get_vocabulary(), invert=True, mask_token=None)"
   ]
  },
  {
   "cell_type": "markdown",
   "id": "383a83e6-ba08-4ae5-a9a2-2509913a8d8f",
   "metadata": {},
   "source": [
    "This layer recovers the characters from the vectors of IDs, and returns them as a `tf.RaggedTensor` of characters:"
   ]
  },
  {
   "cell_type": "code",
   "execution_count": 10,
   "id": "6ce05172-d8bc-4754-a3cf-1d83fd2829a7",
   "metadata": {
    "tags": []
   },
   "outputs": [
    {
     "data": {
      "text/plain": [
       "<tf.RaggedTensor [[b'a', b'b', b'c', b'd', b'e', b'f', b'g'], [b'x', b'y', b'z']]>"
      ]
     },
     "execution_count": 10,
     "metadata": {},
     "output_type": "execute_result"
    }
   ],
   "source": [
    "chars = chars_from_ids(ids)\n",
    "chars"
   ]
  },
  {
   "cell_type": "markdown",
   "id": "47808368-7d40-40a4-b4d5-c4dd8182f384",
   "metadata": {},
   "source": [
    "You can `tf.strings.reduce_join` to join the characters back into strings. "
   ]
  },
  {
   "cell_type": "code",
   "execution_count": 11,
   "id": "6d3ce4a1-2833-4b25-a3bf-3d3a5ace978b",
   "metadata": {
    "tags": []
   },
   "outputs": [
    {
     "data": {
      "text/plain": [
       "array([b'abcdefg', b'xyz'], dtype=object)"
      ]
     },
     "execution_count": 11,
     "metadata": {},
     "output_type": "execute_result"
    }
   ],
   "source": [
    "tf.strings.reduce_join(chars, axis=-1).numpy()"
   ]
  },
  {
   "cell_type": "code",
   "execution_count": 12,
   "id": "fecef57d-6d8a-4925-8bbb-ec98f9f566cd",
   "metadata": {
    "tags": []
   },
   "outputs": [],
   "source": [
    "def text_from_ids(ids):\n",
    "    return tf.strings.reduce_join(chars_from_ids(ids), axis=-1)"
   ]
  },
  {
   "cell_type": "markdown",
   "id": "ee56adb4-927c-4910-8e73-532032487c37",
   "metadata": {},
   "source": [
    "### The prediction task\n",
    "\n",
    "Given a character, or a sequence of characters, what is the most probable next character? This is the task you're training the model to perform. The input to the model will be a sequence of characters, and you train the model to predict the output—the following character at each time step.\n",
    "\n",
    "Since RNNs maintain an internal state that depends on the previously seen elements, given all the characters computed until this moment, what is the next character?\n",
    "\n",
    "### Create training examples and targets\n",
    "\n",
    "Next divide the text into example sequences. Each input sequence will contain `seq_length` characters from the text.\n",
    "\n",
    "For each input sequence, the corresponding targets contain the same length of text, except shifted one character to the right.\n",
    "\n",
    "So break the text into chunks of `seq_length+1`. For example, say `seq_length` is 4 and our text is \"Hello\". The input sequence would be \"Hell\", and the target sequence \"ello\".\n",
    "\n",
    "To do this first use the `tf.data.Dataset.from_tensor_slices` function to convert the text vector into a stream of character indices."
   ]
  },
  {
   "cell_type": "code",
   "execution_count": 13,
   "id": "054adf06-f0cc-499e-b7d5-40ff56c751f2",
   "metadata": {
    "tags": []
   },
   "outputs": [
    {
     "data": {
      "text/plain": [
       "<tf.Tensor: shape=(1115394,), dtype=int64, numpy=array([19, 48, 57, ..., 46,  9,  1])>"
      ]
     },
     "execution_count": 13,
     "metadata": {},
     "output_type": "execute_result"
    }
   ],
   "source": [
    "all_ids = ids_from_chars(tf.strings.unicode_split(text, 'UTF-8'))\n",
    "all_ids"
   ]
  },
  {
   "cell_type": "code",
   "execution_count": 14,
   "id": "7b0cae48-2349-462e-8d32-8102a05a6bbd",
   "metadata": {
    "tags": []
   },
   "outputs": [],
   "source": [
    "ids_dataset = tf.data.Dataset.from_tensor_slices(all_ids)"
   ]
  },
  {
   "cell_type": "code",
   "execution_count": 15,
   "id": "c7b25ef2-d856-4bde-a4d9-b5f335fe2928",
   "metadata": {
    "tags": []
   },
   "outputs": [
    {
     "name": "stdout",
     "output_type": "stream",
     "text": [
      "F\n",
      "i\n",
      "r\n",
      "s\n",
      "t\n",
      " \n",
      "C\n",
      "i\n",
      "t\n",
      "i\n"
     ]
    }
   ],
   "source": [
    "for ids in ids_dataset.take(10):\n",
    "    print(chars_from_ids(ids).numpy().decode('utf-8'))"
   ]
  },
  {
   "cell_type": "code",
   "execution_count": 16,
   "id": "745bf981-e4e7-4d11-8258-85fd73e980f2",
   "metadata": {
    "tags": []
   },
   "outputs": [
    {
     "name": "stdout",
     "output_type": "stream",
     "text": [
      "tf.Tensor(\n",
      "[b'F' b'i' b'r' b's' b't' b' ' b'C' b'i' b't' b'i' b'z' b'e' b'n' b':'\n",
      " b'\\n' b'B' b'e' b'f' b'o' b'r' b'e' b' ' b'w' b'e' b' ' b'p' b'r' b'o'\n",
      " b'c' b'e' b'e' b'd' b' ' b'a' b'n' b'y' b' ' b'f' b'u' b'r' b't' b'h'\n",
      " b'e' b'r' b',' b' ' b'h' b'e' b'a' b'r' b' ' b'm' b'e' b' ' b's' b'p'\n",
      " b'e' b'a' b'k' b'.' b'\\n' b'\\n' b'A' b'l' b'l' b':' b'\\n' b'S' b'p' b'e'\n",
      " b'a' b'k' b',' b' ' b's' b'p' b'e' b'a' b'k' b'.' b'\\n' b'\\n' b'F' b'i'\n",
      " b'r' b's' b't' b' ' b'C' b'i' b't' b'i' b'z' b'e' b'n' b':' b'\\n' b'Y'\n",
      " b'o' b'u' b' '], shape=(101,), dtype=string)\n"
     ]
    }
   ],
   "source": [
    "seq_length = 100\n",
    "\n",
    "sequences = ids_dataset.batch(seq_length+1, drop_remainder=True)\n",
    "\n",
    "for seq in sequences.take(1):\n",
    "    print(chars_from_ids(seq))"
   ]
  },
  {
   "cell_type": "markdown",
   "id": "89a924cf-92d5-40a6-bd36-629bcb6163a2",
   "metadata": {},
   "source": [
    "It's easier to see what this is doing if you join the tokens back into strings:"
   ]
  },
  {
   "cell_type": "code",
   "execution_count": 17,
   "id": "7646da83-0a3c-4b3c-8613-faf03ab0000b",
   "metadata": {
    "tags": []
   },
   "outputs": [
    {
     "name": "stdout",
     "output_type": "stream",
     "text": [
      "b'First Citizen:\\nBefore we proceed any further, hear me speak.\\n\\nAll:\\nSpeak, speak.\\n\\nFirst Citizen:\\nYou '\n",
      "b'are all resolved rather to die than to famish?\\n\\nAll:\\nResolved. resolved.\\n\\nFirst Citizen:\\nFirst, you k'\n",
      "b\"now Caius Marcius is chief enemy to the people.\\n\\nAll:\\nWe know't, we know't.\\n\\nFirst Citizen:\\nLet us ki\"\n",
      "b\"ll him, and we'll have corn at our own price.\\nIs't a verdict?\\n\\nAll:\\nNo more talking on't; let it be d\"\n",
      "b'one: away, away!\\n\\nSecond Citizen:\\nOne word, good citizens.\\n\\nFirst Citizen:\\nWe are accounted poor citi'\n"
     ]
    }
   ],
   "source": [
    "for seq in sequences.take(5):\n",
    "    print(text_from_ids(seq).numpy())"
   ]
  },
  {
   "cell_type": "markdown",
   "id": "5bc6a5c8-b9b5-4c60-8f8a-c3a972542d3f",
   "metadata": {},
   "source": [
    "For training you'll need a dataset of `(input, label)` pairs. Where `input` and \n",
    "`label` are sequences. At each time step the input is the current character and the label is the next character. \n",
    "\n",
    "Here's a function that takes a sequence as input, duplicates, and shifts it to align the input and label for each timestep:"
   ]
  },
  {
   "cell_type": "code",
   "execution_count": 18,
   "id": "90775d88-76e5-4069-b495-e136d827dc42",
   "metadata": {
    "tags": []
   },
   "outputs": [],
   "source": [
    "def split_input_target(sequence):\n",
    "    input_text = sequence[:-1]\n",
    "    target_text = sequence[1:]\n",
    "    return input_text, target_text"
   ]
  },
  {
   "cell_type": "code",
   "execution_count": 19,
   "id": "358ef580-ecf3-40e7-b16f-3c5b832f2dc8",
   "metadata": {
    "tags": []
   },
   "outputs": [
    {
     "name": "stdout",
     "output_type": "stream",
     "text": [
      "Input : b'First Citizen:\\nBefore we proceed any further, hear me speak.\\n\\nAll:\\nSpeak, speak.\\n\\nFirst Citizen:\\nYou'\n",
      "Target: b'irst Citizen:\\nBefore we proceed any further, hear me speak.\\n\\nAll:\\nSpeak, speak.\\n\\nFirst Citizen:\\nYou '\n"
     ]
    }
   ],
   "source": [
    "dataset = sequences.map(split_input_target)\n",
    "\n",
    "for input_example, target_example in dataset.take(1):\n",
    "    print(\"Input :\", text_from_ids(input_example).numpy())\n",
    "    print(\"Target:\", text_from_ids(target_example).numpy())"
   ]
  },
  {
   "cell_type": "markdown",
   "id": "c2744e3c-120e-406e-ab70-a97ec84dfc58",
   "metadata": {},
   "source": [
    "### Create training batches\n",
    "\n",
    "You used `tf.data` to split the text into manageable sequences. But before feeding this data into the model, you need to shuffle the data and pack it into batches."
   ]
  },
  {
   "cell_type": "code",
   "execution_count": 20,
   "id": "43507bd9-e20c-46d8-bafc-2988f9afebf3",
   "metadata": {
    "tags": []
   },
   "outputs": [
    {
     "data": {
      "text/plain": [
       "<_PrefetchDataset element_spec=(TensorSpec(shape=(64, 100), dtype=tf.int64, name=None), TensorSpec(shape=(64, 100), dtype=tf.int64, name=None))>"
      ]
     },
     "execution_count": 20,
     "metadata": {},
     "output_type": "execute_result"
    }
   ],
   "source": [
    "# Batch size\n",
    "BATCH_SIZE = 64\n",
    "\n",
    "# Buffer size to shuffle the dataset\n",
    "# (TF data is designed to work with possibly infinite sequences,\n",
    "# so it doesn't attempt to shuffle the entire sequence in memory. Instead,\n",
    "# it maintains a buffer in which it shuffles elements).\n",
    "BUFFER_SIZE = 10000\n",
    "\n",
    "dataset = (\n",
    "    dataset\n",
    "    .shuffle(BUFFER_SIZE)\n",
    "    .batch(BATCH_SIZE, drop_remainder=True)\n",
    "    .prefetch(tf.data.experimental.AUTOTUNE))\n",
    "\n",
    "dataset"
   ]
  },
  {
   "cell_type": "markdown",
   "id": "17f879a6-05a9-4768-b636-ba287d373e4a",
   "metadata": {},
   "source": [
    "## Build The Model\n",
    "\n",
    "This section defines the model as a `keras.Model` subclass (For details see [Making new Layers and Models via subclassing](https://www.tensorflow.org/guide/keras/custom_layers_and_models)). \n",
    "\n",
    "This model has three layers:\n",
    "\n",
    "* `tf.keras.layers.Embedding`: The input layer. A trainable lookup table that will map each character-ID to a vector with `embedding_dim` dimensions;\n",
    "* `tf.keras.layers.GRU`: A type of RNN with size `units=rnn_units` (You can also use an LSTM layer here.)\n",
    "* `tf.keras.layers.Dense`: The output layer, with `vocab_size` outputs. It outputs one logit for each character in the vocabulary. These are the log-likelihood of each character according to the model."
   ]
  },
  {
   "cell_type": "code",
   "execution_count": 37,
   "id": "07ccd6fb-6cb2-4c10-a585-0c7f96f8166f",
   "metadata": {
    "tags": []
   },
   "outputs": [
    {
     "name": "stdout",
     "output_type": "stream",
     "text": [
      "66\n"
     ]
    }
   ],
   "source": [
    "# Length of the vocabulary in StringLookup Layer\n",
    "vocab_size = len(ids_from_chars.get_vocabulary())\n",
    "print(len(ids_from_chars.get_vocabulary()))\n",
    "\n",
    "# The embedding dimension\n",
    "embedding_dim = 256\n",
    "\n",
    "# Number of RNN units\n",
    "rnn_units = 1024"
   ]
  },
  {
   "cell_type": "code",
   "execution_count": 22,
   "id": "d1f47308-1f01-4b61-bed8-30e8f48bf8c6",
   "metadata": {
    "tags": []
   },
   "outputs": [],
   "source": [
    "class MyModel(tf.keras.Model):\n",
    "    def __init__(self, vocab_size, embedding_dim, rnn_units):\n",
    "        super().__init__(self)\n",
    "        self.embedding = tf.keras.layers.Embedding(vocab_size, embedding_dim)\n",
    "        self.gru = tf.keras.layers.GRU(rnn_units,\n",
    "                                       return_sequences=True,\n",
    "                                       return_state=True)\n",
    "        self.dense = tf.keras.layers.Dense(vocab_size)\n",
    "\n",
    "    def call(self, inputs, states=None, return_state=False, training=False):\n",
    "        x = inputs\n",
    "        x = self.embedding(x, training=training)\n",
    "        \n",
    "        if states is None:\n",
    "            states = self.gru.get_initial_state(x)\n",
    "            \n",
    "        x, states = self.gru(x, initial_state=states, training=training)\n",
    "        x = self.dense(x, training=training)\n",
    "\n",
    "        if return_state:\n",
    "            return x, states\n",
    "        else:\n",
    "            return x"
   ]
  },
  {
   "cell_type": "code",
   "execution_count": 23,
   "id": "a7a8308f-2b30-44c7-b1c4-bde05b76079c",
   "metadata": {
    "tags": []
   },
   "outputs": [],
   "source": [
    "model = MyModel(\n",
    "    vocab_size=vocab_size,\n",
    "    embedding_dim=embedding_dim,\n",
    "    rnn_units=rnn_units)"
   ]
  },
  {
   "cell_type": "markdown",
   "id": "a28c622c-8e36-4cff-b347-2daaf0c68568",
   "metadata": {},
   "source": [
    "For each character the model looks up the embedding, runs the GRU one timestep with the embedding as input, and applies the dense layer to generate logits predicting the log-likelihood of the next character:\n",
    "\n",
    "<img class=\"image\" src=\"../Figures/text_generation_training.png\" alt=\"A drawing of data passing through the model\" title=\"Text training\">\n",
    "\n",
    "Note: For training you could use a `keras.Sequential` model here. To  generate text later you'll need to manage the RNN's internal state. It's simpler to include the state input and output options upfront, than it is to rearrange the model architecture later. For more details see the [Keras RNN guide](https://www.tensorflow.org/guide/keras/rnn#rnn_state_reuse).\n",
    "\n",
    "## Try the model\n",
    "\n",
    "Now run the model to see that it behaves as expected.\n",
    "\n",
    "First check the shape of the output:"
   ]
  },
  {
   "cell_type": "code",
   "execution_count": 24,
   "id": "a8a77bff-bde7-4c1b-a841-8bed5112d0d1",
   "metadata": {
    "tags": []
   },
   "outputs": [
    {
     "name": "stdout",
     "output_type": "stream",
     "text": [
      "(64, 100, 66) # (batch_size, sequence_length, vocab_size)\n"
     ]
    }
   ],
   "source": [
    "for input_example_batch, target_example_batch in dataset.take(1):\n",
    "    example_batch_predictions = model(input_example_batch)\n",
    "    print(example_batch_predictions.shape, \"# (batch_size, sequence_length, vocab_size)\")"
   ]
  },
  {
   "cell_type": "markdown",
   "id": "854ce975-06b0-441e-bf58-a6778587ee7b",
   "metadata": {},
   "source": [
    "In the above example the sequence length of the input is `100` but the model can be run on inputs of any length:"
   ]
  },
  {
   "cell_type": "code",
   "execution_count": 25,
   "id": "e9378551-2c5c-417d-a805-7fd02d5fbdd3",
   "metadata": {
    "tags": []
   },
   "outputs": [
    {
     "name": "stdout",
     "output_type": "stream",
     "text": [
      "Model: \"my_model\"\n",
      "_________________________________________________________________\n",
      " Layer (type)                Output Shape              Param #   \n",
      "=================================================================\n",
      " embedding (Embedding)       multiple                  16896     \n",
      "                                                                 \n",
      " gru (GRU)                   multiple                  3938304   \n",
      "                                                                 \n",
      " dense (Dense)               multiple                  67650     \n",
      "                                                                 \n",
      "=================================================================\n",
      "Total params: 4022850 (15.35 MB)\n",
      "Trainable params: 4022850 (15.35 MB)\n",
      "Non-trainable params: 0 (0.00 Byte)\n",
      "_________________________________________________________________\n"
     ]
    }
   ],
   "source": [
    "model.summary()"
   ]
  },
  {
   "cell_type": "markdown",
   "id": "99dcbf5a-8eb3-4b6e-82b3-439bc040c2cb",
   "metadata": {},
   "source": [
    "To get actual predictions from the model you need to sample from the output distribution, to get actual character indices. This distribution is defined by the logits over the character vocabulary.\n",
    "\n",
    "Note: It is important to _sample_ from this distribution as taking the _argmax_ of the distribution can easily get the model stuck in a loop.\n",
    "\n",
    "Try it for the first example in the batch:"
   ]
  },
  {
   "cell_type": "code",
   "execution_count": 26,
   "id": "a4cbb21a-efe8-4713-942a-cb51387dfde6",
   "metadata": {
    "tags": []
   },
   "outputs": [],
   "source": [
    "sampled_indices = tf.random.categorical(example_batch_predictions[0], num_samples=1)\n",
    "sampled_indices = tf.squeeze(sampled_indices, axis=-1).numpy()"
   ]
  },
  {
   "cell_type": "markdown",
   "id": "2a0e477a-7012-494e-9549-93503b5f4ddb",
   "metadata": {},
   "source": [
    "This gives us, at each timestep, a prediction of the next character index:"
   ]
  },
  {
   "cell_type": "code",
   "execution_count": 27,
   "id": "e223550e-cd6e-479d-bf82-df54624faaf8",
   "metadata": {
    "tags": []
   },
   "outputs": [
    {
     "data": {
      "text/plain": [
       "array([12, 49, 29, 40, 54, 29, 36, 55, 22, 31, 47, 64,  9, 29, 62,  6, 53,\n",
       "       19, 45, 40, 50, 50, 20,  8,  4, 27, 56, 39, 40, 26, 14, 15, 20, 45,\n",
       "        8,  8, 23, 36, 11, 38, 48, 37, 14,  4,  5, 22, 50, 48, 52, 20, 37,\n",
       "        1, 28, 52, 18, 45,  1, 17, 17, 54, 56, 24, 10, 46, 47, 51, 64, 27,\n",
       "       32, 51, 62, 64, 17, 59, 38, 54, 14,  4, 35, 60,  9, 47, 42,  9, 19,\n",
       "        4,  0, 44,  7,  8, 50, 16, 15, 59,  6, 34, 21, 15, 33, 27])"
      ]
     },
     "execution_count": 27,
     "metadata": {},
     "output_type": "execute_result"
    }
   ],
   "source": [
    "sampled_indices"
   ]
  },
  {
   "cell_type": "markdown",
   "id": "41daf21a-f09f-4a70-a9a0-6949fc36dbc2",
   "metadata": {},
   "source": [
    "Decode these to see the text predicted by this untrained model:"
   ]
  },
  {
   "cell_type": "code",
   "execution_count": 28,
   "id": "0c3f5cb5-e1eb-47c7-9c4f-ec7e12c72062",
   "metadata": {
    "tags": []
   },
   "outputs": [
    {
     "name": "stdout",
     "output_type": "stream",
     "text": [
      "Input:\n",
      " b'.\\n\\nAUTOLYCUS:\\n\\nShepherd:\\nWell, let us to the king: there is that in this\\nfardel will make him scratc'\n",
      "\n",
      "Next Char Predictions:\n",
      " b\";jPaoPWpIRhy.Pw'nFfakkG-$NqZaMABGf--JW:YiXA$&IkimGX\\nOmEf\\nDDoqK3ghlyNSlwyDtYoA$Vu.hc.F$[UNK]e,-kCBt'UHBTN\"\n"
     ]
    }
   ],
   "source": [
    "print(\"Input:\\n\", text_from_ids(input_example_batch[0]).numpy())\n",
    "print()\n",
    "print(\"Next Char Predictions:\\n\", text_from_ids(sampled_indices).numpy())"
   ]
  },
  {
   "cell_type": "markdown",
   "id": "5783f742-5135-457a-a656-0a2aa57c2d34",
   "metadata": {},
   "source": [
    "## Train the model\n",
    "\n",
    "At this point the problem can be treated as a standard classification problem. Given the previous RNN state, and the input this time step, predict the class of the next character.\n",
    "\n",
    "### Attach an optimizer, and a loss function\n",
    "\n",
    "The standard `tf.keras.losses.sparse_categorical_crossentropy` loss function works in this case because it is applied across the last dimension of the predictions.\n",
    "\n",
    "Because your model returns logits, you need to set the `from_logits` flag."
   ]
  },
  {
   "cell_type": "code",
   "execution_count": 29,
   "id": "866f0eea-58a3-48b6-9304-c859df5a8249",
   "metadata": {
    "tags": []
   },
   "outputs": [],
   "source": [
    "loss = tf.losses.SparseCategoricalCrossentropy(from_logits=True)"
   ]
  },
  {
   "cell_type": "markdown",
   "id": "ed5b395f-8f3b-4114-a941-cdf291087464",
   "metadata": {},
   "source": [
    "Configure the training procedure using the `tf.keras.Model.compile` method. Use `tf.keras.optimizers.Adam` with default arguments and the loss function."
   ]
  },
  {
   "cell_type": "code",
   "execution_count": 30,
   "id": "0d075e3f-1d03-4320-a327-b56a5902cb4f",
   "metadata": {
    "tags": []
   },
   "outputs": [],
   "source": [
    "model.compile(optimizer='adam', loss=loss)"
   ]
  },
  {
   "cell_type": "code",
   "execution_count": 31,
   "id": "5d95dbf0-3382-4526-bd82-d0ced6b4e95f",
   "metadata": {
    "tags": []
   },
   "outputs": [],
   "source": [
    "# Directory where the checkpoints will be saved\n",
    "checkpoint_dir = './../training_checkpoints'\n",
    "# Name of the checkpoint files\n",
    "checkpoint_prefix = os.path.join(checkpoint_dir, \"ckpt_{epoch}\")\n",
    "\n",
    "checkpoint_callback = tf.keras.callbacks.ModelCheckpoint(\n",
    "    filepath=checkpoint_prefix,\n",
    "    save_weights_only=True)"
   ]
  },
  {
   "cell_type": "markdown",
   "id": "9f9a2895-384a-4c07-8f71-7c7b2ed794a7",
   "metadata": {},
   "source": [
    "### Execute the training\n",
    "\n",
    "To keep training time reasonable, use 10 epochs to train the model. In Colab, set the runtime to GPU for faster training."
   ]
  },
  {
   "cell_type": "code",
   "execution_count": 50,
   "id": "bf9b4a31-301c-4ddb-87b4-f79f4f77d6d0",
   "metadata": {
    "tags": []
   },
   "outputs": [],
   "source": [
    "EPOCHS = 50"
   ]
  },
  {
   "cell_type": "code",
   "execution_count": 51,
   "id": "f3a10215-8eb4-4fa3-80ef-ad6c243bfc4d",
   "metadata": {
    "tags": []
   },
   "outputs": [
    {
     "name": "stdout",
     "output_type": "stream",
     "text": [
      "Epoch 1/50\n",
      "172/172 [==============================] - 191s 1s/step - loss: 0.6990\n",
      "Epoch 2/50\n",
      "172/172 [==============================] - 201s 1s/step - loss: 0.6540\n",
      "Epoch 3/50\n",
      "172/172 [==============================] - 181s 1s/step - loss: 0.6155\n",
      "Epoch 4/50\n",
      "172/172 [==============================] - 174s 1s/step - loss: 0.5824\n",
      "Epoch 5/50\n",
      "172/172 [==============================] - 194s 1s/step - loss: 0.5527\n",
      "Epoch 6/50\n",
      "172/172 [==============================] - 183s 1s/step - loss: 0.5295\n",
      "Epoch 7/50\n",
      "172/172 [==============================] - 210s 1s/step - loss: 0.5073\n",
      "Epoch 8/50\n",
      "172/172 [==============================] - 181s 1s/step - loss: 0.4896\n",
      "Epoch 9/50\n",
      "172/172 [==============================] - 177s 1s/step - loss: 0.4779\n",
      "Epoch 10/50\n",
      "172/172 [==============================] - 195s 1s/step - loss: 0.4656\n",
      "Epoch 11/50\n",
      "172/172 [==============================] - 165s 956ms/step - loss: 0.4562\n",
      "Epoch 12/50\n",
      "172/172 [==============================] - 167s 967ms/step - loss: 0.4465\n",
      "Epoch 13/50\n",
      "172/172 [==============================] - 214s 1s/step - loss: 0.4388\n",
      "Epoch 14/50\n",
      "172/172 [==============================] - 186s 1s/step - loss: 0.4321\n",
      "Epoch 15/50\n",
      "172/172 [==============================] - 164s 951ms/step - loss: 0.4259\n",
      "Epoch 16/50\n",
      "172/172 [==============================] - 176s 1s/step - loss: 0.4275\n",
      "Epoch 17/50\n",
      "172/172 [==============================] - 171s 989ms/step - loss: 0.4223\n",
      "Epoch 18/50\n",
      "172/172 [==============================] - 173s 1s/step - loss: 0.4173\n",
      "Epoch 19/50\n",
      "172/172 [==============================] - 164s 947ms/step - loss: 0.4120\n",
      "Epoch 20/50\n",
      "172/172 [==============================] - 161s 931ms/step - loss: 0.4087\n",
      "Epoch 21/50\n",
      "172/172 [==============================] - 160s 927ms/step - loss: 0.4075\n",
      "Epoch 22/50\n",
      "172/172 [==============================] - 161s 931ms/step - loss: 0.4082\n",
      "Epoch 23/50\n",
      "172/172 [==============================] - 167s 968ms/step - loss: 0.4010\n",
      "Epoch 24/50\n",
      "172/172 [==============================] - 162s 940ms/step - loss: 0.4004\n",
      "Epoch 25/50\n",
      "172/172 [==============================] - 172s 995ms/step - loss: 0.4011\n",
      "Epoch 26/50\n",
      "172/172 [==============================] - 172s 998ms/step - loss: 0.4050\n",
      "Epoch 27/50\n",
      "172/172 [==============================] - 164s 949ms/step - loss: 0.4051\n",
      "Epoch 28/50\n",
      "172/172 [==============================] - 170s 984ms/step - loss: 0.4090\n",
      "Epoch 29/50\n",
      "172/172 [==============================] - 160s 925ms/step - loss: 0.4121\n",
      "Epoch 30/50\n",
      "172/172 [==============================] - 160s 925ms/step - loss: 0.4131\n",
      "Epoch 31/50\n",
      "172/172 [==============================] - 160s 926ms/step - loss: 0.4128\n",
      "Epoch 32/50\n",
      "172/172 [==============================] - 167s 969ms/step - loss: 0.4111\n",
      "Epoch 33/50\n",
      "172/172 [==============================] - 163s 945ms/step - loss: 0.4139\n",
      "Epoch 34/50\n",
      "172/172 [==============================] - 170s 983ms/step - loss: 0.4092\n",
      "Epoch 35/50\n",
      "172/172 [==============================] - 164s 951ms/step - loss: 0.4094\n",
      "Epoch 36/50\n",
      "172/172 [==============================] - 171s 988ms/step - loss: 0.4100\n",
      "Epoch 37/50\n",
      "172/172 [==============================] - 164s 950ms/step - loss: 0.4130\n",
      "Epoch 38/50\n",
      "172/172 [==============================] - 164s 952ms/step - loss: 0.4196\n",
      "Epoch 39/50\n",
      "172/172 [==============================] - 160s 926ms/step - loss: 0.4214\n",
      "Epoch 40/50\n",
      "172/172 [==============================] - 160s 925ms/step - loss: 0.4234\n",
      "Epoch 41/50\n",
      "172/172 [==============================] - 161s 930ms/step - loss: 0.4227\n",
      "Epoch 42/50\n",
      "172/172 [==============================] - 164s 950ms/step - loss: 0.4210\n",
      "Epoch 43/50\n",
      "172/172 [==============================] - 166s 964ms/step - loss: 0.4233\n",
      "Epoch 44/50\n",
      "172/172 [==============================] - 164s 952ms/step - loss: 0.4313\n",
      "Epoch 45/50\n",
      "172/172 [==============================] - 161s 932ms/step - loss: 0.4357\n",
      "Epoch 46/50\n",
      "172/172 [==============================] - 160s 927ms/step - loss: 0.4332\n",
      "Epoch 47/50\n",
      "172/172 [==============================] - 160s 927ms/step - loss: 0.4360\n",
      "Epoch 48/50\n",
      "172/172 [==============================] - 163s 941ms/step - loss: 0.4364\n",
      "Epoch 49/50\n",
      "172/172 [==============================] - 165s 955ms/step - loss: 0.4392\n",
      "Epoch 50/50\n",
      "172/172 [==============================] - 164s 951ms/step - loss: 0.4462\n"
     ]
    }
   ],
   "source": [
    "history = model.fit(dataset, epochs=EPOCHS, callbacks=[checkpoint_callback])"
   ]
  },
  {
   "cell_type": "markdown",
   "id": "076a9e4a-66b7-462c-9703-7cab88cc29da",
   "metadata": {},
   "source": [
    "---\n",
    "## Generate text\n",
    "\n",
    "The simplest way to generate text with this model is to run it in a loop, and keep track of the model's internal state as you execute it.\n",
    "\n",
    "<img class=\"image\" src=\"../Figures/text_generation_sampling.png\" alt=\"A drawing of how the model's output in fed back to the input\" title=\"Text sampling\">\n",
    "\n",
    "Each time you call the model you pass in some text and an internal state. The model returns a prediction for the next character and its new state. Pass the prediction and state back in to continue generating text.\n",
    "\n",
    "The following makes a single step prediction:"
   ]
  },
  {
   "cell_type": "code",
   "execution_count": 55,
   "id": "523fc234-d5b5-4aae-9238-8d0e4bd977fa",
   "metadata": {},
   "outputs": [],
   "source": [
    "class OneStep(tf.keras.Model):\n",
    "  def __init__(self, model, chars_from_ids, ids_from_chars, temperature=1.0):\n",
    "    super().__init__()\n",
    "    self.temperature = temperature\n",
    "    self.model = model\n",
    "    self.chars_from_ids = chars_from_ids\n",
    "    self.ids_from_chars = ids_from_chars\n",
    "\n",
    "    # Create a mask to prevent \"[UNK]\" from being generated.\n",
    "    skip_ids = self.ids_from_chars(['[UNK]'])[:, None]\n",
    "    sparse_mask = tf.SparseTensor(\n",
    "        # Put a -inf at each bad index.\n",
    "        values=[-float('inf')]*len(skip_ids),\n",
    "        indices=skip_ids,\n",
    "        # Match the shape to the vocabulary\n",
    "        dense_shape=[len(ids_from_chars.get_vocabulary())])\n",
    "    self.prediction_mask = tf.sparse.to_dense(sparse_mask)\n",
    "\n",
    "  @tf.function\n",
    "  def generate_one_step(self, inputs, states=None):\n",
    "    # Convert strings to token IDs.\n",
    "    input_chars = tf.strings.unicode_split(inputs, 'UTF-8')\n",
    "    input_ids = self.ids_from_chars(input_chars).to_tensor()\n",
    "\n",
    "    # Run the model.\n",
    "    # predicted_logits.shape is [batch, char, next_char_logits]\n",
    "    predicted_logits, states = self.model(inputs=input_ids, states=states,\n",
    "                                          return_state=True)\n",
    "    # Only use the last prediction.\n",
    "    predicted_logits = predicted_logits[:, -1, :]\n",
    "    predicted_logits = predicted_logits/self.temperature\n",
    "    # Apply the prediction mask: prevent \"[UNK]\" from being generated.\n",
    "    predicted_logits = predicted_logits + self.prediction_mask\n",
    "\n",
    "    # Sample the output logits to generate token IDs.\n",
    "    predicted_ids = tf.random.categorical(predicted_logits, num_samples=1)\n",
    "    predicted_ids = tf.squeeze(predicted_ids, axis=-1)\n",
    "\n",
    "    # Convert from token ids to characters\n",
    "    predicted_chars = self.chars_from_ids(predicted_ids)\n",
    "\n",
    "    # Return the characters and model state.\n",
    "    return predicted_chars, states"
   ]
  },
  {
   "cell_type": "code",
   "execution_count": 56,
   "id": "3b39ae17-5753-41cd-8a44-4362d45fe83c",
   "metadata": {},
   "outputs": [],
   "source": [
    "one_step_model = OneStep(model, chars_from_ids, ids_from_chars)"
   ]
  },
  {
   "cell_type": "code",
   "execution_count": 57,
   "id": "bbf044fe-71ac-43b1-aba5-ebea97a8b28c",
   "metadata": {},
   "outputs": [
    {
     "name": "stdout",
     "output_type": "stream",
     "text": [
      "ROMEO:\n",
      "The extreme garlands and the beggar nay: or brow,\n",
      "The grase o' the senators on their faith regard,\n",
      "Did three hersely exercise,\n",
      "I change thee, the more giving childhood\n",
      "To bootle with murder looks of reasons with his.\n",
      "And I the haste thy will to the king,\n",
      "That ever cature straight shall need one on:\n",
      "Be feld to her, I will devise a plaum\n",
      "And then dreams he can no cause to enge: if heaven hath he gloves.\n",
      "His men so looking other man should seem to fear.\n",
      "\n",
      "PETRUCHIO:\n",
      "'Twas to his father's money, servite him too,\n",
      "that hap before you not; and all this life\n",
      "Shall I dispeak of work of restire\n",
      "By this despite of all.\n",
      "\n",
      "ANTIGONUS:\n",
      "I am age, my sovereign.\n",
      "\n",
      "YORK:\n",
      "Why, good madam,-there is a slave, grey young prince!' wherefore, give me leave,\n",
      "I little more. How fares our loving march.\n",
      "\n",
      "CLAUDIO:\n",
      "Come, visit them. Cousin, I have shown our parents,\n",
      "As I did missey the blood and like to do\n",
      "moute in the block, being o'er my brother\n",
      "And not in charge progur life\n",
      "And this shall dinger it: out of my true b \n",
      "\n",
      "________________________________________________________________________________\n",
      "\n",
      "Run time: 1.7771821022033691\n"
     ]
    }
   ],
   "source": [
    "start = time.time()\n",
    "states = None\n",
    "next_char = tf.constant(['ROMEO:'])\n",
    "result = [next_char]\n",
    "\n",
    "for n in range(1000):\n",
    "  next_char, states = one_step_model.generate_one_step(next_char, states=states)\n",
    "  result.append(next_char)\n",
    "\n",
    "result = tf.strings.join(result)\n",
    "end = time.time()\n",
    "print(result[0].numpy().decode('utf-8'), '\\n\\n' + '_'*80)\n",
    "print('\\nRun time:', end - start)"
   ]
  },
  {
   "cell_type": "code",
   "execution_count": 59,
   "id": "e716db18-6260-4eed-8052-1448d9913955",
   "metadata": {},
   "outputs": [
    {
     "name": "stdout",
     "output_type": "stream",
     "text": [
      "WARNING:tensorflow:Skipping full serialization of Keras layer <__main__.OneStep object at 0x7ffa3b560b10>, because it is not built.\n"
     ]
    },
    {
     "name": "stderr",
     "output_type": "stream",
     "text": [
      "WARNING:tensorflow:Skipping full serialization of Keras layer <__main__.OneStep object at 0x7ffa3b560b10>, because it is not built.\n"
     ]
    },
    {
     "name": "stdout",
     "output_type": "stream",
     "text": [
      "WARNING:tensorflow:Model's `__init__()` arguments contain non-serializable objects. Please implement a `get_config()` method in the subclassed Model for proper saving and loading. Defaulting to empty config.\n"
     ]
    },
    {
     "name": "stderr",
     "output_type": "stream",
     "text": [
      "WARNING:tensorflow:Model's `__init__()` arguments contain non-serializable objects. Please implement a `get_config()` method in the subclassed Model for proper saving and loading. Defaulting to empty config.\n"
     ]
    },
    {
     "name": "stdout",
     "output_type": "stream",
     "text": [
      "WARNING:tensorflow:Model's `__init__()` arguments contain non-serializable objects. Please implement a `get_config()` method in the subclassed Model for proper saving and loading. Defaulting to empty config.\n"
     ]
    },
    {
     "name": "stderr",
     "output_type": "stream",
     "text": [
      "WARNING:tensorflow:Model's `__init__()` arguments contain non-serializable objects. Please implement a `get_config()` method in the subclassed Model for proper saving and loading. Defaulting to empty config.\n"
     ]
    },
    {
     "name": "stdout",
     "output_type": "stream",
     "text": [
      "INFO:tensorflow:Assets written to: ../tf/one_step/assets\n"
     ]
    },
    {
     "name": "stderr",
     "output_type": "stream",
     "text": [
      "INFO:tensorflow:Assets written to: ../tf/one_step/assets\n"
     ]
    }
   ],
   "source": [
    "tf.saved_model.save(one_step_model, '../tf/one_step')"
   ]
  },
  {
   "cell_type": "code",
   "execution_count": null,
   "id": "1e896f20-62d8-4f5d-812b-f38f20278a7e",
   "metadata": {},
   "outputs": [],
   "source": []
  }
 ],
 "metadata": {
  "kernelspec": {
   "display_name": "Python 3 (ipykernel)",
   "language": "python",
   "name": "python3"
  },
  "language_info": {
   "codemirror_mode": {
    "name": "ipython",
    "version": 3
   },
   "file_extension": ".py",
   "mimetype": "text/x-python",
   "name": "python",
   "nbconvert_exporter": "python",
   "pygments_lexer": "ipython3",
   "version": "3.11.7"
  }
 },
 "nbformat": 4,
 "nbformat_minor": 5
}
