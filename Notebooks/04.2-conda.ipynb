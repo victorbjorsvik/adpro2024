{
 "cells": [
  {
   "cell_type": "markdown",
   "metadata": {},
   "source": [
    "# 04.2 conda\n",
    "aka\n",
    "## Never touch _base_"
   ]
  },
  {
   "cell_type": "markdown",
   "metadata": {},
   "source": [
    "Although Conda is not the official provider for python packages, it has gained a large following. The easy, out of the box way of installing most of the tools you need for data analysis is user friendly. You have a graphical interface with the navigator, if you need a more interactive way of doing things."
   ]
  },
  {
   "cell_type": "markdown",
   "metadata": {},
   "source": [
    "<div class=\"alert alert-warning\">\n",
    "    <b>For this demo I am assuming you have anaconda with the graphical user interface installed (it is possible you installed miniconda alone).<b><br>\n",
    "    <b>The working rationale behind conda is based on pip. Some commands will be very similar.<b>\n",
    "<\\div>"
   ]
  },
  {
   "cell_type": "markdown",
   "metadata": {},
   "source": [
    "On Windows, open your \"Anaconda prompt\". On a MAC or Linux, open a terminal.\n",
    "\n",
    "If you installed Anaconda properly, you should (on Windows) see a __(base)__ string before the path.\n",
    "\n",
    "The __(base)__ string indicates you are working in the default anaconda environment.\n",
    "\n",
    "Imagine having a factory that can build trucks. You need the trucks to carry construction material from one place to another.\n",
    "\n",
    "The trucks can be upgraded, disassembled, reduced, lent to other construction workers, etc..\n",
    "\n",
    "However, the factory must be able to always produce another truck when you see fit.\n",
    "\n",
    "In this allegory, the factory is the __(base)__ environment. Which must always be working. Your additional __virtual environments__ are the trcuks.\n",
    "\n",
    "Again, as most examples you encounter over this course, this is not an oversimplification.\n",
    "\n",
    "The inner workings and the methodology behind the functionality of some of the tools can get very complicated. Advanced programming concepts, databases, grapg theory, and so.\n",
    "\n",
    "__HOWEVER__, these are tools. The creators of these tools intended them to be of easy access to the user. At the end of the day, if a tool does not have a good design, and it is not accessible, no one will use it."
   ]
  },
  {
   "cell_type": "markdown",
   "metadata": {},
   "source": [
    "<div class=\"alert alert-info\">\n",
    "    <b>Question: Conda is an attractive tool for Data Scientists to show off their skills. We discussed the Data Scientist's most valuable skill. What's the second most-valuable skill (debatable)?<b>\n",
    "</div>"
   ]
  },
  {
   "cell_type": "code",
   "execution_count": 3,
   "metadata": {},
   "outputs": [
    {
     "data": {
      "text/plain": [
       "'3.3.4'"
      ]
     },
     "execution_count": 3,
     "metadata": {},
     "output_type": "execute_result"
    }
   ],
   "source": [
    "import matplotlib as mpl\n",
    "mpl.__version__"
   ]
  },
  {
   "cell_type": "code",
   "execution_count": 4,
   "metadata": {},
   "outputs": [
    {
     "data": {
      "text/plain": [
       "'1.20.0'"
      ]
     },
     "execution_count": 4,
     "metadata": {},
     "output_type": "execute_result"
    }
   ],
   "source": [
    "import numpy as np\n",
    "np.__version__"
   ]
  },
  {
   "cell_type": "code",
   "execution_count": null,
   "metadata": {},
   "outputs": [],
   "source": []
  },
  {
   "cell_type": "markdown",
   "metadata": {},
   "source": [
    "---"
   ]
  },
  {
   "cell_type": "markdown",
   "metadata": {},
   "source": [
    "<div class=\"alert alert-info\">\n",
    "    <b>Let's do the demo in navigator first.<b>\n",
    "<\\div>"
   ]
  },
  {
   "cell_type": "markdown",
   "metadata": {},
   "source": [
    "<div class=\"alert alert-warning\">\n",
    "    <b>The navigator is really heavy! But don't shut it down just yet!<b>\n",
    "</div>"
   ]
  },
  {
   "cell_type": "markdown",
   "metadata": {},
   "source": [
    "<div class=\"alert alert-success\">\n",
    "    <b>The command line is much faster. Let's do some more advanced things in the command line.<b>\n",
    "<\\div>"
   ]
  },
  {
   "cell_type": "markdown",
   "metadata": {},
   "source": [
    "First, let's see what we have already installed on our system.\n",
    "\n",
    "```shell\n",
    "conda info --envs\n",
    "```\n",
    "\n",
    "Remember we are probably seeing different outputs for the last command. This depends on what you have worked so far.\n",
    "\n",
    "On the prompt, let's create a new environment for ourselves to test.\n",
    "\n",
    "```shell\n",
    "conda create -n testenv\n",
    "```\n",
    "\n",
    "If you go to the navigator, you should see that a new virtual environment was created. It has almost nothing because you have not specified what you want to do with it.\n",
    "\n",
    "This will remove the environment:\n",
    "\n",
    "```shell\n",
    "conda remove -n testenv --all\n",
    "```\n",
    "\n",
    "If you check the navigator again, testenv should be gone."
   ]
  },
  {
   "cell_type": "markdown",
   "metadata": {},
   "source": [
    "<div class=\"alert alert-success\">\n",
    "    <b>This exercise is also meant to familiarise you with the command line.<b>\n",
    "</div>"
   ]
  },
  {
   "cell_type": "markdown",
   "metadata": {},
   "source": [
    "Let's say we now have a project we want to develop to analyse some data. We know we will use pandas. Let's create a ```schoolgrade``` project with pandas.\n",
    "\n",
    "```shell\n",
    "conda create -n schoolgrade pandas\n",
    "```\n",
    "Examine what conda is proposing to install. Conda is proposing to __Download__ some packages and then tells you __Some NEW packages will be installed__. This outcome may vary from person to person, but what matters is that the end result is always the same: with the same command, you will end up with the same installed packages.\n",
    "\n",
    "What about requirements? You see right away that numpy is there, as numpy is a requirement for pandas.\n",
    "\n",
    "But python is also there (and pip)."
   ]
  },
  {
   "cell_type": "markdown",
   "metadata": {},
   "source": [
    "To list all available version of a library, just do:\n",
    "\n",
    "```shell\n",
    "conda search numpy\n",
    "```\n",
    "Since the fundamental action of searching packages is available on conda, we will stick to conda for the rest of the class.\n",
    "\n",
    "If you want to install a package, just do:\n",
    "```shell\n",
    "conda install numpy\n",
    "```\n",
    "\n",
    "if you want to install a specific package, you can:\n",
    "```shell\n",
    "conda install numpy=1.19\n",
    "```\n",
    "__IMPORTANT__: in pip you force a version with two equals \"==\", in conda with just one \"=\".\n",
    "\n",
    "To remove that package:\n",
    "```shell\n",
    "conda remove numpy\n",
    "```\n",
    "\n",
    "You can install a list of packages in one go. As long as conda can find all of them, it installs them in one go.\n",
    "```shell\n",
    "conda install matplotlib jupyterlab\n",
    "```\n",
    "\n",
    "To see what you have under the hood:\n",
    "```shell\n",
    "conda info\n",
    "```\n",
    "\n",
    "At another ocasion (this might take too long for the class) you may wish to upgrade your conda distribution. Not the packages you have installed, but the conda manger itself. To do so:\n",
    "```shell\n",
    "conda upgrade (or update)\n",
    "```\n",
    "\n",
    "To clean unused packages and caches you can do\n",
    "```shell\n",
    "conda clean\n",
    "```\n",
    "But do so only if you have a very strong reason.\n",
    "\n",
    "If you're lost, you can always do\n",
    "```shell\n",
    "conda help\n",
    "```\n",
    "\n",
    "Or go to [https://docs.conda.io/en/latest/](https://docs.conda.io/en/latest/)"
   ]
  },
  {
   "cell_type": "markdown",
   "metadata": {},
   "source": [
    "---\n",
    "## Saving time"
   ]
  },
  {
   "cell_type": "markdown",
   "metadata": {},
   "source": [
    "<div class=\"alert alert-danger\">\n",
    "    <b>This step is not fundamental and requires a fairly recent anaconda installation on Windows. It should work on Mac and Linux.<b>\n",
    "</div>"
   ]
  },
  {
   "cell_type": "markdown",
   "metadata": {},
   "source": [
    "Some advanced IDEs are smart enough to know you have either pip or conda venvs. You can change the working venv inside your IDE. This is also possible if you are using jupyter-lab.\n",
    "\n",
    "First, change into your working vevn and make sure you have the dependency:\n",
    "```shell\n",
    "conda activate venv\n",
    "conda install -c anaconda ipykernel\n",
    "```\n",
    "\n",
    "Now you tell jupyter-lab where your venv is:\n",
    "```shell\n",
    "ipython kernel install --user --name=\"name to show on jupyterlab\"\n",
    "```\n",
    "\n",
    "At his point, no matter where you run your jupyter-lab, it will always see the environment. You can just start a notebook from there.\n",
    "\n",
    "To see what kernels you have installed \n",
    "```shell\n",
    "jupyter kernelspec list\n",
    "```\n",
    "\n",
    "And should you wish to remove it\n",
    "```shell\n",
    "jupyter kernelspec uninstall kernel_to_delete_without_airquotes\n",
    "```"
   ]
  },
  {
   "cell_type": "markdown",
   "metadata": {},
   "source": [
    "---\n",
    "## Sharing environments"
   ]
  },
  {
   "cell_type": "markdown",
   "metadata": {},
   "source": [
    "Much like pip, conda can create \"snapshots\" of an environment. You can share the snapshot files with colleagues and create the same exact venv, so everybody is working with the exact same distribution of packages. You can avoid a lot of pain in a collaborative environment if everyone is using the exact same libraries.\n",
    "\n",
    "To create an environment snapshot, activate the environment you wish to share and run:\n",
    "\n",
    "```shell\n",
    "conda env export > environment.yml\n",
    "```\n",
    "\n",
    "To create an environment file without the specific builds, just run:\n",
    "\n",
    "```shell\n",
    "conda env export --no-builds > environment.yml\n",
    "```\n",
    "However, there is still a prefix associated to how your filesystem has its directories organized. This could be a safety risk. Conda actually does not care about the last line, the prefix line. You could just build the package list (environment file) and remove the package list with a nice piece of shell scripting: \n",
    "\n",
    "Windows:\n",
    "```shell\n",
    "conda env export --no-builds | findstr -v \"prefix:\" > environment.yml\n",
    "```\n",
    "\n",
    "Mac OS and Linux:\n",
    "```shell\n",
    "conda env export --no-builds | grep -v \"prefix:\" > environment.yml\n",
    "```\n",
    "\n",
    "The later command will do a \"reverse select\": it will include every line that does not include the \"prefix:\" substring.\n",
    "\n",
    "The output is a yaml file with the libraries of the active environment. You can name the yaml file as you want, but it is important it retains the extension, to warn another user it is a configuration file (yaml files are commonly configuration files, so this is a simple convention).\n",
    "\n",
    "If you share the yaml file with a collegue, the colleague can reproduce your environment with:\n",
    "\n",
    "```shell\n",
    "conda env create -f environment.yml\n",
    "```\n",
    "\n",
    "Note that the created environment will have the same name as the environment your colleague created. If you want to change the name of environment, you must change the first line of the file.\n",
    "\n",
    "\n"
   ]
  },
  {
   "cell_type": "markdown",
   "metadata": {},
   "source": [
    "---\n",
    "## Conda channels"
   ]
  },
  {
   "cell_type": "markdown",
   "metadata": {},
   "source": [
    "Not all packages are in the repositories of the Anaconda corporation. Some are in __conda-forge__, for example, others are in dedicated repositories. For conda, the repositories are called __channels__ (in git it would be different repositories).\n",
    "\n",
    "As we seen in a previous class, __make__ is not available in the main channel, but someone contributed it to the __conda-forge__ channel. To install __make__ we needed to tell conda to specifically look for __make__ in a specific channel.\n",
    "\n",
    "```shell\n",
    "conda install -c conda-forge make\n",
    "```\n",
    "\n",
    "If you remember, the original instruction to install was\n",
    "\n",
    "```shell\n",
    "conda install sphinx sphinx_rtd_scheme make\n",
    "```\n",
    "\n",
    "But since __make__ is not part of the default channel, people without the instructions for conda to search other channels would get an error and conda would do absolutely nothing. To add __conda-forge__ to the list of channels that conda verifies by default, you can do:\n",
    "\n",
    "```shell\n",
    "conda config --add channels conda-forge\n",
    "```\n",
    "\n",
    "This will make conda-forge part of the channel list for conda to look for libraries.\n",
    "\n",
    "When you add a new channel, it will have a higher priority that your current ones. This means that if a package with the same name exists in both __conda-forge__ and the __default__ channel, it will install the package it finds in __conda-forge__.\n",
    "\n",
    "Since conda is also part social network, it is possible for you to create your own channel. You can share your packages with your colleagues with a conda install."
   ]
  },
  {
   "cell_type": "markdown",
   "metadata": {},
   "source": [
    "<div class=\"alert alert-warning\">\n",
    "    <b>In large companies, it is not uncommon for the company to have its own private package channel. You set it up much the same way you set up a local GitLab hosting service. Since you usually issue a standard laptop to employees, you only have to pre-compile the packages for the same chipset.<b>\n",
    "</div>"
   ]
  },
  {
   "cell_type": "markdown",
   "metadata": {},
   "source": [
    "<div class=\"alert alert-danger\">\n",
    "    <b>A package compiled on an IBM will probably not work on an Intel.<b>\n",
    "</div>"
   ]
  },
  {
   "cell_type": "markdown",
   "metadata": {},
   "source": [
    "---\n",
    "## Mamba (Experimental)\n",
    "\n",
    "Sometimes conda can take too long in the installation procedure. Mamba is a third-party alternative to conda __for the installation and removal of packages alone__. Remember, __mamba__ does not manage venvs (yet).\n",
    "\n",
    "After creating a simple venv with just python=3.8 (for example), change into that venv. You can install __mamba__ right away with:\n",
    "\n",
    "```shell\n",
    "conda install -c conda-forge mamba\n",
    "```\n",
    "\n",
    "Mamba is an optimised implementation of conda in c++. It can download packages in parallel and it is much faster than conda. For very large projects it might come in handy. Use mamba for installations as you would use conda. Remember, this is still experimental, but it can speed up you installs by a lot. But if you somehow ruin the venv, it is easy to recover."
   ]
  },
  {
   "cell_type": "markdown",
   "metadata": {},
   "source": [
    "---\n",
    "## Finally, an exercise!\n",
    "\n",
    "### Tensorflow"
   ]
  },
  {
   "cell_type": "markdown",
   "metadata": {},
   "source": [
    "[Tensorflow](https://www.tensorflow.org/) is one of the most popular open-source machine learning libraries, on par with [PyTorch](https://pytorch.org/).\n",
    "\n",
    "We want to start to learn how to use Tensorflow, but the installation process is complicated. Whilst installing Tensorflow we might also \"break\" something from our base installation."
   ]
  },
  {
   "cell_type": "markdown",
   "metadata": {},
   "source": [
    "<div class=\"alert alert-info\">\n",
    "    <b>Exercise: Create a new virtual environment with Tensorflow. Make sure you have python 3.8 and jupyterlab 3.0. Also install numpy and matplotlib (don't specificy a version). You can do this together with your group.<b>\n",
    "</div>"
   ]
  },
  {
   "cell_type": "markdown",
   "metadata": {},
   "source": [
    "After you install Tensorflow, create a directory for the project. Download the demo [notebook](https://www.tensorflow.org/tutorials/keras/classification). As soon as you are operating inside that environment, you can run the notebook."
   ]
  }
 ],
 "metadata": {
  "kernelspec": {
   "display_name": "Python 3 (ipykernel)",
   "language": "python",
   "name": "python3"
  },
  "language_info": {
   "codemirror_mode": {
    "name": "ipython",
    "version": 3
   },
   "file_extension": ".py",
   "mimetype": "text/x-python",
   "name": "python",
   "nbconvert_exporter": "python",
   "pygments_lexer": "ipython3",
   "version": "3.9.7"
  }
 },
 "nbformat": 4,
 "nbformat_minor": 4
}
