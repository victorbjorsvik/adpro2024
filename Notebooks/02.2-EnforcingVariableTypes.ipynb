{
 "cells": [
  {
   "cell_type": "markdown",
   "metadata": {},
   "source": [
    "# 02.2 Enforcing correct variable types, part 1\n",
    "\n",
    "We will now check two ways to harden our code. The first will address __static type checking__ (STC). In the second we will use python's default error handling capabilities.\n",
    "\n",
    "## 1) Static type checking (with `mypy`)"
   ]
  },
  {
   "cell_type": "markdown",
   "metadata": {},
   "source": [
    " In STC, we define the variables of our functions with their supposed types. With STC, we can use `mypy` to check if we are using all our functions correctly.\n",
    "\n",
    "Lets assume we have 3 functions, to be used in succession in out programming pipeline: f1, f2, and f3. All of them receive an `int` and return an `int`. If one returns something other than an `int`, we break our workflow. It is also possible to put a `float` anywhere in that flow and python would still be able to handle it. Let's test it:"
   ]
  },
  {
   "cell_type": "code",
   "execution_count": 1,
   "metadata": {},
   "outputs": [],
   "source": [
    "def f1(a):\n",
    "    return a+1\n",
    "\n",
    "def f2(b):\n",
    "    return b-2\n",
    "\n",
    "def f3(c):\n",
    "    return c+5"
   ]
  },
  {
   "cell_type": "code",
   "execution_count": 2,
   "metadata": {},
   "outputs": [
    {
     "name": "stdout",
     "output_type": "stream",
     "text": [
      "9\n"
     ]
    }
   ],
   "source": [
    "start = 5\n",
    "\n",
    "a = f1(start)\n",
    "\n",
    "b = f2(a)\n",
    "\n",
    "c = f3(b)\n",
    "\n",
    "print(c)"
   ]
  },
  {
   "cell_type": "code",
   "execution_count": 3,
   "metadata": {},
   "outputs": [
    {
     "name": "stdout",
     "output_type": "stream",
     "text": [
      "9.241\n"
     ]
    }
   ],
   "source": [
    "start = 5.241\n",
    "\n",
    "final = f3(f2(f1(start)))\n",
    "\n",
    "print(final)"
   ]
  },
  {
   "cell_type": "markdown",
   "metadata": {},
   "source": [
    "Although it was previously stated the functions both received and returned an `int`, the only constraint is that the functions can add a number of type `int`to the argument of the function. So, a `float` could also work. This is because python, regarding code typing discipline, is a __duck typing__ language.  \n",
    "<img src=\"../Figures/640px-Mallard_drake_.02.jpg\">\n",
    "\n",
    "By Bert de Tilly - Own work, CC BY-SA 4.0, https://commons.wikimedia.org/w/index.php?curid=45429888"
   ]
  },
  {
   "cell_type": "markdown",
   "metadata": {},
   "source": [
    "The saying goes \"If it walks like a duck, and quacks like a duck, then it is a duck\". In our previous example, if I can add it like an `int` and subtract it like an `int`, then the `float` is an `int`.\n",
    "\n",
    "The duck typing philosophy has a considerable downside. Things work until they stop working. And finding out why they stop working could be troublesome.\n",
    "\n",
    "One way to fight code errors in the future is by static type checking with `mypy`. Do it like:\n",
    "\n",
    "```variable_name: variable_type [ = default]```\n",
    "\n",
    "(code between straight brackets mean it is optional)"
   ]
  },
  {
   "cell_type": "code",
   "execution_count": null,
   "metadata": {},
   "outputs": [],
   "source": [
    "def my_func(my_var: int = 2, my_text: str = 'Blah!') -> str:\n",
    "    \"\"\"\n",
    "    Replicates a string assigned in 'my_text' a number of times in 'my_var'\n",
    "    \n",
    "    Parameters\n",
    "    ---------------\n",
    "    my_var: int\n",
    "        The number of times to replicate the input string\n",
    "    my_text: string\n",
    "        The string to be replicated\n",
    "        \n",
    "    Returns\n",
    "    ---------------\n",
    "    my_output: string\n",
    "        The 'my_text' string replicated 'my_var' times\n",
    "    \n",
    "    \"\"\"\n",
    "    \n",
    "    my_output = my_var * my_text\n",
    "    \n",
    "    return my_output"
   ]
  },
  {
   "cell_type": "markdown",
   "metadata": {},
   "source": [
    "<div class=\"alert alert-info\">\n",
    "    <br>\n",
    "    <b>Exercise: Copy the next code into a .py file and run it with mypy. What happens? Alter the function so that mypy can analyse it. </b>\n",
    "    <br>\n",
    "    <br>\n",
    "</div>"
   ]
  },
  {
   "cell_type": "code",
   "execution_count": 4,
   "metadata": {},
   "outputs": [
    {
     "ename": "TypeError",
     "evalue": "can only concatenate str (not \"int\") to str",
     "output_type": "error",
     "traceback": [
      "\u001b[1;31m---------------------------------------------------------------------------\u001b[0m",
      "\u001b[1;31mTypeError\u001b[0m                                 Traceback (most recent call last)",
      "\u001b[1;32m<ipython-input-4-fa8318bc75cd>\u001b[0m in \u001b[0;36m<module>\u001b[1;34m\u001b[0m\n\u001b[0;32m      2\u001b[0m     \u001b[1;32mreturn\u001b[0m \u001b[0ma\u001b[0m \u001b[1;33m+\u001b[0m \u001b[0mb\u001b[0m\u001b[1;33m\u001b[0m\u001b[1;33m\u001b[0m\u001b[0m\n\u001b[0;32m      3\u001b[0m \u001b[1;33m\u001b[0m\u001b[0m\n\u001b[1;32m----> 4\u001b[1;33m \u001b[0mmy_sum\u001b[0m\u001b[1;33m(\u001b[0m\u001b[1;34m\"a\"\u001b[0m\u001b[1;33m,\u001b[0m \u001b[1;36m1\u001b[0m\u001b[1;33m)\u001b[0m\u001b[1;33m\u001b[0m\u001b[1;33m\u001b[0m\u001b[0m\n\u001b[0m",
      "\u001b[1;32m<ipython-input-4-fa8318bc75cd>\u001b[0m in \u001b[0;36mmy_sum\u001b[1;34m(a, b)\u001b[0m\n\u001b[0;32m      1\u001b[0m \u001b[1;32mdef\u001b[0m \u001b[0mmy_sum\u001b[0m\u001b[1;33m(\u001b[0m\u001b[0ma\u001b[0m\u001b[1;33m,\u001b[0m \u001b[0mb\u001b[0m\u001b[1;33m)\u001b[0m\u001b[1;33m:\u001b[0m\u001b[1;33m\u001b[0m\u001b[1;33m\u001b[0m\u001b[0m\n\u001b[1;32m----> 2\u001b[1;33m     \u001b[1;32mreturn\u001b[0m \u001b[0ma\u001b[0m \u001b[1;33m+\u001b[0m \u001b[0mb\u001b[0m\u001b[1;33m\u001b[0m\u001b[1;33m\u001b[0m\u001b[0m\n\u001b[0m\u001b[0;32m      3\u001b[0m \u001b[1;33m\u001b[0m\u001b[0m\n\u001b[0;32m      4\u001b[0m \u001b[0mmy_sum\u001b[0m\u001b[1;33m(\u001b[0m\u001b[1;34m\"a\"\u001b[0m\u001b[1;33m,\u001b[0m \u001b[1;36m1\u001b[0m\u001b[1;33m)\u001b[0m\u001b[1;33m\u001b[0m\u001b[1;33m\u001b[0m\u001b[0m\n",
      "\u001b[1;31mTypeError\u001b[0m: can only concatenate str (not \"int\") to str"
     ]
    }
   ],
   "source": [
    "def my_sum(a, b):\n",
    "    return a + b\n",
    "\n",
    "my_sum(\"a\", 1)"
   ]
  },
  {
   "cell_type": "markdown",
   "metadata": {},
   "source": [
    "<div class=\"alert alert-info\">\n",
    "    <br>\n",
    "    <b>Can you use a `float` instead of an `int`?</b>\n",
    "    <br>\n",
    "    <br>\n",
    "</div>"
   ]
  },
  {
   "cell_type": "markdown",
   "metadata": {},
   "source": [
    "---"
   ]
  },
  {
   "cell_type": "markdown",
   "metadata": {},
   "source": [
    "## Raising Errors with python's native error handling"
   ]
  },
  {
   "cell_type": "markdown",
   "metadata": {},
   "source": [
    "[This topic diserves its own notebook.](02.3-ErrorHandling.ipynb)"
   ]
  }
 ],
 "metadata": {
  "kernelspec": {
   "display_name": "Python 3 (ipykernel)",
   "language": "python",
   "name": "python3"
  },
  "language_info": {
   "codemirror_mode": {
    "name": "ipython",
    "version": 3
   },
   "file_extension": ".py",
   "mimetype": "text/x-python",
   "name": "python",
   "nbconvert_exporter": "python",
   "pygments_lexer": "ipython3",
   "version": "3.11.7"
  }
 },
 "nbformat": 4,
 "nbformat_minor": 4
}
