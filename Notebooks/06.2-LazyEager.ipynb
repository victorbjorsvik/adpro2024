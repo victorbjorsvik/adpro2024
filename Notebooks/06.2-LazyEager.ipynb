{
 "cells": [
  {
   "cell_type": "markdown",
   "metadata": {},
   "source": [
    "# 06.2 - Lazy vs Eager evaluation (or execution)\n",
    "\n",
    "Python is the example of an __eager__ evaluation language. As soon as you enter a command that bounds a variable to a certain value, that bounding expression is evaluated. Every command gets executed right away.\n",
    "\n",
    "In a __lazy__ evaluation language, some commands do not trigger memory handling. You can sequence several commands in a row without accessing the data at all. You are actually building a __DAG__(see Class 3, for git, which also builds a DAG) of transformations:\n",
    "\n",
    "<img src=\"../Figures/sparkdag.png\">\n",
    "\n",
    "At the end of the DAG, you may trigger an action that will execute all the steps defined by the DAG.\n",
    "\n",
    "Simply speaking, you are building a recipe. The cooking only begins after you read the entire procedure. We will see more examples of this."
   ]
  },
  {
   "cell_type": "markdown",
   "metadata": {},
   "source": [
    "---\n",
    "## Delayed example\n",
    "\n",
    "Let's look at a simple example of eager implementation.\n",
    "Let's define two function that will run in a pipeline. This is a standard example and it is possible you may have already encountered some other very similar example."
   ]
  },
  {
   "cell_type": "code",
   "execution_count": 1,
   "metadata": {},
   "outputs": [],
   "source": [
    "from time import sleep\n",
    "\n",
    "def twice(x):\n",
    "    sleep(1)\n",
    "    return 2.0 * x\n",
    "\n",
    "def mult(x, y):\n",
    "    sleep(1)\n",
    "    return x * y"
   ]
  },
  {
   "cell_type": "markdown",
   "metadata": {},
   "source": [
    "Let's define a data pipeline where we use one function in two occasions and we apply the result as the argument of another function."
   ]
  },
  {
   "cell_type": "code",
   "execution_count": 2,
   "metadata": {},
   "outputs": [
    {
     "name": "stdout",
     "output_type": "stream",
     "text": [
      "CPU times: total: 0 ns\n",
      "Wall time: 3.02 s\n"
     ]
    }
   ],
   "source": [
    "%%time\n",
    "## measures how long this cell takes to compute.\n",
    "\n",
    "a = twice(2) ## Use function 1, part 1\n",
    "b = twice(3) ## Use function 1, part 2\n",
    "z = mult(a, b) ## Get the result of both functions\n",
    "#print(z)"
   ]
  },
  {
   "cell_type": "markdown",
   "metadata": {},
   "source": [
    "But in our multiplication exercise, we can parallelize part of the process: the __twice__ operations are independent, thus they can be parallelized.\n",
    "\n",
    "We will use the decorator `delayed` for this task. A **decorator** in python is a function that takes another function as its argument and __returns another function__."
   ]
  },
  {
   "cell_type": "code",
   "execution_count": 3,
   "metadata": {},
   "outputs": [],
   "source": [
    "from dask import delayed"
   ]
  },
  {
   "cell_type": "code",
   "execution_count": 4,
   "metadata": {},
   "outputs": [
    {
     "name": "stdout",
     "output_type": "stream",
     "text": [
      "CPU times: total: 0 ns\n",
      "Wall time: 0 ns\n"
     ]
    }
   ],
   "source": [
    "%%time\n",
    "a = delayed(twice)(2)\n",
    "b = delayed(twice)(3)\n",
    "z = delayed(mult)(a, b)"
   ]
  },
  {
   "cell_type": "markdown",
   "metadata": {},
   "source": [
    "The previous action took virtually no time. This is because we have yet to execute the computation proper. We need to **compute** the computation. So far, we have loaded a **DAG** of computations into **z**."
   ]
  },
  {
   "cell_type": "code",
   "execution_count": 5,
   "metadata": {},
   "outputs": [
    {
     "name": "stdout",
     "output_type": "stream",
     "text": [
      "CPU times: total: 0 ns\n",
      "Wall time: 2.01 s\n"
     ]
    },
    {
     "data": {
      "text/plain": [
       "24.0"
      ]
     },
     "execution_count": 5,
     "metadata": {},
     "output_type": "execute_result"
    }
   ],
   "source": [
    "%%time\n",
    "##Compute it now\n",
    "\n",
    "z.compute()"
   ]
  },
  {
   "cell_type": "code",
   "execution_count": 6,
   "metadata": {},
   "outputs": [
    {
     "data": {
      "text/plain": [
       "Delayed('mult-b0fbb10c-40d3-467a-82b1-a4a12534b56e')"
      ]
     },
     "execution_count": 6,
     "metadata": {},
     "output_type": "execute_result"
    }
   ],
   "source": [
    "z"
   ]
  },
  {
   "cell_type": "code",
   "execution_count": 7,
   "metadata": {},
   "outputs": [
    {
     "data": {
      "image/png": "[encoded data removed]",
      "text/plain": [
       "<IPython.core.display.Image object>"
      ]
     },
     "execution_count": 7,
     "metadata": {},
     "output_type": "execute_result"
    }
   ],
   "source": [
    "z.visualize()"
   ]
  },
  {
   "cell_type": "markdown",
   "metadata": {},
   "source": [
    "Some questions:\n",
    "1. Why 2s instead of 3s?\n",
    "1. Can we bring the time down to 1s?"
   ]
  },
  {
   "cell_type": "markdown",
   "metadata": {
    "tags": []
   },
   "source": [
    "Answers:\n",
    "The two questions are interlinked. The `mult` function has a dependency on the `twice` function. It is only after all instances of `twice` are finished that dask procedes to compute `mult`. Hence, the theoretical minimal time is 2s."
   ]
  },
  {
   "cell_type": "markdown",
   "metadata": {},
   "source": [
    "---\n",
    "## Let's build a more ambitious DAG"
   ]
  },
  {
   "cell_type": "code",
   "execution_count": 8,
   "metadata": {},
   "outputs": [],
   "source": [
    "def add(x, y):\n",
    "    sleep(1)\n",
    "    return x + y"
   ]
  },
  {
   "cell_type": "code",
   "execution_count": 9,
   "metadata": {},
   "outputs": [
    {
     "name": "stdout",
     "output_type": "stream",
     "text": [
      "CPU times: total: 0 ns\n",
      "Wall time: 995 µs\n"
     ]
    }
   ],
   "source": [
    "%%time\n",
    "a = delayed(twice)(2)\n",
    "b = delayed(twice)(3)\n",
    "c = delayed(add)(a, b)\n",
    "d = delayed(mult)(a, c)\n",
    "z = delayed(mult)(c, d)"
   ]
  },
  {
   "cell_type": "markdown",
   "metadata": {},
   "source": [
    "<div class=\"alert alert-info\"> \n",
    "    <br>\n",
    "    <b>Exercise: Can you guess how long will the computation will take without doing the computation?</b>   \n",
    "    <br>\n",
    "    <br>\n",
    "</div>"
   ]
  },
  {
   "cell_type": "code",
   "execution_count": 10,
   "metadata": {},
   "outputs": [
    {
     "data": {
      "image/png": "[encoded data removed]",
      "text/plain": [
       "<IPython.core.display.Image object>"
      ]
     },
     "execution_count": 10,
     "metadata": {},
     "output_type": "execute_result"
    }
   ],
   "source": [
    "z.visualize()"
   ]
  },
  {
   "cell_type": "code",
   "execution_count": 11,
   "metadata": {},
   "outputs": [
    {
     "name": "stdout",
     "output_type": "stream",
     "text": [
      "CPU times: total: 0 ns\n",
      "Wall time: 4.02 s\n"
     ]
    },
    {
     "data": {
      "text/plain": [
       "400.0"
      ]
     },
     "execution_count": 11,
     "metadata": {},
     "output_type": "execute_result"
    }
   ],
   "source": [
    "%%time\n",
    "z.compute()"
   ]
  },
  {
   "cell_type": "markdown",
   "metadata": {},
   "source": [
    "We saved just one second because there is only two operations being done simultaneously."
   ]
  },
  {
   "cell_type": "markdown",
   "metadata": {},
   "source": [
    "---\n",
    "### Loops\n",
    "\n",
    "Let's look at how to parallelize loops. If all the iterations of a loop are independent, you can safely parallelize your code."
   ]
  },
  {
   "cell_type": "code",
   "execution_count": 12,
   "metadata": {},
   "outputs": [
    {
     "name": "stdout",
     "output_type": "stream",
     "text": [
      "CPU times: total: 0 ns\n",
      "Wall time: 997 µs\n"
     ]
    }
   ],
   "source": [
    "%%time\n",
    "\n",
    "elements = []\n",
    "\n",
    "for i in range(10):\n",
    "    y = delayed(add)(1, i)\n",
    "    elements.append(y)\n",
    "    \n",
    "total = delayed(sum)(elements)"
   ]
  },
  {
   "cell_type": "markdown",
   "metadata": {},
   "source": [
    "How can we see the structure of what we did?  \n",
    "Remember, `total` is a `Delayed` object, so it has a visualize method."
   ]
  },
  {
   "cell_type": "code",
   "execution_count": 13,
   "metadata": {},
   "outputs": [
    {
     "data": {
      "text/plain": [
       "Delayed('sum-ecf1b01b-08a7-4bb2-aabe-6e480594f893')"
      ]
     },
     "execution_count": 13,
     "metadata": {},
     "output_type": "execute_result"
    }
   ],
   "source": [
    "total"
   ]
  },
  {
   "cell_type": "code",
   "execution_count": 14,
   "metadata": {},
   "outputs": [
    {
     "data": {
      "image/png": "[encoded data removed]",
      "text/plain": [
       "<IPython.core.display.Image object>"
      ]
     },
     "execution_count": 14,
     "metadata": {},
     "output_type": "execute_result"
    }
   ],
   "source": [
    "total.visualize()"
   ]
  },
  {
   "cell_type": "markdown",
   "metadata": {},
   "source": [
    "You will make 10 calls to the user defined `add` function in parallel and then finally use the default `sum` function.\n",
    "\n",
    "The latter has no sleep, so it will be executed as fast as possible.\n",
    "\n",
    "If we now compute, we see it takes a little over one second to run. Is it also one second in your machine?"
   ]
  },
  {
   "cell_type": "code",
   "execution_count": 15,
   "metadata": {},
   "outputs": [
    {
     "name": "stdout",
     "output_type": "stream",
     "text": [
      "CPU times: total: 0 ns\n",
      "Wall time: 1.01 s\n"
     ]
    },
    {
     "data": {
      "text/plain": [
       "55"
      ]
     },
     "execution_count": 15,
     "metadata": {},
     "output_type": "execute_result"
    }
   ],
   "source": [
    "%%time\n",
    "\n",
    "elements = []\n",
    "\n",
    "for i in range(10):\n",
    "    y = delayed(add)(1, i)\n",
    "    elements.append(y)\n",
    "    \n",
    "total = delayed(sum)(elements)\n",
    "\n",
    "total.compute()"
   ]
  },
  {
   "cell_type": "code",
   "execution_count": 16,
   "metadata": {},
   "outputs": [
    {
     "name": "stdout",
     "output_type": "stream",
     "text": [
      "CPU times: total: 0 ns\n",
      "Wall time: 10.1 s\n"
     ]
    },
    {
     "data": {
      "text/plain": [
       "55"
      ]
     },
     "execution_count": 16,
     "metadata": {},
     "output_type": "execute_result"
    }
   ],
   "source": [
    "%%time\n",
    "\n",
    "elements = []\n",
    "\n",
    "for i in range(10):\n",
    "    y = add(1, i)\n",
    "    elements.append(y)\n",
    "    \n",
    "total = sum(elements)\n",
    "total\n",
    "#total.compute()"
   ]
  },
  {
   "cell_type": "code",
   "execution_count": null,
   "metadata": {},
   "outputs": [],
   "source": []
  }
 ],
 "metadata": {
  "kernelspec": {
   "display_name": "Python 3 (ipykernel)",
   "language": "python",
   "name": "python3"
  },
  "language_info": {
   "codemirror_mode": {
    "name": "ipython",
    "version": 3
   },
   "file_extension": ".py",
   "mimetype": "text/x-python",
   "name": "python",
   "nbconvert_exporter": "python",
   "pygments_lexer": "ipython3",
   "version": "3.10.2"
  }
 },
 "nbformat": 4,
 "nbformat_minor": 4
}
