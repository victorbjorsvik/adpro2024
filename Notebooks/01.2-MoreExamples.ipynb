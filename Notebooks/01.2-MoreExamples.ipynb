{
 "cells": [
  {
   "cell_type": "markdown",
   "id": "9c04703a-7b30-46ba-9585-06a1bb6766a4",
   "metadata": {},
   "source": [
    "# 01.2 More examples of object handling - a look at Polymorphism"
   ]
  },
  {
   "cell_type": "markdown",
   "id": "c5c7d5fe-0675-41e8-9c5b-3aea9f2333b0",
   "metadata": {},
   "source": [
    "---\n",
    "# Taking another look at pandas\n",
    "\n",
    "By now you must have already some experience with ``pandas``. Let's load an example dataframe."
   ]
  },
  {
   "cell_type": "code",
   "execution_count": 4,
   "id": "a62de17c-496a-4d09-ae91-5c0d6bfa443a",
   "metadata": {},
   "outputs": [],
   "source": [
    "import pandas as pd\n",
    "import matplotlib.pyplot as plt\n",
    "import numpy as np"
   ]
  },
  {
   "cell_type": "code",
   "execution_count": 5,
   "id": "9d89342d-47cb-440d-993e-d6c48bf9c7e2",
   "metadata": {},
   "outputs": [],
   "source": [
    "#From the pandas documentation\n",
    "dates = pd.date_range(\"20210101\", periods=6) ##We'll come back at this code in the future\n",
    "\n",
    "df = pd.DataFrame(np.random.randn(6, 4), index=dates, columns=list(\"ABCD\"))"
   ]
  },
  {
   "cell_type": "code",
   "execution_count": 6,
   "id": "4eda2591-3764-45e8-9581-b45aff6a8a50",
   "metadata": {
    "tags": []
   },
   "outputs": [
    {
     "data": {
      "text/html": [
       "<div>\n",
       "<style scoped>\n",
       "    .dataframe tbody tr th:only-of-type {\n",
       "        vertical-align: middle;\n",
       "    }\n",
       "\n",
       "    .dataframe tbody tr th {\n",
       "        vertical-align: top;\n",
       "    }\n",
       "\n",
       "    .dataframe thead th {\n",
       "        text-align: right;\n",
       "    }\n",
       "</style>\n",
       "<table border=\"1\" class=\"dataframe\">\n",
       "  <thead>\n",
       "    <tr style=\"text-align: right;\">\n",
       "      <th></th>\n",
       "      <th>A</th>\n",
       "      <th>B</th>\n",
       "      <th>C</th>\n",
       "      <th>D</th>\n",
       "    </tr>\n",
       "  </thead>\n",
       "  <tbody>\n",
       "    <tr>\n",
       "      <th>2021-01-01</th>\n",
       "      <td>-1.048025</td>\n",
       "      <td>0.116742</td>\n",
       "      <td>0.516994</td>\n",
       "      <td>0.150627</td>\n",
       "    </tr>\n",
       "    <tr>\n",
       "      <th>2021-01-02</th>\n",
       "      <td>0.875917</td>\n",
       "      <td>-2.231251</td>\n",
       "      <td>-1.996933</td>\n",
       "      <td>-0.314992</td>\n",
       "    </tr>\n",
       "    <tr>\n",
       "      <th>2021-01-03</th>\n",
       "      <td>0.843716</td>\n",
       "      <td>-0.081864</td>\n",
       "      <td>-0.434937</td>\n",
       "      <td>0.211323</td>\n",
       "    </tr>\n",
       "    <tr>\n",
       "      <th>2021-01-04</th>\n",
       "      <td>0.631738</td>\n",
       "      <td>0.739265</td>\n",
       "      <td>0.930112</td>\n",
       "      <td>-0.418736</td>\n",
       "    </tr>\n",
       "    <tr>\n",
       "      <th>2021-01-05</th>\n",
       "      <td>0.004075</td>\n",
       "      <td>0.758398</td>\n",
       "      <td>-1.009914</td>\n",
       "      <td>0.072034</td>\n",
       "    </tr>\n",
       "    <tr>\n",
       "      <th>2021-01-06</th>\n",
       "      <td>1.375292</td>\n",
       "      <td>-0.081764</td>\n",
       "      <td>-0.530716</td>\n",
       "      <td>0.743683</td>\n",
       "    </tr>\n",
       "  </tbody>\n",
       "</table>\n",
       "</div>"
      ],
      "text/plain": [
       "                   A         B         C         D\n",
       "2021-01-01 -1.048025  0.116742  0.516994  0.150627\n",
       "2021-01-02  0.875917 -2.231251 -1.996933 -0.314992\n",
       "2021-01-03  0.843716 -0.081864 -0.434937  0.211323\n",
       "2021-01-04  0.631738  0.739265  0.930112 -0.418736\n",
       "2021-01-05  0.004075  0.758398 -1.009914  0.072034\n",
       "2021-01-06  1.375292 -0.081764 -0.530716  0.743683"
      ]
     },
     "execution_count": 6,
     "metadata": {},
     "output_type": "execute_result"
    }
   ],
   "source": [
    "df"
   ]
  },
  {
   "cell_type": "markdown",
   "id": "d3bced29-c737-4279-a296-cfbf9e8267d7",
   "metadata": {},
   "source": [
    "<div class=\"alert alert-info\"> \n",
    "    <br>\n",
    "    <b>Exercise: Name an attribute and a method of the ``df`` object</b>   \n",
    "    <br>\n",
    "    <br>\n",
    "</div>"
   ]
  },
  {
   "cell_type": "markdown",
   "id": "326868d1-dfc9-4aa3-bddf-d70ff37a05d5",
   "metadata": {},
   "source": [
    "Remember: Instead of having variables and functions, when contained of referring to an object, we usually call them:  \n",
    "variables &rarr; attributes  \n",
    "functions &rarr; methods"
   ]
  },
  {
   "cell_type": "markdown",
   "id": "00cd5e3e-1c18-488a-8778-caa05ec64345",
   "metadata": {},
   "source": [
    "What type is our object?"
   ]
  },
  {
   "cell_type": "code",
   "execution_count": 9,
   "id": "d887c09d-872d-4d36-88c9-4e473c7ac242",
   "metadata": {},
   "outputs": [
    {
     "data": {
      "text/plain": [
       "pandas.core.frame.DataFrame"
      ]
     },
     "execution_count": 9,
     "metadata": {},
     "output_type": "execute_result"
    }
   ],
   "source": [
    "type(df)"
   ]
  },
  {
   "cell_type": "code",
   "execution_count": 27,
   "id": "5eb49adf-7aa1-4728-9ca0-9157932efdce",
   "metadata": {},
   "outputs": [
    {
     "data": {
      "text/plain": [
       "-0.7416974282841117"
      ]
     },
     "execution_count": 27,
     "metadata": {},
     "output_type": "execute_result"
    }
   ],
   "source": [
    "df.A.values[0]"
   ]
  },
  {
   "cell_type": "code",
   "execution_count": 7,
   "id": "85ed68c5-b2ff-4dd1-b5f0-6e89a9c69260",
   "metadata": {},
   "outputs": [
    {
     "data": {
      "text/plain": [
       "numpy.float64"
      ]
     },
     "execution_count": 7,
     "metadata": {},
     "output_type": "execute_result"
    }
   ],
   "source": [
    "type(df.A.values[0])"
   ]
  },
  {
   "cell_type": "markdown",
   "id": "daaa5983-5c65-4658-89b5-5ed7f9b4ecfb",
   "metadata": {},
   "source": [
    "If you call the Dataframe object in a certain way, the return object has a different form: the object is polymorph."
   ]
  },
  {
   "cell_type": "code",
   "execution_count": 28,
   "id": "f438f637-7c1e-468b-8781-d3aa95a76973",
   "metadata": {},
   "outputs": [
    {
     "data": {
      "text/plain": [
       "(6, 4)"
      ]
     },
     "execution_count": 28,
     "metadata": {},
     "output_type": "execute_result"
    }
   ],
   "source": [
    "df.shape"
   ]
  },
  {
   "cell_type": "code",
   "execution_count": 10,
   "id": "9a07f040-a367-443e-8d06-7fd55b2ced9d",
   "metadata": {},
   "outputs": [
    {
     "data": {
      "text/plain": [
       "tuple"
      ]
     },
     "execution_count": 10,
     "metadata": {},
     "output_type": "execute_result"
    }
   ],
   "source": [
    "type(df.shape)"
   ]
  },
  {
   "cell_type": "code",
   "execution_count": 12,
   "id": "bbfcd6ce-4f13-4d18-82b2-2bfed9cb9485",
   "metadata": {},
   "outputs": [
    {
     "data": {
      "text/plain": [
       "method"
      ]
     },
     "execution_count": 12,
     "metadata": {},
     "output_type": "execute_result"
    }
   ],
   "source": [
    "type(df.describe)"
   ]
  },
  {
   "cell_type": "code",
   "execution_count": 29,
   "id": "8ce95f40-1e5c-4824-a0e5-b779415de6c2",
   "metadata": {
    "tags": []
   },
   "outputs": [
    {
     "data": {
      "text/html": [
       "<div>\n",
       "<style scoped>\n",
       "    .dataframe tbody tr th:only-of-type {\n",
       "        vertical-align: middle;\n",
       "    }\n",
       "\n",
       "    .dataframe tbody tr th {\n",
       "        vertical-align: top;\n",
       "    }\n",
       "\n",
       "    .dataframe thead th {\n",
       "        text-align: right;\n",
       "    }\n",
       "</style>\n",
       "<table border=\"1\" class=\"dataframe\">\n",
       "  <thead>\n",
       "    <tr style=\"text-align: right;\">\n",
       "      <th></th>\n",
       "      <th>A</th>\n",
       "      <th>B</th>\n",
       "      <th>C</th>\n",
       "      <th>D</th>\n",
       "    </tr>\n",
       "  </thead>\n",
       "  <tbody>\n",
       "    <tr>\n",
       "      <th>count</th>\n",
       "      <td>6.000000</td>\n",
       "      <td>6.000000</td>\n",
       "      <td>6.000000</td>\n",
       "      <td>6.000000</td>\n",
       "    </tr>\n",
       "    <tr>\n",
       "      <th>mean</th>\n",
       "      <td>0.176941</td>\n",
       "      <td>-0.216118</td>\n",
       "      <td>-0.646501</td>\n",
       "      <td>-0.226604</td>\n",
       "    </tr>\n",
       "    <tr>\n",
       "      <th>std</th>\n",
       "      <td>0.892783</td>\n",
       "      <td>0.912062</td>\n",
       "      <td>1.214436</td>\n",
       "      <td>0.559694</td>\n",
       "    </tr>\n",
       "    <tr>\n",
       "      <th>min</th>\n",
       "      <td>-0.741697</td>\n",
       "      <td>-1.374273</td>\n",
       "      <td>-1.784642</td>\n",
       "      <td>-1.139066</td>\n",
       "    </tr>\n",
       "    <tr>\n",
       "      <th>25%</th>\n",
       "      <td>-0.523512</td>\n",
       "      <td>-0.770995</td>\n",
       "      <td>-1.660732</td>\n",
       "      <td>-0.328734</td>\n",
       "    </tr>\n",
       "    <tr>\n",
       "      <th>50%</th>\n",
       "      <td>0.087089</td>\n",
       "      <td>-0.390790</td>\n",
       "      <td>-0.928785</td>\n",
       "      <td>-0.194139</td>\n",
       "    </tr>\n",
       "    <tr>\n",
       "      <th>75%</th>\n",
       "      <td>0.594407</td>\n",
       "      <td>0.551603</td>\n",
       "      <td>0.134874</td>\n",
       "      <td>-0.092495</td>\n",
       "    </tr>\n",
       "    <tr>\n",
       "      <th>max</th>\n",
       "      <td>1.592700</td>\n",
       "      <td>0.891139</td>\n",
       "      <td>1.178493</td>\n",
       "      <td>0.599933</td>\n",
       "    </tr>\n",
       "  </tbody>\n",
       "</table>\n",
       "</div>"
      ],
      "text/plain": [
       "              A         B         C         D\n",
       "count  6.000000  6.000000  6.000000  6.000000\n",
       "mean   0.176941 -0.216118 -0.646501 -0.226604\n",
       "std    0.892783  0.912062  1.214436  0.559694\n",
       "min   -0.741697 -1.374273 -1.784642 -1.139066\n",
       "25%   -0.523512 -0.770995 -1.660732 -0.328734\n",
       "50%    0.087089 -0.390790 -0.928785 -0.194139\n",
       "75%    0.594407  0.551603  0.134874 -0.092495\n",
       "max    1.592700  0.891139  1.178493  0.599933"
      ]
     },
     "execution_count": 29,
     "metadata": {},
     "output_type": "execute_result"
    }
   ],
   "source": [
    "df.describe()"
   ]
  },
  {
   "cell_type": "markdown",
   "id": "fff45a5f-d05b-4fab-a4ac-8bbf0e285baf",
   "metadata": {},
   "source": [
    "We can call methods in a chain of code, as long as we are still apllying the methods to an object with the right type."
   ]
  },
  {
   "cell_type": "code",
   "execution_count": 14,
   "id": "a8aa77e3-864b-4d7f-9a6a-68c5c4743cd6",
   "metadata": {},
   "outputs": [
    {
     "data": {
      "text/plain": [
       "A    1.375292\n",
       "B    0.758398\n",
       "C    0.930112\n",
       "D    0.743683\n",
       "dtype: float64"
      ]
     },
     "execution_count": 14,
     "metadata": {},
     "output_type": "execute_result"
    }
   ],
   "source": [
    "df.max() ## This is a series. It also has a \"max\" method"
   ]
  },
  {
   "cell_type": "code",
   "execution_count": 15,
   "id": "c231b2fc-e5c1-4333-b775-6508aa36027d",
   "metadata": {},
   "outputs": [
    {
     "data": {
      "text/plain": [
       "numpy.float64"
      ]
     },
     "execution_count": 15,
     "metadata": {},
     "output_type": "execute_result"
    }
   ],
   "source": [
    "type(df.max().max()) ## This is a float from the numpy library"
   ]
  },
  {
   "cell_type": "markdown",
   "id": "7fb2f4b2-08ab-47c8-92d0-dbee8fe870be",
   "metadata": {},
   "source": [
    "<div class=\"alert alert-info\"> \n",
    "    <br>\n",
    "    <b>1) Why can't you run df.max().max().max().</b><br>   \n",
    "    <b>2) Why can you run df.show().show().show().show().show() ?</b><br>\n",
    "    <br>\n",
    "</div>"
   ]
  },
  {
   "cell_type": "code",
   "execution_count": 31,
   "id": "c45d74ee-8484-4969-81f5-10613ebb98fa",
   "metadata": {},
   "outputs": [
    {
     "data": {
      "image/png": "[encoded data removed]",
      "text/plain": [
       "<Figure size 432x288 with 1 Axes>"
      ]
     },
     "metadata": {
      "needs_background": "light"
     },
     "output_type": "display_data"
    }
   ],
   "source": [
    "df.plot() ## <-- is this the same as plt.plot()?\n",
    "plt.show()"
   ]
  },
  {
   "cell_type": "code",
   "execution_count": 32,
   "id": "d062b8e4-8da4-41bd-a7c9-c72fc827bceb",
   "metadata": {
    "tags": []
   },
   "outputs": [
    {
     "data": {
      "image/png": "[encoded data removed]",
      "text/plain": [
       "<Figure size 432x288 with 1 Axes>"
      ]
     },
     "metadata": {
      "needs_background": "light"
     },
     "output_type": "display_data"
    }
   ],
   "source": [
    "df.plot() ## Press tab inside the parenthesis\n",
    "plt.show()"
   ]
  },
  {
   "cell_type": "markdown",
   "id": "0125bf09-b434-4f7f-8fce-a799e3d636ab",
   "metadata": {},
   "source": [
    "As you can see, pandas has documentation on its methods. Not only just the methods, but the overall code has a unique structure.  \n",
    "If we want people to use the code we develop it must be structured, organized, and documented.  \n",
    "[Now we will expand the class we have been working on](01.3-StyleGuide.ipynb) with some coding guidelines. If someone else wishes to use it or further develop it, they will have an easier task in reading your code."
   ]
  }
 ],
 "metadata": {
  "kernelspec": {
   "display_name": "Python 3 (ipykernel)",
   "language": "python",
   "name": "python3"
  },
  "language_info": {
   "codemirror_mode": {
    "name": "ipython",
    "version": 3
   },
   "file_extension": ".py",
   "mimetype": "text/x-python",
   "name": "python",
   "nbconvert_exporter": "python",
   "pygments_lexer": "ipython3",
   "version": "3.10.1"
  }
 },
 "nbformat": 4,
 "nbformat_minor": 5
}
