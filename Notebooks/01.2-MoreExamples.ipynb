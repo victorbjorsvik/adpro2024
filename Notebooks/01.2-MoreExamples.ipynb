{
 "cells": [
  {
   "cell_type": "markdown",
   "id": "9c04703a-7b30-46ba-9585-06a1bb6766a4",
   "metadata": {},
   "source": [
    "# 01.2 More examples of object handling - a look at Polymorphism"
   ]
  },
  {
   "cell_type": "markdown",
   "id": "c5c7d5fe-0675-41e8-9c5b-3aea9f2333b0",
   "metadata": {},
   "source": [
    "---\n",
    "# Taking another look at pandas\n",
    "\n",
    "By now you must have already some experience with ``pandas``. Let's load an example dataframe."
   ]
  },
  {
   "cell_type": "code",
   "execution_count": null,
   "id": "a62de17c-496a-4d09-ae91-5c0d6bfa443a",
   "metadata": {},
   "outputs": [],
   "source": [
    "import pandas as pd\n",
    "import matplotlib.pyplot as plt\n",
    "import numpy as np"
   ]
  },
  {
   "cell_type": "code",
   "execution_count": null,
   "id": "9d89342d-47cb-440d-993e-d6c48bf9c7e2",
   "metadata": {},
   "outputs": [],
   "source": [
    "#From the pandas documentation\n",
    "dates = pd.date_range(\"20210101\", periods=6) ##We'll come back at this code in the future\n",
    "\n",
    "df = pd.DataFrame(np.random.randn(6, 4), index=dates, columns=list(\"ABCD\"))"
   ]
  },
  {
   "cell_type": "code",
   "execution_count": null,
   "id": "4eda2591-3764-45e8-9581-b45aff6a8a50",
   "metadata": {
    "tags": []
   },
   "outputs": [],
   "source": [
    "df"
   ]
  },
  {
   "cell_type": "markdown",
   "id": "d3bced29-c737-4279-a296-cfbf9e8267d7",
   "metadata": {},
   "source": [
    "<div class=\"alert alert-info\"> \n",
    "    <br>\n",
    "    <b>Exercise: Name an attribute and a method of the ``df`` object</b>   \n",
    "    <br>\n",
    "    <br>\n",
    "</div>"
   ]
  },
  {
   "cell_type": "markdown",
   "id": "326868d1-dfc9-4aa3-bddf-d70ff37a05d5",
   "metadata": {},
   "source": [
    "Remember: Instead of having variables and functions, when contained of referring to an object, we usually call them:  \n",
    "variables &rarr; attributes  \n",
    "functions &rarr; methods"
   ]
  },
  {
   "cell_type": "markdown",
   "id": "00cd5e3e-1c18-488a-8778-caa05ec64345",
   "metadata": {},
   "source": [
    "What type is our object?"
   ]
  },
  {
   "cell_type": "code",
   "execution_count": null,
   "id": "d887c09d-872d-4d36-88c9-4e473c7ac242",
   "metadata": {},
   "outputs": [],
   "source": [
    "type(df)"
   ]
  },
  {
   "cell_type": "code",
   "execution_count": null,
   "id": "5eb49adf-7aa1-4728-9ca0-9157932efdce",
   "metadata": {},
   "outputs": [],
   "source": [
    "df.A.values[0]"
   ]
  },
  {
   "cell_type": "code",
   "execution_count": null,
   "id": "85ed68c5-b2ff-4dd1-b5f0-6e89a9c69260",
   "metadata": {},
   "outputs": [],
   "source": [
    "type(df.A.values[0])"
   ]
  },
  {
   "cell_type": "markdown",
   "id": "daaa5983-5c65-4658-89b5-5ed7f9b4ecfb",
   "metadata": {},
   "source": [
    "If you call the Dataframe object in a certain way, the return object has a different form: the object is polymorph."
   ]
  },
  {
   "cell_type": "code",
   "execution_count": null,
   "id": "f438f637-7c1e-468b-8781-d3aa95a76973",
   "metadata": {},
   "outputs": [],
   "source": [
    "df.shape"
   ]
  },
  {
   "cell_type": "code",
   "execution_count": null,
   "id": "9a07f040-a367-443e-8d06-7fd55b2ced9d",
   "metadata": {},
   "outputs": [],
   "source": [
    "type(df.shape)"
   ]
  },
  {
   "cell_type": "code",
   "execution_count": null,
   "id": "bbfcd6ce-4f13-4d18-82b2-2bfed9cb9485",
   "metadata": {},
   "outputs": [],
   "source": [
    "type(df.describe)"
   ]
  },
  {
   "cell_type": "code",
   "execution_count": null,
   "id": "8ce95f40-1e5c-4824-a0e5-b779415de6c2",
   "metadata": {
    "tags": []
   },
   "outputs": [],
   "source": [
    "df.describe()"
   ]
  },
  {
   "cell_type": "markdown",
   "id": "fff45a5f-d05b-4fab-a4ac-8bbf0e285baf",
   "metadata": {},
   "source": [
    "We can call methods in a chain of code, as long as we are still apllying the methods to an object with the right type."
   ]
  },
  {
   "cell_type": "code",
   "execution_count": null,
   "id": "a8aa77e3-864b-4d7f-9a6a-68c5c4743cd6",
   "metadata": {},
   "outputs": [],
   "source": [
    "df.max() ## This is a series. It also has a \"max\" method"
   ]
  },
  {
   "cell_type": "code",
   "execution_count": null,
   "id": "c231b2fc-e5c1-4333-b775-6508aa36027d",
   "metadata": {},
   "outputs": [],
   "source": [
    "type(df.max().max()) ## This is a float from the numpy library"
   ]
  },
  {
   "cell_type": "markdown",
   "id": "7fb2f4b2-08ab-47c8-92d0-dbee8fe870be",
   "metadata": {},
   "source": [
    "<div class=\"alert alert-info\"> \n",
    "    <br>\n",
    "    <b>1) Why can't you run df.max().max().max().</b><br>   \n",
    "    <b>2) Why can you run df.show().show().show().show().show() ?</b><br>\n",
    "    <br>\n",
    "</div>"
   ]
  },
  {
   "cell_type": "code",
   "execution_count": null,
   "id": "c45d74ee-8484-4969-81f5-10613ebb98fa",
   "metadata": {},
   "outputs": [],
   "source": [
    "df.plot() ## <-- is this the same as plt.plot()?\n",
    "plt.show()"
   ]
  },
  {
   "cell_type": "code",
   "execution_count": null,
   "id": "d062b8e4-8da4-41bd-a7c9-c72fc827bceb",
   "metadata": {
    "tags": []
   },
   "outputs": [],
   "source": [
    "df.plot() ## Press tab inside the parenthesis\n",
    "plt.show()"
   ]
  },
  {
   "cell_type": "markdown",
   "id": "0125bf09-b434-4f7f-8fce-a799e3d636ab",
   "metadata": {},
   "source": [
    "As you can see, pandas has documentation on its methods. Not only just the methods, but the overall code has a unique structure.  \n",
    "If we want people to use the code we develop it must be structured, organized, and documented.  \n",
    "[Now we will expand the class we have been working on](01.3-StyleGuide.ipynb) with some coding guidelines. If someone else wishes to use it or further develop it, they will have an easier task in reading your code."
   ]
  }
 ],
 "metadata": {
  "kernelspec": {
   "display_name": "Python 3 (ipykernel)",
   "language": "python",
   "name": "python3"
  },
  "language_info": {
   "codemirror_mode": {
    "name": "ipython",
    "version": 3
   },
   "file_extension": ".py",
   "mimetype": "text/x-python",
   "name": "python",
   "nbconvert_exporter": "python",
   "pygments_lexer": "ipython3",
   "version": "3.11.7"
  }
 },
 "nbformat": 4,
 "nbformat_minor": 5
}
