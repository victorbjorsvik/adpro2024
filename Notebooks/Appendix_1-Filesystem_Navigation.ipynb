{
 "cells": [
  {
   "cell_type": "markdown",
   "metadata": {},
   "source": [
    "# Filesystem navigation\n",
    "\n",
    "In the process of creating a project, one must create a simple structure for the necessary files.\n",
    "\n",
    "Files are ususally stored at a specific location according to __1:functionality__ or __2:type__. Examples:\n",
    "1. Configuration, licensing, and introductory documentation are stored at the main directory.\n",
    "1. Jupyter Notebooks where to run examples are normally stored together at a single directory. The .py containing the files of your functions are usually on a separate directory.\n",
    "\n",
    "To start a new project, you must know beforehand where and how you will store your contents."
   ]
  },
  {
   "cell_type": "markdown",
   "metadata": {},
   "source": [
    "<div class=\"alert alert-info\">\n",
    "    <b>Create a directory somewhere else on the disk, at a location you feel comfortable in developing a project.<b>\n",
    "</div>"
   ]
  },
  {
   "cell_type": "markdown",
   "metadata": {},
   "source": [
    "There are usually some good practices for naming the directories you will need.\n",
    "\n",
    "* \"notebooks\" is where you will store the notebooks you use for prototyping and __Showcase__ your tutorials and/or findings.\n",
    "* \"docs\" is where you will store your main documentation, which can be auto-generated.\n",
    "* \"tests\" is where your software testing will take place.\n",
    "* A directory with the name of your project. Let's say you name your project \"School Grades Analysis\". A nice place to store all the additional functions you developped would be \"sga\", with just the initials.\n",
    "\n",
    "In the example of these classes I called \"Functions\" to the equivalent of the project directory, so you can better find it. There is also no generally accepted rule saying you should capitalize your first letter.\n",
    "\n",
    "In the examples of this class, the directories without capitalization tell me they are not stand-alone content, and are paired with content from other diretories. I know, maybe I should be more rigorous in this definition, as 'Figures' and 'Files' should also not be capitalised. "
   ]
  },
  {
   "cell_type": "markdown",
   "metadata": {},
   "source": [
    "<div class=\"alert alert-info\">\n",
    "    <b>Let's quickly start a project with a solid structure.<b>\n",
    "</div>"
   ]
  }
 ],
 "metadata": {
  "kernelspec": {
   "display_name": "Python 3",
   "language": "python",
   "name": "python3"
  },
  "language_info": {
   "codemirror_mode": {
    "name": "ipython",
    "version": 3
   },
   "file_extension": ".py",
   "mimetype": "text/x-python",
   "name": "python",
   "nbconvert_exporter": "python",
   "pygments_lexer": "ipython3",
   "version": "3.7.9"
  }
 },
 "nbformat": 4,
 "nbformat_minor": 4
}
