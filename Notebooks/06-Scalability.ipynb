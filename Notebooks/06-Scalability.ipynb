{
 "cells": [
  {
   "cell_type": "markdown",
   "metadata": {},
   "source": [
    "# 06 - Scalability\n",
    "\n",
    "If you remember our very first class, it was mentioned that python is a well supported, beginner friendly language. However, python was not that good at \"scalability\"."
   ]
  },
  {
   "cell_type": "markdown",
   "metadata": {},
   "source": [
    "Scalability is a concept originally introduced in economy. It is, [according to wikipedia](https://en.wikipedia.org/wiki/Scalability), _\"[...]the property of a system to handle a growing amount of work by adding resources to the system.\"_\n",
    "\n",
    "In an economics settings, and speaking in simple terms, a _scalable process_ is a process whose output has a direct and proportional relationship with its input. Let's say there is a manufacturing company that produces chairs. If the company receives 1 ton of wood in a day, it can output 1000 chairs. If the company receives 2 tonnes, then it produces 2000 chairs. If it receives 3 tonnes, then 3000 chairs. In the range of inputs we have seen so far, it seems the company can __scale up production__ perfectly. However, let's say the company now receives 4 tonnes. If it is too much for the transformation process, a __bottleneck__ will occur in the production cycle. The company now can output 3500 chairs. The process still scales at this range but poorly. If we keep increasing the wood, one of two things can happen. The company gets more workers and machines for the assembly line, or it just caps at 3500. "
   ]
  },
  {
   "cell_type": "code",
   "execution_count": 1,
   "metadata": {},
   "outputs": [
    {
     "data": {
      "image/png": "[encoded data removed]",
      "text/plain": [
       "<Figure size 432x288 with 1 Axes>"
      ]
     },
     "metadata": {
      "needs_background": "light"
     },
     "output_type": "display_data"
    }
   ],
   "source": [
    "import matplotlib.pyplot as plt\n",
    "\n",
    "tonnes = [1, 2, 3, 4, 5]\n",
    "chairs = [1000, 2000, 3000, 3500, 3500]\n",
    "\n",
    "plt.plot(tonnes, chairs, linestyle='-', marker='o')\n",
    "plt.ylabel(\"Output Chairs [#]\")\n",
    "plt.xlabel(\"Input Wood [t]\")\n",
    "plt.show()"
   ]
  },
  {
   "cell_type": "markdown",
   "metadata": {},
   "source": [
    "In computer science, the underlying way of thinking is pretty much the same. The resources are now disk space, computer memory, and processing cores (CPU, ylabel, TPU, etc.). A scalable process is capable of allocating the resources it needs, when it needs them.\n",
    "\n",
    "Each line of code in python is actually several hundred instructions (or more). Although the code might look simple to use, the more you code and the more you create features, interplayability between methods, variables, and so on, the more processor/memory you will need. You run out of memory fast and, at some point, an additional calculation will come with an amazing overhead."
   ]
  },
  {
   "cell_type": "markdown",
   "metadata": {},
   "source": [
    "Some languages like __C/C++__ and __Java__ can overcome such obstacles due to their nature, but are hard for beginners."
   ]
  },
  {
   "cell_type": "markdown",
   "metadata": {},
   "source": [
    "Built on top of the __Java__ ecosystem, we have other languages that attempt to bridge the divide between __scalability__ and __beginner-friendlyness__. Such are the examples of __Scala__ and __spark__.\n",
    "* https://www.scala-lang.org/\n",
    "* https://spark.apache.org/\n",
    "\n",
    "It is not unusual for spark to be used in some companies. Spark is already set up in a cluster and, as a data scientist, you have no overhead of configuration.\n",
    "\n",
    "But it might be the case where you need to do a project using only your laptop. You might even be starting your own company and you may need to use machine learning and a large dataset. You can do that with spark, but spark has its own set of functions for machine learning.\n",
    "\n",
    "You want to keep using python but you need the scalability of spark.\n",
    "\n",
    "### Laptop alternatives\n",
    "\n",
    "If you don't have access to a computing cluster and need to analyse a dataset of several GBs, there are some alternatives:\n",
    " - [Dask](https://dask.org/)\n",
    " - [Vaex](https://vaex.io/)\n",
    "\n",
    "For these classes we will use **Dask**.\n",
    "\n",
    "But first, we need to delve into an important concept of programming languages: **evaluation** (or execution)"
   ]
  }
 ],
 "metadata": {
  "kernelspec": {
   "display_name": "Python 3 (ipykernel)",
   "language": "python",
   "name": "python3"
  },
  "language_info": {
   "codemirror_mode": {
    "name": "ipython",
    "version": 3
   },
   "file_extension": ".py",
   "mimetype": "text/x-python",
   "name": "python",
   "nbconvert_exporter": "python",
   "pygments_lexer": "ipython3",
   "version": "3.10.2"
  }
 },
 "nbformat": 4,
 "nbformat_minor": 4
}
