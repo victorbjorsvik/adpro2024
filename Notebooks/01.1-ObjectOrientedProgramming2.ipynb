{
 "cells": [
  {
   "cell_type": "markdown",
   "metadata": {},
   "source": [
    "# 01.1 Demo: Objects in python"
   ]
  },
  {
   "cell_type": "markdown",
   "metadata": {},
   "source": [
    "---"
   ]
  },
  {
   "cell_type": "markdown",
   "metadata": {},
   "source": [
    "## Enforced objects"
   ]
  },
  {
   "cell_type": "markdown",
   "metadata": {},
   "source": [
    "In python, almost everything is an object, by design. You can see this via a simple example:"
   ]
  },
  {
   "cell_type": "code",
   "execution_count": null,
   "metadata": {},
   "outputs": [],
   "source": [
    "import numpy as np"
   ]
  },
  {
   "cell_type": "code",
   "execution_count": null,
   "metadata": {},
   "outputs": [],
   "source": [
    "a = np.linspace(0, 10)"
   ]
  },
  {
   "cell_type": "code",
   "execution_count": null,
   "metadata": {},
   "outputs": [],
   "source": [
    "a"
   ]
  },
  {
   "cell_type": "markdown",
   "metadata": {},
   "source": [
    "The numpy array object has both attributes and methods:"
   ]
  },
  {
   "cell_type": "code",
   "execution_count": null,
   "metadata": {},
   "outputs": [],
   "source": [
    "a.sum()"
   ]
  },
  {
   "cell_type": "code",
   "execution_count": null,
   "metadata": {},
   "outputs": [],
   "source": [
    "a.shape"
   ]
  },
  {
   "cell_type": "code",
   "execution_count": null,
   "metadata": {},
   "outputs": [],
   "source": [
    "a. #autocomplete"
   ]
  },
  {
   "cell_type": "markdown",
   "metadata": {},
   "source": [
    "---"
   ]
  },
  {
   "cell_type": "markdown",
   "metadata": {},
   "source": [
    "## Defining a class"
   ]
  },
  {
   "cell_type": "markdown",
   "metadata": {},
   "source": [
    "To build a class in python, one can simply initialize it with a single statement."
   ]
  },
  {
   "cell_type": "code",
   "execution_count": null,
   "metadata": {},
   "outputs": [],
   "source": [
    "class person:\n",
    "    name = \"Sam\""
   ]
  },
  {
   "cell_type": "code",
   "execution_count": null,
   "metadata": {},
   "outputs": [],
   "source": [
    "person.name"
   ]
  },
  {
   "cell_type": "markdown",
   "metadata": {},
   "source": [
    "Instead of organizing our code in a fashion where we must keep all variables apart, we can use objects as containers. We also can develop methods inside the classes as to where we can keep track of the attributes for each instance of the class.\n",
    "\n",
    "Instead of defining object by object (class by class), we will define a ``person`` template and attribute it to several objects. To do this we must initialize the class via the __\\_\\_init\\_\\_()__ method.\n",
    "\n",
    "We'll briefly see why programming this way has advantages."
   ]
  },
  {
   "cell_type": "code",
   "execution_count": null,
   "metadata": {},
   "outputs": [],
   "source": [
    "class person:\n",
    "    def __init__(self, name):\n",
    "        self.name = name"
   ]
  },
  {
   "cell_type": "markdown",
   "metadata": {},
   "source": [
    "The ``self`` keyword refers, as the name imply, to itself, i.e., each instance of the class: for the ``sam`` class, ``self`` refers to ``sam``."
   ]
  },
  {
   "cell_type": "code",
   "execution_count": null,
   "metadata": {},
   "outputs": [],
   "source": [
    "sam = person('Sam')"
   ]
  },
  {
   "cell_type": "code",
   "execution_count": null,
   "metadata": {},
   "outputs": [],
   "source": [
    "sam.name"
   ]
  },
  {
   "cell_type": "code",
   "execution_count": null,
   "metadata": {},
   "outputs": [],
   "source": [
    "alex = person('Alex')"
   ]
  },
  {
   "cell_type": "code",
   "execution_count": null,
   "metadata": {},
   "outputs": [],
   "source": [
    "alex.name"
   ]
  },
  {
   "cell_type": "code",
   "execution_count": null,
   "metadata": {},
   "outputs": [],
   "source": [
    "sam.name"
   ]
  },
  {
   "cell_type": "markdown",
   "metadata": {},
   "source": [
    "Think of the *class definition* as a *cookie cutter* and the _instances_ of the classes as *cookies*.  \n",
    "In our example, *person* is the class definition, *sam* and *alex* are *instances* of the class.\n",
    "<img src=\"../Figures/cookies.PNG\">"
   ]
  },
  {
   "cell_type": "markdown",
   "metadata": {},
   "source": [
    "<div class=\"alert alert-info\"> \n",
    "    <br>\n",
    "    <b>Exercise: think of other attributes to add to the ``person`` class and add them. Use at least one attribute with type other than ``string``</b>   \n",
    "    <br>\n",
    "    <br>\n",
    "</div>"
   ]
  },
  {
   "cell_type": "code",
   "execution_count": null,
   "metadata": {},
   "outputs": [],
   "source": [
    "#%load ../Functions/class_person_example.py"
   ]
  },
  {
   "cell_type": "markdown",
   "metadata": {},
   "source": [
    "## Expanding the class with methods"
   ]
  },
  {
   "cell_type": "markdown",
   "metadata": {},
   "source": [
    "Besides just values, i.e., attributes, we can add functions that will operate on the object itself. These are usually called ``methods``."
   ]
  },
  {
   "cell_type": "code",
   "execution_count": null,
   "metadata": {},
   "outputs": [],
   "source": [
    "class Person:\n",
    "    def __init__(self, name, age, country):\n",
    "        self.name = name\n",
    "        self.age = age\n",
    "        self.country = country\n",
    "    \n",
    "    ## A method so the class can identify itself.    \n",
    "    def whoami(self):\n",
    "        print(\"My name is %s and I am %d years old. I am from %s.\"%(self.name, self.age, self.country))"
   ]
  },
  {
   "cell_type": "code",
   "execution_count": null,
   "metadata": {},
   "outputs": [],
   "source": [
    "sam = Person('Sam', 24, 'Atlantis')\n",
    "sam.whoami()"
   ]
  },
  {
   "cell_type": "code",
   "execution_count": null,
   "metadata": {},
   "outputs": [],
   "source": [
    "alex = person('Alex', 36, 'Arcadia')\n",
    "alex.whoami()"
   ]
  },
  {
   "cell_type": "markdown",
   "metadata": {},
   "source": [
    "We can also change the values on the fly:"
   ]
  },
  {
   "cell_type": "code",
   "execution_count": null,
   "metadata": {},
   "outputs": [],
   "source": [
    "sam.age = 600\n",
    "sam.whoami()"
   ]
  },
  {
   "cell_type": "markdown",
   "metadata": {},
   "source": [
    "As you can seem this is much better than tracking each variable idendepndently:\n",
    "\n",
    "```python\n",
    "sam_age = 24\n",
    "sam_name = 'Sam'\n",
    "sam_country = 'Atlantis'\n",
    "\n",
    "def whoami(name, age, country):\n",
    "    ...\n",
    "```"
   ]
  },
  {
   "cell_type": "markdown",
   "metadata": {},
   "source": [
    "You can also initialize a ``class`` with hard-coded code: "
   ]
  },
  {
   "cell_type": "code",
   "execution_count": null,
   "metadata": {},
   "outputs": [],
   "source": [
    "class student:\n",
    "    \n",
    "    def __init__(self, name, age, country):\n",
    "        self.name = name\n",
    "        self.age = age\n",
    "        self.country = country\n",
    "    \n",
    "        self.school = 'Nova'\n",
    "        self.year = 4\n",
    "    \n",
    "    ## A method so the class can identify itself.    \n",
    "    def whoami(self):\n",
    "        print(\"My name is %s and I am %d years old. I am from %s.\"%(self.name, self.age, self.country))\n",
    "        print(\"I study at %s and I am on year %d.\"%(self.school, self.year))"
   ]
  },
  {
   "cell_type": "code",
   "execution_count": null,
   "metadata": {},
   "outputs": [],
   "source": [
    "sam = student('Sam', 24, 'Atlantis')\n",
    "sam.whoami()"
   ]
  },
  {
   "cell_type": "markdown",
   "metadata": {},
   "source": [
    "<div class=\"alert alert-info\"> \n",
    "    <br>\n",
    "    <b>Exercise: Create another class called \"school\" and give it some attributes you may find relevant. Can you replace the new class \"school\" with the attribute \"school\" in the \"student\" class?</b>   \n",
    "    <br>\n",
    "    <br>\n",
    "</div>"
   ]
  },
  {
   "cell_type": "code",
   "execution_count": null,
   "metadata": {},
   "outputs": [],
   "source": [
    "# %load ../Functions/class_person2.py\n",
    "class school:\n",
    "    def __init__(self, name, address, theme):\n",
    "        self.name = name\n",
    "        self.address = address\n",
    "        self.theme = theme\n",
    "    \n",
    "class person2:\n",
    "    def __init__(self, name, age, country, school):\n",
    "        self.name = name\n",
    "        self.age = age\n",
    "        self.country = country\n",
    "        self.school = school\n",
    "\n",
    "\n",
    "school_eco = school('Nova', 'Carcavelos', 'Business')    \n",
    "\n",
    "sam = person2('Sam', 24, 'Atlantis', school_eco)\n",
    "\n",
    "sam.school\n"
   ]
  },
  {
   "cell_type": "markdown",
   "metadata": {},
   "source": [
    "---\n",
    "## Overloading\n",
    "\n",
    "In the first programming langugages, each operator (a sum, a multiplication,...) would be specifically defined only to interact between two objects of preset types (here we are assuming only two for the sake of simplicity of the example).\n",
    "\n",
    "For example, an addition would only be defined between to integers:"
   ]
  },
  {
   "cell_type": "code",
   "execution_count": null,
   "metadata": {},
   "outputs": [],
   "source": [
    "a = 1\n",
    "b = 1\n",
    "type(a), type(b)"
   ]
  },
  {
   "cell_type": "code",
   "execution_count": null,
   "metadata": {},
   "outputs": [],
   "source": [
    "a + b"
   ]
  },
  {
   "cell_type": "markdown",
   "metadata": {},
   "source": [
    "The return of the operator would also be of a certain kind. In this case:"
   ]
  },
  {
   "cell_type": "code",
   "execution_count": null,
   "metadata": {},
   "outputs": [],
   "source": [
    "type(a + b)"
   ]
  },
  {
   "cell_type": "markdown",
   "metadata": {},
   "source": [
    "If you had variables of different kind, it could be possible you would have to define another operator so you could sum them, for example:"
   ]
  },
  {
   "cell_type": "code",
   "execution_count": null,
   "metadata": {},
   "outputs": [],
   "source": [
    "a = 1\n",
    "b = 1.0\n",
    "type(a), type(b)"
   ]
  },
  {
   "cell_type": "code",
   "execution_count": null,
   "metadata": {},
   "outputs": [],
   "source": [
    "type(a + b)"
   ]
  },
  {
   "cell_type": "markdown",
   "metadata": {},
   "source": [
    "In old machines, an int was a register of 8bits and a float was a register of 16bits. So if a *sum* was to be used between two ints, it would have to be the different operation needed between two floats or between an int and a float."
   ]
  },
  {
   "cell_type": "markdown",
   "metadata": {},
   "source": [
    "<img src=\"../Figures/intfloat.png\">"
   ]
  },
  {
   "cell_type": "markdown",
   "metadata": {},
   "source": [
    "How would you define an operator between two variables of a different type?\n",
    "\n",
    "The answer is that you need to predefine a set of rules. In what we just saw, a float added to an int in python results in a float.\n",
    "\n",
    "**Overloading** of an operator is when you use the same operator but, depending on the context, the operator will perform different tasks. The \"+\" operator we just saw does different things when different objects are inputted. Be careful when using an operator you are not familiar with!\n",
    "\n",
    "**Overloading** is a type of **Polymorphism**, a characteristic of object-oriented programming. A **Polymorph** object, like a class, can return different types acoording to the way it is called. \n",
    "\n",
    "<div class=\"alert alert-info\"> \n",
    "    <br>\n",
    "    <b>Exercise: Guess the type of the following operations</b>   \n",
    "    <br>\n",
    "    <br>\n",
    "</div>"
   ]
  },
  {
   "cell_type": "code",
   "execution_count": null,
   "metadata": {},
   "outputs": [],
   "source": [
    "a = 1.2\n",
    "b = 3\n",
    "a * b"
   ]
  },
  {
   "cell_type": "code",
   "execution_count": null,
   "metadata": {},
   "outputs": [],
   "source": [
    "np.zeros(10) + 1"
   ]
  },
  {
   "cell_type": "code",
   "execution_count": null,
   "metadata": {},
   "outputs": [],
   "source": [
    "\"abc\" * 4"
   ]
  },
  {
   "cell_type": "code",
   "execution_count": null,
   "metadata": {},
   "outputs": [],
   "source": [
    "\"abc\" * 3.2"
   ]
  },
  {
   "cell_type": "markdown",
   "metadata": {},
   "source": [
    "[Let's take a look at some more examples](01.2-MoreExamples.ipynb)"
   ]
  }
 ],
 "metadata": {
  "kernelspec": {
   "display_name": "Python 3 (ipykernel)",
   "language": "python",
   "name": "python3"
  },
  "language_info": {
   "codemirror_mode": {
    "name": "ipython",
    "version": 3
   },
   "file_extension": ".py",
   "mimetype": "text/x-python",
   "name": "python",
   "nbconvert_exporter": "python",
   "pygments_lexer": "ipython3",
   "version": "3.11.7"
  }
 },
 "nbformat": 4,
 "nbformat_minor": 4
}
