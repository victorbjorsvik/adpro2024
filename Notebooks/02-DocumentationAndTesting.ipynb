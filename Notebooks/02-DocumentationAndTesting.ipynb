{
 "cells": [
  {
   "cell_type": "markdown",
   "metadata": {},
   "source": [
    "# 02 Documentation"
   ]
  },
  {
   "cell_type": "markdown",
   "metadata": {},
   "source": [
    "Why is documentation important? Because it is very hard to memorise everything. It is also very hard not to forget something.\n",
    "\n",
    "Memorizing an API (Application Programming Interface, e.g., [Pandas](https://pandas.pydata.org/)) is a waste of resources. Good documentation starts with a code design that makes third party usage as intuitive as possible. More often than not, code complexity easily overcomes your best intentions for a great code design. Memory is finite. Leaving behind a trail of breadcrumbs for you to find your way back is almost effortless and your future self will thank you."
   ]
  },
  {
   "cell_type": "code",
   "execution_count": null,
   "metadata": {},
   "outputs": [],
   "source": [
    "import IPython\n",
    "url = 'https://pandas.pydata.org/pandas-docs/stable/reference/api/pandas.DataFrame.html'\n",
    "IPython.display.IFrame(url, 800, 600)"
   ]
  },
  {
   "cell_type": "markdown",
   "metadata": {},
   "source": [
    "---"
   ]
  },
  {
   "cell_type": "markdown",
   "metadata": {},
   "source": [
    "## Documentation format"
   ]
  },
  {
   "cell_type": "markdown",
   "metadata": {},
   "source": [
    "There is not a single, consolidated list of the various types of documentation. For the format of documentation, several media comes to mind. At the moment, the [video tutorial](https://www.youtube.com/watch?v=rfscVS0vtbw) is a medium gaining increasing popularity."
   ]
  },
  {
   "cell_type": "code",
   "execution_count": null,
   "metadata": {},
   "outputs": [],
   "source": [
    "url = 'https://www.youtube.com/watch?v=rfscVS0vtbw'\n",
    "video_link = 'rfscVS0vtbw'\n",
    "from IPython.display import YouTubeVideo\n",
    "\n",
    "YouTubeVideo(video_link, width=500, height=300)"
   ]
  },
  {
   "cell_type": "markdown",
   "metadata": {},
   "source": [
    "You can see the code being developed or created in real-time, which makes it as immersive as it can get. There is also the [micro-article](https://medium.com/@nouralshakhouri/this-is-how-to-randomly-generate-album-cover-in-5-easy-steps-using-python-and-jupyter-notebook-d9041c15583c) where you can peruse a short example of how to use a certain library. The micro-article can be modular: the author may expand on a topic from time to time, showcasing simple use-cases.\n",
    "\n",
    "Some may consider documentation a \"necessary burden\". But if it is considered a burden, than the developer loses motivation. This may cause a developer to abandon or lax their documentation requirements, producing a lacking end product.\n",
    "\n",
    "The goal is to develop code that people find useful to use. This will require proper documentation. Over this course, we will focus on text documentation (unless you wish to make a video for extra credit)."
   ]
  },
  {
   "cell_type": "markdown",
   "metadata": {},
   "source": [
    "## Text documentation"
   ]
  },
  {
   "cell_type": "markdown",
   "metadata": {},
   "source": [
    "Text documentation may be, among others:\n",
    "1. The classic __README__ file: where you introduce your project to the user, so they can get started.\n",
    "1. __Specifictaion of Requirements__: what are the software tools on which your code finds grounding and are essential for it to run.\n",
    "1. __Algorithmical__: you describe the nature and workings of a certain algorithm you developed.\n",
    "1. __Licensing__: What are the constraints on the ethical usage of your code.  \n",
    "\n",
    "(We are assuming a purely software project.)\n",
    "\n",
    "<font size=5> Remember, your documentation must answer at least three basic questions!<font>\n",
    "    \n",
    "1. __How to start using your code__: what to do to install it and how to run it (usually at the home page of the project). Be kind, add examples. Learning by example is effective.\n",
    "1. __What your modules, functions, snippets, etc. are doing__: Why you chose to answer the problem you have (usually at the header of the file).\n",
    "1. __The expected results and how you test your code__: Help others debug and comprehend the workflow (usually during the code)."
   ]
  },
  {
   "cell_type": "markdown",
   "metadata": {},
   "source": [
    "---"
   ]
  },
  {
   "cell_type": "markdown",
   "metadata": {},
   "source": [
    "<div class=\"alert alert-warning\">\n",
    "    <b> To simplify printing output, it is best to restart your kernel here.<b>\n",
    "    <br>\n",
    "    <b> Later you may revisit the notebook and check the differences by running everything without restarting the kernel.</b>\n",
    "<\\div>"
   ]
  },
  {
   "cell_type": "markdown",
   "metadata": {},
   "source": [
    "### Built-in Python documentation\n",
    "\n",
    "Python has great documentation just in the basic install. You can access it in the following way."
   ]
  },
  {
   "cell_type": "code",
   "execution_count": null,
   "metadata": {},
   "outputs": [],
   "source": [
    "dir() #Dependng where you are running python, you get different results"
   ]
  },
  {
   "cell_type": "markdown",
   "metadata": {},
   "source": [
    "At least four objects should always be available to you out of the box:\n",
    "\n",
    "* __\\_\\_builtins\\_\\___: has the default packages python offers you out of the box (includes everything already in \\_\\_builtin\\_\\_)\n",
    "* __\\_\\_name\\_\\___: special variable that points to the name of the current module (\\_\\_name\\_\\_ == '\\_\\_main\\_\\_' points you to the \"main\" module. This is due to historical reasons, as \"main\" is the name of the \"place\" where your code is supposed to run by default.)\n",
    "* __\\_\\_package\\_\\___: allows you to create additional packages.\n",
    "* __\\_\\_doc\\_\\___: provides you with a way to access documentation for your objects. "
   ]
  },
  {
   "cell_type": "code",
   "execution_count": null,
   "metadata": {},
   "outputs": [],
   "source": [
    "dir(__builtins__)"
   ]
  },
  {
   "cell_type": "code",
   "execution_count": null,
   "metadata": {},
   "outputs": [],
   "source": [
    "help(min)"
   ]
  },
  {
   "cell_type": "markdown",
   "metadata": {},
   "source": [
    "<div class=\"alert alert-info\"> \n",
    "    <br>\n",
    "    <b>Exercise: By using dir() and help(), can you find if there is a built-in function that allows me to check what is the absolute value of type of variable is 1+2j?</b>   \n",
    "    <br>\n",
    "    <br>\n",
    "</div>"
   ]
  },
  {
   "cell_type": "markdown",
   "metadata": {},
   "source": [
    "---"
   ]
  },
  {
   "cell_type": "markdown",
   "metadata": {},
   "source": [
    "[Let's continue on the next notebook.](02.1-FirstSteps.ipynb)"
   ]
  }
 ],
 "metadata": {
  "kernelspec": {
   "display_name": "Python 3 (ipykernel)",
   "language": "python",
   "name": "python3"
  },
  "language_info": {
   "codemirror_mode": {
    "name": "ipython",
    "version": 3
   },
   "file_extension": ".py",
   "mimetype": "text/x-python",
   "name": "python",
   "nbconvert_exporter": "python",
   "pygments_lexer": "ipython3",
   "version": "3.11.7"
  }
 },
 "nbformat": 4,
 "nbformat_minor": 4
}
