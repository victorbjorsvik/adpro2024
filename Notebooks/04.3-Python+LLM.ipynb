{
 "cells": [
  {
   "cell_type": "markdown",
   "id": "1c8c20eb-6eb2-4671-81cd-7f79b2626336",
   "metadata": {},
   "source": [
    "# 04.3- Python + LLMs\n",
    "\n",
    "Using an LLM on a prompt? By now you have most likely have done that.  \n",
    "Copy pasting inputs and outputs and whatnot. Like if it is still 2023.  \n",
    "In this notebook we'll introduce how to get a working python interaction with an LLM that you can later include in your projects.  \n",
    "First, we need some brief definitions:\n",
    "\n",
    "## Intro to Large Language Models (in a programatic sense)\n",
    "\n",
    "### LLMs: Large Language Models\n",
    "A Large Language Model is a type of artificial intelligence model trained on vast amounts of text data to understand and generate human-like language. Think about our Shakespeare example, but on an a much much larger scale. These models are based on deep learning techniques, specifically neural networks, and are capable of performing various natural language processing tasks.\n",
    "\n",
    "### Generative Models\n",
    "While LLMs handle language, other models may generate art, recognize sound (Speech-To-Text), create videos, etc.. For coding purposes, one usually uses an LLM optimized for code, for example. To generate images you might use DALL-E and so on.\n",
    "\n",
    "### Agents\n",
    "Agents are software systems that have a [model at its core](https://developer.nvidia.com/blog/introduction-to-llm-agents/). The agents add memory to the model, making the model \"aware\" of the history of a chat you are having. The model can be any kind of generative model (images, text, etc.). An agent might even use several AI models under the hood, making it multi-task.\n",
    "\n",
    "### Langchain\n",
    "[Langchain](https://en.wikipedia.org/wiki/LangChain) is a software framework designed to make your interaction with AI Models and Agents much easier. It is still in its early stages, so we will use it with caution.\n",
    "\n",
    "### In this course\n",
    "We are going to focus on LLMs suited for coding and data analysis. Please make sure you have the secret key configured for OpenAI."
   ]
  },
  {
   "cell_type": "code",
   "execution_count": 2,
   "id": "c3d9d5fb-87a4-4346-8d4d-af968ff0aaaf",
   "metadata": {},
   "outputs": [],
   "source": [
    "# Uncomment and run, or copy paste to terminal and run\n",
    "#!pip install langchain\n",
    "#!pip install openai\n",
    "#!pip install numexpr"
   ]
  },
  {
   "cell_type": "code",
   "execution_count": null,
   "id": "b471248c-a7f5-4f0e-8abf-6a043f0da94d",
   "metadata": {},
   "outputs": [],
   "source": [
    "from langchain.chat_models import ChatOpenAI\n",
    "from langchain.agents import load_tools\n",
    "from langchain.agents import initialize_agent\n",
    "from langchain.agents import AgentType\n"
   ]
  },
  {
   "cell_type": "code",
   "execution_count": null,
   "id": "7b27963a-e8c8-48d4-9d5a-9bb5613c0de9",
   "metadata": {},
   "outputs": [],
   "source": []
  },
  {
   "cell_type": "code",
   "execution_count": null,
   "id": "7b08063c-da5b-4f5e-96ff-e7833ebfc97f",
   "metadata": {},
   "outputs": [],
   "source": []
  },
  {
   "cell_type": "code",
   "execution_count": null,
   "id": "3ce353bc-1118-458d-86a2-0cfe2e96b762",
   "metadata": {},
   "outputs": [],
   "source": []
  },
  {
   "cell_type": "code",
   "execution_count": null,
   "id": "c2ca0737-b920-45b1-b985-bda812726320",
   "metadata": {},
   "outputs": [],
   "source": []
  }
 ],
 "metadata": {
  "kernelspec": {
   "display_name": "Python 3 (ipykernel)",
   "language": "python",
   "name": "python3"
  },
  "language_info": {
   "codemirror_mode": {
    "name": "ipython",
    "version": 3
   },
   "file_extension": ".py",
   "mimetype": "text/x-python",
   "name": "python",
   "nbconvert_exporter": "python",
   "pygments_lexer": "ipython3",
   "version": "3.11.7"
  }
 },
 "nbformat": 4,
 "nbformat_minor": 5
}
