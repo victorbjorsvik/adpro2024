{
 "cells": [
  {
   "cell_type": "markdown",
   "metadata": {},
   "source": [
    "# 04 Packaging and Software Deployment\n",
    "\n",
    "As we have seen, a single software project can envolve a lot of moving parts.\n",
    "\n",
    "You can develop a project with a considerable number of different packages. And all those packages __will have__ to interact with each other. Otherwise you may have format or variable conflicts inside your code. "
   ]
  },
  {
   "cell_type": "markdown",
   "metadata": {},
   "source": [
    "As you know by now, the main package manager for python is __pip__. But it is not the only package manager for python.\n",
    "\n",
    "There is some support with the native package manager of some operating systems. For Linux Debian, you can easily __apt-get__ some major packages. For Mac, you can use __brew__.\n",
    "\n",
    "When using __pip__, it usually fetches the code and compiles it on the spot for your specific machine. Laptops such as Macs usually (depends on the model) have processors that code information differently than most laptops. Every time you use a binary file, you have to adjust it to the type of __endian__ the procesor uses, for instance."
   ]
  },
  {
   "cell_type": "markdown",
   "metadata": {},
   "source": [
    "<div class=\"alert alert-warning\">\n",
    "    <b> pip and conda don't play well together! Conda doesn't mind pip, but pip likes to play alone!<b>\n",
    "        <br>\n",
    "    <b>Not all packages available on pip are available on conda and vice-versa<b>\n",
    "</div>"
   ]
  },
  {
   "cell_type": "markdown",
   "metadata": {},
   "source": [
    "---\n",
    "\n",
    "## Pre-compiled packages\n",
    "\n",
    "Some python packages may actually include compiled code from other languages, with something called a __wrapper__. You may also hear something like __pyhton bindings for [language x]__.\n",
    "\n",
    "The python interpreter, through some __bindings__ or \"interface rules\", is capable of acessing and running pre-compiled packages from other languages. For example, __numpy__ uses some __c++__ pre-compiled functionalities for efficiency's sake. Python manages to \"translate\" the results back and forth between the user input and the results.\n",
    "\n",
    "Due to the way our hardware infrastructures are set up, you need to acquire the python version of the package that brings with it the __binded__ package that is appropriate to your hardware configuration.\n",
    "\n",
    "A very famous example for you to understand why this is extremely important: we code our information in binary code. Processors understand '0' and '1'. What number in decimal notation is the following number in binary notation?"
   ]
  },
  {
   "cell_type": "code",
   "execution_count": null,
   "metadata": {},
   "outputs": [],
   "source": [
    "a = 1010"
   ]
  },
  {
   "cell_type": "markdown",
   "metadata": {},
   "source": [
    "| $$2^3$$ | $$2^2$$ | $$2^1$$ | $$2^0$$ | Number |\n",
    "|---|---|---|---|---|\n",
    "| 8 | 0 | 2 | 0 | 10 |"
   ]
  },
  {
   "cell_type": "markdown",
   "metadata": {},
   "source": [
    "### Endianness"
   ]
  },
  {
   "cell_type": "markdown",
   "metadata": {},
   "source": [
    "At this point we must address [Endianness](https://en.wikipedia.org/wiki/Endianness). Some processors address the __most signifficant__ bit as the right-most one. The \"word\", the binary code, has the less valuable bit at the end, reading from left to rigth. Intel and AMD processors have such behaviour and are called __Little-Endian__. IBM chipsets are the other way around, the most significant bit is left-most one. They are called __Big-Endian__.\n",
    "\n",
    "When collaborating on a project, you must take into account who generated the __binary files__ you are using! Even the most basic unit of information might be interpreted differently if you are using chipsets (processors) with different endianness. "
   ]
  },
  {
   "cell_type": "markdown",
   "metadata": {},
   "source": [
    "<div class=\"alert alert-info\">\n",
    "    <b> Try the following code with a colleague with a different CPU architecture!<b>\n",
    "</div>"
   ]
  },
  {
   "cell_type": "code",
   "execution_count": null,
   "metadata": {},
   "outputs": [],
   "source": [
    "from array import array\n",
    "\n",
    "output_file = open('filename_yourname.bin', 'wb')\n",
    "float_array = array('d', [1.01, 10, 0.0, -5.0, 12.12])\n",
    "float_array.tofile(output_file)\n",
    "output_file.close()"
   ]
  },
  {
   "cell_type": "code",
   "execution_count": null,
   "metadata": {},
   "outputs": [],
   "source": [
    "input_file = open('filename_yourname.bin', 'rb')\n",
    "float_array = array('d')\n",
    "float_array.fromstring(input_file.read())"
   ]
  },
  {
   "cell_type": "code",
   "execution_count": null,
   "metadata": {},
   "outputs": [],
   "source": [
    "float_array"
   ]
  },
  {
   "cell_type": "markdown",
   "metadata": {},
   "source": [
    "For the purposes in this course, it is best to either use ascii information like .txt or .csv files. There are also ways to save binary files and specify endiannes."
   ]
  },
  {
   "cell_type": "markdown",
   "metadata": {},
   "source": [
    "### Package manager and chipset\n",
    "\n",
    "When you install a package manager like conda, you must specify what is your OS. Conda is built in a way that discovers what your chipset is and accesses a repository of pre-compiled packages for a chipset as close as possible to yours.\n",
    "\n"
   ]
  },
  {
   "cell_type": "code",
   "execution_count": 1,
   "metadata": {},
   "outputs": [
    {
     "data": {
      "text/plain": [
       "'Intel64 Family 6 Model 142 Stepping 10, GenuineIntel'"
      ]
     },
     "execution_count": 1,
     "metadata": {},
     "output_type": "execute_result"
    }
   ],
   "source": [
    "import platform\n",
    "platform.processor()"
   ]
  },
  {
   "cell_type": "markdown",
   "metadata": {},
   "source": [
    "We now need to take a short look at the way a computer is built in order to understand how packaging functions. Take a look at the presentation named Package Managers and Virtual Environments in __Files__."
   ]
  }
 ],
 "metadata": {
  "kernelspec": {
   "display_name": "Python 3 (ipykernel)",
   "language": "python",
   "name": "python3"
  },
  "language_info": {
   "codemirror_mode": {
    "name": "ipython",
    "version": 3
   },
   "file_extension": ".py",
   "mimetype": "text/x-python",
   "name": "python",
   "nbconvert_exporter": "python",
   "pygments_lexer": "ipython3",
   "version": "3.11.7"
  }
 },
 "nbformat": 4,
 "nbformat_minor": 4
}
