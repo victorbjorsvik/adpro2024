{
 "cells": [
  {
   "cell_type": "markdown",
   "metadata": {},
   "source": [
    "# Advanced programming for data science 2612\n",
    "\n",
    "## Preparation exam, practical component\n",
    "\n",
    "* This is the practical part of an example exam for the course, with a similar structure to what you will encounter on the day of examination.\n",
    "* The exam will be accompanied by a quiz in Moodle.\n",
    "* The quiz will test the more theoretical elements of the course.\n",
    "* The quiz will have a similar structure to previous quizes, and covers the entire content of the class.\n",
    "* The total duration of the exam is shared between quiz and this component."
   ]
  },
  {
   "cell_type": "markdown",
   "metadata": {},
   "source": [
    "---\n",
    "<div class=\"alert alert-danger\">\n",
    "    <b>Make sure you have the following packages: numpy, matplotlib, pandas, seaborn, pytest.<b>\n",
    "</div>"
   ]
  },
  {
   "cell_type": "markdown",
   "metadata": {},
   "source": [
    "---"
   ]
  },
  {
   "cell_type": "markdown",
   "metadata": {},
   "source": [
    "## Welcome to micro project Icaras!\n",
    "\n",
    "Icaras is an anti-gravity racing team that is looking to win the FX450 anti-gravity racing league nest year. They need a data scientist to crunch some numbers and improve their craft's maximum speed. The mechanics ran some tests through the past weeks and give you the data they collected.\n",
    "\n",
    "The data you receive is the following:\n",
    "\n",
    "* cochranes: a measure of warp field distortion.\n",
    "* warp-ratio: ratio between the discombombulator and the sammoflange tolerance.\n",
    "* engine-size: manifold engine volume, adjusted for Belmondo space-compression.\n",
    "* compression-ratio: warp field compression equivalent of Casimir's force tested in a standard Montgomery scenario.\n",
    "* thrust: Thrust as normally defined.\n",
    "* peak-kph: top speed.\n",
    "* fuel-consumption: quantum depletion of the fuel cell in 1 over Planck's constant multiples per second times Daytrom's parameter.\n",
    "* test_day: date of the test for the configuration.\n",
    "\n",
    "Although you are not an anti-gravity expert, you know your way around data.\n",
    "\n",
    "The dataset for the tests is in the __drive_design_tests.csv__ file. With it, you are going to discover some findings about optimal engine configuration."
   ]
  },
  {
   "cell_type": "markdown",
   "metadata": {},
   "source": [
    "---\n",
    "## 1-Data reading\n",
    "\n",
    "1. Import pandas, numpy, and matpotlib.\n",
    "1. Read the dataset into a pandas dataframe. Does the data format look correct? Try to read pandas' documentation to check what parameter you need to delimit the data.\n",
    "1. Convert the date column into datetime. Set it as the index of the matrix. Plot any technical parameter over time with the datetime index.\n",
    "1. Print the head() of the transformed dataframe.\n",
    "\n",
    "---\n",
    "## 2-Initial data exploration\n",
    "\n",
    "1. Do a correlation matrix. What are the highest and lowest correlated pair of distinct variables?\n",
    "1. Do a pairplot (from Seaborn) of the dataframe. The pairplot and the correlation matrix should tell you which are the highest and most anti-correlated variables. An engineer tells you the parameter in need of more optimization is the __Cochranes__ parameter. Write down the variables corresponding to the lowest and highest correlation with the __Cochranes__ parameter.\n",
    "\n",
    "## 3-Additional data exploration\n",
    "1. Build a class called \"Feisar\". The class should be initialized in the \\_\\_init\\_\\_ method with the name of the file with the tests as a default str parameter. Make a simple one-line docstring for the class with a generic remark.\n",
    "1. The \\_\\_init\\_\\_ method should read and clean the dataframe like you did in step 1. The dataframe should now be a parameter of class Feisar.\n",
    "1. Add a function called __scatter()__ to the class that receives two strings. The strings correspond to the columns of the datafame.\n",
    "1. The function __scatter__ must plot a scatter plot of the chosen columns.\n",
    "1. The function __scatter__ should __raise__ on two occasions: 1) A ValueError if the two columns are identical (with an appropriate message) and 2) if one of the columns is not a string (again, with an appropriate message).\n",
    "1. Run the function three times, once for each combination of __Cochranes__ and the other two parameters.\n",
    "\n",
    "## 4-Hardening the process\n",
    "1. Write a small test for the __scatter__ function. The test should __Pass__ if the function __raise__ a TypeError if it receives an __int__. (If you run the test on the notebook, the test passes if it returns nothing. If you input two strings you should get a python error)\n",
    "\n",
    "## 5-Finding the recipe\n",
    "1. After discussing with a physicist, you find the textbook definition for __efficiency__. The formula is: $$\\frac{cochranes^2 \\times fuel-consumption}{engine-size}$$\n",
    "1. Add an __efficiency__ method to the class. The method receives no input. Inside the method, calculate the efficiency, and make a scatter plot where __cochranes__ is in the x-axis and __efficiency__ is the y-axis.\n",
    "1. Find out what's the the most efficient engine configuration and write it down.\n",
    "\n",
    "Maybes Icaras wins the League thanks to your efforts next year."
   ]
  }
 ],
 "metadata": {
  "kernelspec": {
   "display_name": "Python 3",
   "language": "python",
   "name": "python3"
  },
  "language_info": {
   "codemirror_mode": {
    "name": "ipython",
    "version": 3
   },
   "file_extension": ".py",
   "mimetype": "text/x-python",
   "name": "python",
   "nbconvert_exporter": "python",
   "pygments_lexer": "ipython3",
   "version": "3.8.5"
  }
 },
 "nbformat": 4,
 "nbformat_minor": 4
}
