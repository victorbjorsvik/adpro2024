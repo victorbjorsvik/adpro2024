{
 "cells": [
  {
   "cell_type": "markdown",
   "metadata": {},
   "source": [
    "# Advanced programming for data science 2612\n",
    "\n",
    "## 2021 Exam, practical component\n",
    "\n",
    "* The exam is accompanied by a quiz in Moodle.\n",
    "* The practical component is 80% of the total grade of the exam. The Quiz is thus 20% of the total grade of the exam.\n",
    "* The quiz will test the more theoretical elements of the course.\n",
    "* The quiz has a similar structure to previous quizes. You should spend 20 minutes on the quiz and the remaining here.\n",
    "* The total duration of the exam, 3 hours, is shared between quiz and this practical component."
   ]
  },
  {
   "cell_type": "markdown",
   "metadata": {},
   "source": [
    "---\n",
    "<div class=\"alert alert-danger\">\n",
    "    <b>Make sure you have the following packages: numpy, matplotlib, pandas, seaborn, pytest, python=3.8, jupyter-lab=3.0.<b>\n",
    "</div>"
   ]
  },
  {
   "cell_type": "markdown",
   "metadata": {},
   "source": [
    "<div class=\"alert alert-danger\">\n",
    "    <b>When instructed about a method of a class having \"no inputs\", remember we are not including \"self\". The \"self\" parameter should always be the first input of methods inside classes.<b>\n",
    "</div>"
   ]
  },
  {
   "cell_type": "markdown",
   "metadata": {},
   "source": [
    "<div class=\"alert alert-warning\">\n",
    "    <b>You may do things in a manner where you get a pandas warning for setting values in a dataframe. It is fine, just make sure the values are correct.<b>\n",
    "</div>"
   ]
  },
  {
   "cell_type": "markdown",
   "metadata": {},
   "source": [
    "---\n",
    "## Welcome to micro project BranStorm!\n",
    "\n",
    "BranStorm was a startup in 1987 that failed to launch. BranStorm's goal was to identify the healthiest cereal brand on the market, to make an advertising blitz of that cereal as \"the healthiest cereal\".\n",
    "\n",
    "During a week, BranStorm analysed the chemical components of several breakfast cereals on their most important nutritional aspects. They produced a dataset with the following information:\n",
    "\n",
    "* name: Name of the cereal\n",
    "* calories: calories per serving\n",
    "* protein: grams of protein per serving\n",
    "* fat: grams of fat per serving\n",
    "* sodium: miligrams of sodium per serving\n",
    "* fiber: grams of dietary fiber per serving\n",
    "* carbo: grams of complex carbohydrates per serving\n",
    "* sugars: grams of sugars per serving\n",
    "* potass: miligrams of postassium per serving\n",
    "* vitamins: vitamins and minerals - 0, 25, or 100, rounded percentage of recommended vitamins per serving\n",
    "* shelf: display shelf (1, 2, or 3, counting from the floor)\n",
    "* cups: number of cups in one serving\n",
    "* analysis_date: date when the nutrient analysis of the cereal was made\n",
    "\n",
    "You are a Data Scientist in the present working for the number 3 brand in the market, __FasT BreaK!__. The president of FasT BreaK! knows of the past efforts of BranStorm, as the study became an Urban Legend in the breakfast cereal world.\n",
    "\n",
    "Although you are not an expert on nutrition, you know your way around data, and you love breakfast cereals.\n",
    "\n",
    "The dataset for the tests is in the __cereals.csv__ file. With it, you are going to try and discover what happened to BranStorm's failed efforts. Your goal is to try to find what was the best cereal in 1987. With your findings, FasT BreaK! will try to learn what the best cereal can still look like today."
   ]
  },
  {
   "cell_type": "markdown",
   "metadata": {},
   "source": [
    "---\n",
    "# 1-Importing the data (10%)\n",
    "1. Import pandas, numpy, and matpotlib. You may also import seaborn if it helps you with plots.\n",
    "1. Read the dataset into a pandas dataframe. Does the data format look correct? Make sure you read the dataframe with the correct separator. Print the head() of the dataframe to be sure.\n",
    "\n",
    "# 2-Class for Data exploration\n",
    "\n",
    "You decide to create a class for the analysis process. If the study is picked up by the BreaK FasT! company in the future, you will be ready.\n",
    "\n",
    "## 2.1 - The \\_\\_init\\_\\_ (30%)\n",
    "\n",
    "1. Write a class called Cereal. In the \\_\\_init\\_\\_ method import the dataframe like you did before. The init() method should have two parameters, \"file_name\" and \"delimiter\". The dataframe should now be a parameter of the class (i.e. self.df = ...).\n",
    "1. (Still in the init()) The nutritionist you are consulting tells you the __Alkaline Content__ is the sum of __Sodium+Potassium__ and is a very important parameter. Make a column in the dataframe called __\"alk_con\"__ which is the sum of the two relevant kpis.\n",
    "1. From self.df, create a new class parameter called self.nutritional_df, which will be a dataframe. This dataframe should only hold the __nutritional components__ of your original dataset: calories, protein, fat, fiber, carbo, sugars, vitamins, and alkaline content.\n",
    "1. Since you are planning on doing correlations among KPIs in the future, add the following to the class:\n",
    "\n",
    "```python\n",
    "self.correlation_matrix = None\n",
    "```\n",
    "\n",
    "## 2.2 - The daily_analysis (15%)\n",
    "\n",
    "1. Create a method of Cereal called daily_analysis.\n",
    "1. Convert the analysis_date column of self.df into datetime. Make a new column in the dataframe with the corresponding weekday or name of the week day. The method has no output nor additional inputs. The method should plot a matplotlib barplot or a seaborn countplot of the number of total_tests per weekday (or name of the week day, whichever you chose previously).\n",
    "\n",
    "## 2.3 - corr (15%)\n",
    "\n",
    "1. Write a corr() method for class Cereal. Calculate the correlation matrix of the nutritional_df dataframe and store it the appropriate parameter you created in \\_\\_init\\_\\_. \n",
    "1. The corr() method should also plot the correlation plot between the __nutritional components__ of your dataset: calories, protein, fat, fiber, carbo, sugars, vitamins, and alkaline content, that you previously stored in self.nutritional_df.\n",
    "\n",
    "\n",
    "## 2.4 - vita (10%)\n",
    "\n",
    "Whilst researching scientific papers about nutrition, you discover that there is great parameter called __vita__ (from the Latin \"life\") which describes how healty food is based on its nutritional value. The formula is\n",
    "\n",
    "$$\\frac{fiber \\times protein}{sugars \\times alkaline-content}$$\n",
    "\n",
    "and the units for the formula are already the ones you have for the dataframe.\n",
    "\n",
    "1. Add a vita() method to Cereal.\n",
    "1. Calculate the vita parameter from the formula inside the vita() method.\n",
    "1. The vita() method should do a scatter plot of the vita parameter as a function of the sugars column.\n",
    "\n",
    "\n",
    "# 3-Assembling the story (10%)\n",
    "\n",
    "1. Create an instance __cereal__ of class __Cereal__.\n",
    "1. Run the daily_analysis, corr, and vita methods. You should have 3 plots.\n",
    "1. In which day of the week did BranStorm conduct more tests, according to your plot? This will tell how many tests you can do in a day, in the future. \n",
    "1. The perfect cereal should have a low __Alkaline Content__. However, the correlation matrix shows an interesting relation between __alkaline content__ and all the other nutritional KPIs. What happens to __alkaline content__ if we increase fiber, protein, or vitamins? To clarify to all KPIs, use a sort_values method on the correlation matrix filtered by __alk_con__. Example: cereal.correlation_matrix['alk_con'].sort_values(). What are the two other most correlated nutritional KPIs with 'alk_con'? (you can do this outside of the class). These two KPIs actually make sense, given the numerator for vita.\n",
    "1. Knowing the variables must all be positive, what can you tell by the plot vita() produces?\n",
    "\n",
    "# 4-The sweet spot (10%)\n",
    "\n",
    "By now you realise the previous team in 1987 made a serious error when inputting the \"sugars\" data. While consulting the original database, you notice an extra negative sign in the entry.\n",
    "\n",
    "1. Add an input parameter to the vita method (keep editing your class). This input should be called \"absolute\" and should have a default boolean value of False. If boolean is set to True, vita should change the value of self.nutrition_df to its absoulute value (use numpy's np.abs to replace self.nutrition_df with  the absolute value of self.nutrition_df).\n",
    "1. To harden the process, if vita receives an entry for the absolute \"absolute\" with a __type__ other than bool, it should raise the appropriate error with a clear message to the user.\n",
    "1. Run the new declaration of Cereal with the vita method now receiving \"absolute\" as __True__.\n",
    "1. Can you identify which was the champion cereal in 1987? It should be the cereal with the lower sugars and highest vita, after correction.\n",
    "\n",
    "<div class=\"alert alert-warning\">\n",
    "    <b>Don't forget to write one-line docstrings where appropriate.<b>\n",
    "</div>\n",
    "\n",
    "---"
   ]
  }
 ],
 "metadata": {
  "kernelspec": {
   "display_name": "Python 3",
   "language": "python",
   "name": "python3"
  },
  "language_info": {
   "codemirror_mode": {
    "name": "ipython",
    "version": 3
   },
   "file_extension": ".py",
   "mimetype": "text/x-python",
   "name": "python",
   "nbconvert_exporter": "python",
   "pygments_lexer": "ipython3",
   "version": "3.8.5"
  }
 },
 "nbformat": 4,
 "nbformat_minor": 4
}
