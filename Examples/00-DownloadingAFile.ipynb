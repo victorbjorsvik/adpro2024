{
 "cells": [
  {
   "cell_type": "markdown",
   "metadata": {},
   "source": [
    "# Downloading a file with python\n",
    "\n",
    "You might need for your code to download a file as part of your workflow. But if you already have it and you call the function, you might want to avoid downloading the file again, especially if it is a large file.\n",
    "To do so, we will use ```urlretrieve``` form the ```urllib``` module."
   ]
  },
  {
   "cell_type": "code",
   "execution_count": 6,
   "metadata": {},
   "outputs": [],
   "source": [
    "from urllib.request import urlretrieve\n",
    "\n",
    "def download_file(file_link):\n",
    "    \"\"\"\n",
    "    Downloads a file from URL \"file_link\"\n",
    "    \"\"\"\n",
    "    \n",
    "    # We need to pass a link to the file we wish to download \n",
    "    urlretrieve(file_link, filename='file.csv')"
   ]
  },
  {
   "cell_type": "code",
   "execution_count": 8,
   "metadata": {},
   "outputs": [],
   "source": [
    "target_url = \"https://archive.ics.uci.edu/ml/machine-learning-databases/00320/student.zip\"\n",
    "\n",
    "download_file(target_url)"
   ]
  },
  {
   "cell_type": "markdown",
   "metadata": {},
   "source": [
    "As you can see in your directory, you have just downloaded the file with a new name. But you are downloading a .zip file. You might want to control how to save it. Let's do a better version of the function:"
   ]
  },
  {
   "cell_type": "code",
   "execution_count": 11,
   "metadata": {},
   "outputs": [],
   "source": [
    "from urllib.request import urlretrieve\n",
    "\n",
    "def download_file(file_link: str, output_file: str='file.csv'):\n",
    "    \"\"\"\n",
    "    Downloads a file from an URL into your hard drive.\n",
    "    \n",
    "    Parameters\n",
    "    ------------\n",
    "    file_link: str\n",
    "        A string containing the link to the file you wish to download.\n",
    "    output_file: str\n",
    "        A string containing the name of the output file. The default value is 'file.csv'\n",
    "        at the location you are running the function.\n",
    "        \n",
    "    Returns\n",
    "    ---------\n",
    "    Nothing\n",
    "    \n",
    "    \n",
    "    Example\n",
    "    ---------\n",
    "    download_file(\"https://archive.ics.uci.edu/ml/machine-learning-databases/00320/student.zip\", output_file='student.zip')\n",
    "    \"\"\"\n",
    "    \n",
    "    # We need to pass a link to the file we wish to download \n",
    "    urlretrieve(file_link, filename=output_file)"
   ]
  },
  {
   "cell_type": "code",
   "execution_count": 48,
   "metadata": {},
   "outputs": [],
   "source": [
    "#Just copy and paste the Example from the documentation:\n",
    "download_file(\"https://archive.ics.uci.edu/ml/machine-learning-databases/00320/student.zip\", output_file='student.zip')"
   ]
  },
  {
   "cell_type": "markdown",
   "metadata": {},
   "source": [
    "OK, so far, so good. But we need to make sure the code has an additional feature:\n",
    "* Do not download the file, if the file already exists\n",
    "\n",
    "Let's handle it."
   ]
  },
  {
   "cell_type": "code",
   "execution_count": 47,
   "metadata": {},
   "outputs": [],
   "source": [
    "from urllib.request import urlretrieve\n",
    "import os # we want python to be able to read what we have in our hard drive\n",
    "\n",
    "\n",
    "def download_file(file_link: str, output_file: str='file.csv'):\n",
    "    \"\"\"\n",
    "    Downloads a file from an URL into your hard drive.\n",
    "    \n",
    "    Parameters\n",
    "    ------------\n",
    "    file_link: str\n",
    "        A string containing the link to the file you wish to download.\n",
    "    output_file: str\n",
    "        A string containing the name of the output file. The default value is 'file.csv'\n",
    "        at the location you are running the function.\n",
    "        \n",
    "    Returns\n",
    "    ---------\n",
    "    Nothing\n",
    "    \n",
    "    \n",
    "    Example\n",
    "    ---------\n",
    "    download_file(\"https://archive.ics.uci.edu/ml/machine-learning-databases/00320/student.zip\", output_file='student.zip')\n",
    "    \"\"\"\n",
    "    \n",
    "    # If file doesn't exist, download it. Else, print a warning message.\n",
    "    if not os.path.exists(output_file):\n",
    "        urlretrieve(file_link, filename=output_file)\n",
    "    else:\n",
    "        print(\"File already exists!\")"
   ]
  },
  {
   "cell_type": "code",
   "execution_count": 46,
   "metadata": {},
   "outputs": [
    {
     "name": "stdout",
     "output_type": "stream",
     "text": [
      "File already exists!\n"
     ]
    }
   ],
   "source": [
    "download_file(\"https://archive.ics.uci.edu/ml/machine-learning-databases/00320/student.zip\", output_file='student.zip')"
   ]
  },
  {
   "cell_type": "markdown",
   "metadata": {},
   "source": [
    "Notice that if you change the ```output_file``` variable, the code will download it again.\n",
    "\n",
    "Our function is ready to be placed in a .py file and be used in other code we wish to develop.\n",
    "\n",
    "The code prototyped here is now in filedownload.py"
   ]
  }
 ],
 "metadata": {
  "kernelspec": {
   "display_name": "Python 3",
   "language": "python",
   "name": "python3"
  },
  "language_info": {
   "codemirror_mode": {
    "name": "ipython",
    "version": 3
   },
   "file_extension": ".py",
   "mimetype": "text/x-python",
   "name": "python",
   "nbconvert_exporter": "python",
   "pygments_lexer": "ipython3",
   "version": "3.7.9"
  }
 },
 "nbformat": 4,
 "nbformat_minor": 4
}
